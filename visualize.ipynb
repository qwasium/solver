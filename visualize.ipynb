{
 "cells": [
  {
   "cell_type": "markdown",
   "id": "bca9f8ee",
   "metadata": {},
   "source": [
    "# Solver"
   ]
  },
  {
   "cell_type": "code",
   "execution_count": 2,
   "id": "f266af06",
   "metadata": {},
   "outputs": [
    {
     "data": {
      "text/plain": [
       "PosixPath('/home/hangman/Documents/solver')"
      ]
     },
     "execution_count": 2,
     "metadata": {},
     "output_type": "execute_result"
    }
   ],
   "source": [
    "from pathlib import Path\n",
    "import os\n",
    "import copy\n",
    "\n",
    "import yaml\n",
    "import numpy as np\n",
    "import pandas as pd\n",
    "import matplotlib.pyplot as plt\n",
    "\n",
    "HERE = Path(os.getcwd()) # Path(__file__) won't work in Jupyter\n",
    "HERE"
   ]
  },
  {
   "cell_type": "markdown",
   "id": "d5a5749a",
   "metadata": {},
   "source": [
    "## Config file\n",
    "\n",
    "Create yaml file and pass as command line argument.\n",
    "Defaults to `config/settings.yaml`\n",
    "\n",
    "`model`(str): Choose model from\n",
    "\n",
    "- `vibration`\n",
    "- `fall`\n",
    "\n",
    "`init_acceleration`(float): Initial acceleration value.\n",
    "\n",
    "`init_velocity`(float): Initial velocity value.\n",
    "\n",
    "`init_position`(float): Initial position value.\n",
    "\n",
    "`acc_fname`(str): Name of the acceleration file.\n",
    "\n",
    "`vel_fname`(str): Name of the velocity file.\n",
    "\n",
    "`pos_fname`(str): Name of the position file.\n",
    "\n",
    "`model_params`(dict): Model parameters.\n",
    "\n",
    "- `model` = \"vibration\"\n",
    "  - `mass`(float): Mass of the object.\n",
    "  - `spring`(float): Spring constant.\n",
    "  - `amplitude`(float): Amplitude of external force.\n",
    "  - `frequency`(float): Frequency of external force.\n",
    "- `model` = \"fall\"\n",
    "  - `mass`(float): Mass of the object.\n",
    "  - `height`(float): Initial height from which the object is falling.\n"
   ]
  },
  {
   "cell_type": "code",
   "execution_count": 3,
   "id": "cc2b1b02",
   "metadata": {},
   "outputs": [
    {
     "data": {
      "text/plain": [
       "{'acc_fname': 'acceleration.csv',\n",
       " 'init_acceleration': 0.0,\n",
       " 'init_position': 0.0,\n",
       " 'init_velocity': 0.0,\n",
       " 'model': 'vibration',\n",
       " 'model_params': {'amplitude': 5, 'frequency': 3, 'mass': 10, 'spring': 10},\n",
       " 'pos_fname': 'position.csv',\n",
       " 'time_end': 15,\n",
       " 'time_step': 0.1,\n",
       " 'vel_fname': 'velocity.csv'}"
      ]
     },
     "execution_count": 3,
     "metadata": {},
     "output_type": "execute_result"
    }
   ],
   "source": [
    "with open(HERE / 'config' / 'settings.yaml') as f:\n",
    "    config = yaml.safe_load(f)\n",
    "config"
   ]
  },
  {
   "cell_type": "code",
   "execution_count": 4,
   "id": "1c5f105e",
   "metadata": {},
   "outputs": [],
   "source": [
    "vib_config = {\n",
    "    'model'            : 'forced_vibration',\n",
    "    'time_end'         : 15,\n",
    "    'time_step'        : 0.1,\n",
    "    'init_acceleration': 0.0,\n",
    "    'init_velocity'    : 0.0,\n",
    "    'init_position'    : 0.0,\n",
    "    'acc_fname'        : 'acceleration.csv',\n",
    "    'vel_fname'        : 'velocity.csv',\n",
    "    'pos_fname'        : 'position.csv',\n",
    "    'model_params': {\n",
    "        \"mass\"     : 10,\n",
    "        \"spring\"   : 10,\n",
    "        \"amplitude\": 5,\n",
    "        \"frequency\": 3,\n",
    "    }\n",
    "}\n",
    "# with open(HERE / 'config' / 'vibration-tmp.yaml', 'w') as f:\n",
    "#     yaml.dump(vib_config, f)"
   ]
  },
  {
   "cell_type": "markdown",
   "id": "2087eb3e",
   "metadata": {},
   "source": [
    "## Simulation\n",
    "\n",
    "```bash\n",
    "cargo run path/to/config.yaml\n",
    "# cargo run #default-> config/settings.yaml\n",
    "```\n",
    "\n",
    "### Output\n",
    "\n",
    "- `result/`\n",
    "  - `<config[\"acc_fname\"]>.csv`\n",
    "  - `<config[\"velocity_fname\"]>.csv`\n",
    "  - `<config[\"pos_fname\"]>.csv`\n"
   ]
  },
  {
   "cell_type": "code",
   "execution_count": null,
   "id": "bfb27290",
   "metadata": {},
   "outputs": [],
   "source": [
    "def run_sim(config: dict):\n",
    "    config_path = HERE / \"config\" / \"tmp.yaml\"\n",
    "    with open(config_path, \"w\") as f:\n",
    "        yaml.dump(config, f)\n",
    "    os.system(f\"cargo run {config_path}\")\n",
    "    os.unlink(config_path)"
   ]
  },
  {
   "cell_type": "markdown",
   "id": "eef2802a",
   "metadata": {},
   "source": [
    "## Plot"
   ]
  },
  {
   "cell_type": "code",
   "execution_count": null,
   "id": "7bbf7d19",
   "metadata": {},
   "outputs": [],
   "source": []
  },
  {
   "cell_type": "code",
   "execution_count": 6,
   "id": "d27599e3",
   "metadata": {},
   "outputs": [],
   "source": [
    "def plot_data(df) -> plt:\n",
    "    # plt.plot(\n",
    "    #     df[\"timestamp\"], df[\"analytical\"],\n",
    "    #     label=\"analytical\",\n",
    "    #     color=\"green\"\n",
    "    # )\n",
    "    plt.plot(\n",
    "        df[\"timestamp\"], df[\"euler\"],\n",
    "        label=\"euler\",\n",
    "        color=\"blue\",\n",
    "        linestyle=\"--\"\n",
    "    )\n",
    "    plt.plot(\n",
    "        df[\"timestamp\"], df[\"rk4\"],\n",
    "        label=\"Runge-Kutta\",\n",
    "        color=\"magenta\",\n",
    "        linestyle=\":\"\n",
    "    )\n",
    "    plt.legend()\n",
    "    return plt"
   ]
  },
  {
   "cell_type": "code",
   "execution_count": null,
   "id": "9e73aefb",
   "metadata": {},
   "outputs": [],
   "source": [
    "def plot_axs(axs, df):\n",
    "    axs.plot(\n",
    "        df[\"timestamp\"], df[\"euler\"],\n",
    "        label=\"euler\",\n",
    "        color=\"blue\",\n",
    "        linestyle=\"--\"\n",
    "    )\n",
    "    axs.plot(\n",
    "        df[\"timestamp\"], df[\"rk4\"],\n",
    "        label=\"Runge-Kutta\",\n",
    "        color=\"orange\",\n",
    "        linestyle=\":\"\n",
    "    )\n",
    "\n",
    "\n",
    "def plot_all(acc_df, vel_df, pos_df):\n",
    "    fig, axs = plt.subplots(3, 1, figsize=(10, 15))\n",
    "    fig.suptitle('Motion Analysis')\n",
    "\n",
    "    plot_axs(axs[0], acc_df)\n",
    "    axs[0].set_ylabel('Acceleration')\n",
    "    axs[0].legend()\n",
    "\n",
    "    plot_axs(axs[1], vel_df)\n",
    "    axs[1].set_ylabel('Velocity')\n",
    "    axs[1].legend()\n",
    "\n",
    "    plot_axs(axs[2], pos_df)\n",
    "    axs[2].set_ylabel('Position')\n",
    "    axs[2].legend()\n",
    "\n",
    "    plt.xlabel('Time (s)')\n",
    "    plt.legend()\n",
    "    plt.show()"
   ]
  },
  {
   "cell_type": "code",
   "execution_count": null,
   "id": "65955a18",
   "metadata": {},
   "outputs": [],
   "source": []
  },
  {
   "cell_type": "markdown",
   "id": "d0af5f46",
   "metadata": {},
   "source": [
    "### $a(t)$ (acceleration)"
   ]
  },
  {
   "cell_type": "code",
   "execution_count": 7,
   "id": "cf7d5ce1",
   "metadata": {},
   "outputs": [
    {
     "data": {
      "application/vnd.microsoft.datawrangler.viewer.v0+json": {
       "columns": [
        {
         "name": "index",
         "rawType": "int64",
         "type": "integer"
        },
        {
         "name": "timestamp",
         "rawType": "float64",
         "type": "float"
        },
        {
         "name": "euler",
         "rawType": "float64",
         "type": "float"
        },
        {
         "name": "rk4",
         "rawType": "float64",
         "type": "float"
        }
       ],
       "ref": "0177db81-c05d-423c-aa0a-2efaff722902",
       "rows": [
        [
         "0",
         "0.0",
         "0.0",
         "0.0"
        ],
        [
         "1",
         "0.1",
         "0.05",
         "0.04908856"
        ],
        [
         "2",
         "0.2",
         "0.09775433",
         "0.09355019"
        ],
        [
         "3",
         "0.3",
         "0.13894668",
         "0.12942329"
        ],
        [
         "4",
         "0.4",
         "0.1697947",
         "0.15350242"
        ],
        [
         "5",
         "0.5",
         "0.18738568",
         "0.16361691"
        ],
        [
         "6",
         "0.6",
         "0.18993475",
         "0.15881446"
        ],
        [
         "7",
         "0.70000005",
         "0.17694232",
         "0.13943462"
        ],
        [
         "8",
         "0.8000001",
         "0.14923713",
         "0.1070665"
        ],
        [
         "9",
         "0.9000001",
         "0.10890072",
         "0.064395875"
        ],
        [
         "10",
         "1.0000001",
         "0.059080478",
         "0.014956258"
        ],
        [
         "11",
         "1.1000001",
         "0.0037077814",
         "-0.03719286"
        ],
        [
         "12",
         "1.2000002",
         "-0.0528534",
         "-0.08783111"
        ],
        [
         "13",
         "1.3000002",
         "-0.10619606",
         "-0.13295285"
        ],
        [
         "14",
         "1.4000002",
         "-0.1522629",
         "-0.16911954"
        ],
        [
         "15",
         "1.5000002",
         "-0.18770726",
         "-0.19375773"
        ],
        [
         "16",
         "1.6000003",
         "-0.21018988",
         "-0.20537671"
        ],
        [
         "17",
         "1.7000003",
         "-0.2185848",
         "-0.20368707"
        ],
        [
         "18",
         "1.8000003",
         "-0.21307617",
         "-0.18961051"
        ],
        [
         "19",
         "1.9000003",
         "-0.19513705",
         "-0.16518128"
        ],
        [
         "20",
         "2.0000002",
         "-0.16739225",
         "-0.13334878"
        ],
        [
         "21",
         "2.1000001",
         "-0.1333772",
         "-0.097700074"
        ],
        [
         "22",
         "2.2",
         "-0.09721452",
         "-0.062127694"
        ],
        [
         "23",
         "2.3",
         "-0.0632371",
         "-0.030472867"
        ],
        [
         "24",
         "2.3999999",
         "-0.03559123",
         "-0.006176235"
        ],
        [
         "25",
         "2.4999998",
         "-0.01785542",
         "0.008032885"
        ],
        [
         "26",
         "2.5999997",
         "-0.012708673",
         "0.010381365"
        ],
        [
         "27",
         "2.6999996",
         "-0.021678224",
         "0.0002100505"
        ],
        [
         "28",
         "2.7999995",
         "-0.044988774",
         "-0.021968823"
        ],
        [
         "29",
         "2.8999994",
         "-0.08152737",
         "-0.054518837"
        ],
        [
         "30",
         "2.9999993",
         "-0.12892634",
         "-0.094825916"
        ],
        [
         "31",
         "3.0999992",
         "-0.18375778",
         "-0.13953042"
        ],
        [
         "32",
         "3.199999",
         "-0.24182147",
         "-0.1848233"
        ],
        [
         "33",
         "3.299999",
         "-0.29850122",
         "-0.22677943"
        ],
        [
         "34",
         "3.399999",
         "-0.34915763",
         "-0.26169795"
        ],
        [
         "35",
         "3.4999988",
         "-0.38952222",
         "-0.2864197"
        ],
        [
         "36",
         "3.5999987",
         "-0.4160583",
         "-0.2985934"
        ],
        [
         "37",
         "3.6999986",
         "-0.42625582",
         "-0.29686764"
        ],
        [
         "38",
         "3.7999985",
         "-0.4188349",
         "-0.28099227"
        ],
        [
         "39",
         "3.8999984",
         "-0.39383918",
         "-0.25182122"
        ],
        [
         "40",
         "3.9999983",
         "-0.3526117",
         "-0.21121733"
        ],
        [
         "41",
         "4.0999985",
         "-0.297655",
         "-0.16186897"
        ],
        [
         "42",
         "4.1999984",
         "-0.23238885",
         "-0.10703555"
        ],
        [
         "43",
         "4.2999983",
         "-0.16082703",
         "-0.050245397"
        ],
        [
         "44",
         "4.399998",
         "-0.08720252",
         "0.0050264"
        ],
        [
         "45",
         "4.499998",
         "-0.015575118",
         "0.055671293"
        ],
        [
         "46",
         "4.599998",
         "0.050543554",
         "0.099223584"
        ],
        [
         "47",
         "4.699998",
         "0.10851331",
         "0.13407548"
        ],
        [
         "48",
         "4.799998",
         "0.15680805",
         "0.15961212"
        ],
        [
         "49",
         "4.8999977",
         "0.19515568",
         "0.17625499"
        ]
       ],
       "shape": {
        "columns": 3,
        "rows": 151
       }
      },
      "text/html": [
       "<div>\n",
       "<style scoped>\n",
       "    .dataframe tbody tr th:only-of-type {\n",
       "        vertical-align: middle;\n",
       "    }\n",
       "\n",
       "    .dataframe tbody tr th {\n",
       "        vertical-align: top;\n",
       "    }\n",
       "\n",
       "    .dataframe thead th {\n",
       "        text-align: right;\n",
       "    }\n",
       "</style>\n",
       "<table border=\"1\" class=\"dataframe\">\n",
       "  <thead>\n",
       "    <tr style=\"text-align: right;\">\n",
       "      <th></th>\n",
       "      <th>timestamp</th>\n",
       "      <th>euler</th>\n",
       "      <th>rk4</th>\n",
       "    </tr>\n",
       "  </thead>\n",
       "  <tbody>\n",
       "    <tr>\n",
       "      <th>0</th>\n",
       "      <td>0.000000</td>\n",
       "      <td>0.000000</td>\n",
       "      <td>0.000000</td>\n",
       "    </tr>\n",
       "    <tr>\n",
       "      <th>1</th>\n",
       "      <td>0.100000</td>\n",
       "      <td>0.050000</td>\n",
       "      <td>0.049089</td>\n",
       "    </tr>\n",
       "    <tr>\n",
       "      <th>2</th>\n",
       "      <td>0.200000</td>\n",
       "      <td>0.097754</td>\n",
       "      <td>0.093550</td>\n",
       "    </tr>\n",
       "    <tr>\n",
       "      <th>3</th>\n",
       "      <td>0.300000</td>\n",
       "      <td>0.138947</td>\n",
       "      <td>0.129423</td>\n",
       "    </tr>\n",
       "    <tr>\n",
       "      <th>4</th>\n",
       "      <td>0.400000</td>\n",
       "      <td>0.169795</td>\n",
       "      <td>0.153502</td>\n",
       "    </tr>\n",
       "    <tr>\n",
       "      <th>...</th>\n",
       "      <td>...</td>\n",
       "      <td>...</td>\n",
       "      <td>...</td>\n",
       "    </tr>\n",
       "    <tr>\n",
       "      <th>146</th>\n",
       "      <td>14.600019</td>\n",
       "      <td>71.665670</td>\n",
       "      <td>18.712350</td>\n",
       "    </tr>\n",
       "    <tr>\n",
       "      <th>147</th>\n",
       "      <td>14.700020</td>\n",
       "      <td>71.866000</td>\n",
       "      <td>20.293740</td>\n",
       "    </tr>\n",
       "    <tr>\n",
       "      <th>148</th>\n",
       "      <td>14.800020</td>\n",
       "      <td>71.340620</td>\n",
       "      <td>21.867410</td>\n",
       "    </tr>\n",
       "    <tr>\n",
       "      <th>149</th>\n",
       "      <td>14.900021</td>\n",
       "      <td>70.013430</td>\n",
       "      <td>23.421366</td>\n",
       "    </tr>\n",
       "    <tr>\n",
       "      <th>150</th>\n",
       "      <td>15.000021</td>\n",
       "      <td>67.809200</td>\n",
       "      <td>24.943348</td>\n",
       "    </tr>\n",
       "  </tbody>\n",
       "</table>\n",
       "<p>151 rows × 3 columns</p>\n",
       "</div>"
      ],
      "text/plain": [
       "     timestamp      euler        rk4\n",
       "0     0.000000   0.000000   0.000000\n",
       "1     0.100000   0.050000   0.049089\n",
       "2     0.200000   0.097754   0.093550\n",
       "3     0.300000   0.138947   0.129423\n",
       "4     0.400000   0.169795   0.153502\n",
       "..         ...        ...        ...\n",
       "146  14.600019  71.665670  18.712350\n",
       "147  14.700020  71.866000  20.293740\n",
       "148  14.800020  71.340620  21.867410\n",
       "149  14.900021  70.013430  23.421366\n",
       "150  15.000021  67.809200  24.943348\n",
       "\n",
       "[151 rows x 3 columns]"
      ]
     },
     "execution_count": 7,
     "metadata": {},
     "output_type": "execute_result"
    }
   ],
   "source": [
    "acc_df = pd.read_csv(\n",
    "    HERE / 'result' / 'acceleration.csv'\n",
    ")\n",
    "acc_df"
   ]
  },
  {
   "cell_type": "code",
   "execution_count": 8,
   "id": "a8b24c68",
   "metadata": {},
   "outputs": [
    {
     "data": {
      "image/png": "[encoded data removed]",
      "text/plain": [
       "<Figure size 640x480 with 1 Axes>"
      ]
     },
     "metadata": {},
     "output_type": "display_data"
    }
   ],
   "source": [
    "plot_data(acc_df).show()"
   ]
  },
  {
   "cell_type": "markdown",
   "id": "848170c9",
   "metadata": {},
   "source": [
    "### $v(t)$ (velocity: 1st integral)"
   ]
  },
  {
   "cell_type": "code",
   "execution_count": 9,
   "id": "1d2ee33d",
   "metadata": {},
   "outputs": [
    {
     "data": {
      "application/vnd.microsoft.datawrangler.viewer.v0+json": {
       "columns": [
        {
         "name": "index",
         "rawType": "int64",
         "type": "integer"
        },
        {
         "name": "timestamp",
         "rawType": "float64",
         "type": "float"
        },
        {
         "name": "euler",
         "rawType": "float64",
         "type": "float"
        },
        {
         "name": "rk4",
         "rawType": "float64",
         "type": "float"
        }
       ],
       "ref": "a37b75e3-81a9-425f-be57-9cabd7b7e64d",
       "rows": [
        [
         "0",
         "0.0",
         "0.0",
         "0.0"
        ],
        [
         "1",
         "0.1",
         "0.05",
         "0.04908856"
        ],
        [
         "2",
         "0.2",
         "0.09775433",
         "0.09355019"
        ],
        [
         "3",
         "0.3",
         "0.13894668",
         "0.12942329"
        ],
        [
         "4",
         "0.4",
         "0.1697947",
         "0.15350242"
        ],
        [
         "5",
         "0.5",
         "0.18738568",
         "0.16361691"
        ],
        [
         "6",
         "0.6",
         "0.18993475",
         "0.15881446"
        ],
        [
         "7",
         "0.70000005",
         "0.17694232",
         "0.13943462"
        ],
        [
         "8",
         "0.8000001",
         "0.14923713",
         "0.1070665"
        ],
        [
         "9",
         "0.9000001",
         "0.10890072",
         "0.064395875"
        ],
        [
         "10",
         "1.0000001",
         "0.059080478",
         "0.014956258"
        ],
        [
         "11",
         "1.1000001",
         "0.0037077814",
         "-0.03719286"
        ],
        [
         "12",
         "1.2000002",
         "-0.0528534",
         "-0.08783111"
        ],
        [
         "13",
         "1.3000002",
         "-0.10619606",
         "-0.13295285"
        ],
        [
         "14",
         "1.4000002",
         "-0.1522629",
         "-0.16911954"
        ],
        [
         "15",
         "1.5000002",
         "-0.18770726",
         "-0.19375773"
        ],
        [
         "16",
         "1.6000003",
         "-0.21018988",
         "-0.20537671"
        ],
        [
         "17",
         "1.7000003",
         "-0.2185848",
         "-0.20368707"
        ],
        [
         "18",
         "1.8000003",
         "-0.21307617",
         "-0.18961051"
        ],
        [
         "19",
         "1.9000003",
         "-0.19513705",
         "-0.16518128"
        ],
        [
         "20",
         "2.0000002",
         "-0.16739225",
         "-0.13334878"
        ],
        [
         "21",
         "2.1000001",
         "-0.1333772",
         "-0.097700074"
        ],
        [
         "22",
         "2.2",
         "-0.09721452",
         "-0.062127694"
        ],
        [
         "23",
         "2.3",
         "-0.0632371",
         "-0.030472867"
        ],
        [
         "24",
         "2.3999999",
         "-0.03559123",
         "-0.006176235"
        ],
        [
         "25",
         "2.4999998",
         "-0.01785542",
         "0.008032885"
        ],
        [
         "26",
         "2.5999997",
         "-0.012708673",
         "0.010381365"
        ],
        [
         "27",
         "2.6999996",
         "-0.021678224",
         "0.0002100505"
        ],
        [
         "28",
         "2.7999995",
         "-0.044988774",
         "-0.021968823"
        ],
        [
         "29",
         "2.8999994",
         "-0.08152737",
         "-0.054518837"
        ],
        [
         "30",
         "2.9999993",
         "-0.12892634",
         "-0.094825916"
        ],
        [
         "31",
         "3.0999992",
         "-0.18375778",
         "-0.13953042"
        ],
        [
         "32",
         "3.199999",
         "-0.24182147",
         "-0.1848233"
        ],
        [
         "33",
         "3.299999",
         "-0.29850122",
         "-0.22677943"
        ],
        [
         "34",
         "3.399999",
         "-0.34915763",
         "-0.26169795"
        ],
        [
         "35",
         "3.4999988",
         "-0.38952222",
         "-0.2864197"
        ],
        [
         "36",
         "3.5999987",
         "-0.4160583",
         "-0.2985934"
        ],
        [
         "37",
         "3.6999986",
         "-0.42625582",
         "-0.29686764"
        ],
        [
         "38",
         "3.7999985",
         "-0.4188349",
         "-0.28099227"
        ],
        [
         "39",
         "3.8999984",
         "-0.39383918",
         "-0.25182122"
        ],
        [
         "40",
         "3.9999983",
         "-0.3526117",
         "-0.21121733"
        ],
        [
         "41",
         "4.0999985",
         "-0.297655",
         "-0.16186897"
        ],
        [
         "42",
         "4.1999984",
         "-0.23238885",
         "-0.10703555"
        ],
        [
         "43",
         "4.2999983",
         "-0.16082703",
         "-0.050245397"
        ],
        [
         "44",
         "4.399998",
         "-0.08720252",
         "0.0050264"
        ],
        [
         "45",
         "4.499998",
         "-0.015575118",
         "0.055671293"
        ],
        [
         "46",
         "4.599998",
         "0.050543554",
         "0.099223584"
        ],
        [
         "47",
         "4.699998",
         "0.10851331",
         "0.13407548"
        ],
        [
         "48",
         "4.799998",
         "0.15680805",
         "0.15961212"
        ],
        [
         "49",
         "4.8999977",
         "0.19515568",
         "0.17625499"
        ]
       ],
       "shape": {
        "columns": 3,
        "rows": 151
       }
      },
      "text/html": [
       "<div>\n",
       "<style scoped>\n",
       "    .dataframe tbody tr th:only-of-type {\n",
       "        vertical-align: middle;\n",
       "    }\n",
       "\n",
       "    .dataframe tbody tr th {\n",
       "        vertical-align: top;\n",
       "    }\n",
       "\n",
       "    .dataframe thead th {\n",
       "        text-align: right;\n",
       "    }\n",
       "</style>\n",
       "<table border=\"1\" class=\"dataframe\">\n",
       "  <thead>\n",
       "    <tr style=\"text-align: right;\">\n",
       "      <th></th>\n",
       "      <th>timestamp</th>\n",
       "      <th>euler</th>\n",
       "      <th>rk4</th>\n",
       "    </tr>\n",
       "  </thead>\n",
       "  <tbody>\n",
       "    <tr>\n",
       "      <th>0</th>\n",
       "      <td>0.000000</td>\n",
       "      <td>0.000000</td>\n",
       "      <td>0.000000</td>\n",
       "    </tr>\n",
       "    <tr>\n",
       "      <th>1</th>\n",
       "      <td>0.100000</td>\n",
       "      <td>0.050000</td>\n",
       "      <td>0.049089</td>\n",
       "    </tr>\n",
       "    <tr>\n",
       "      <th>2</th>\n",
       "      <td>0.200000</td>\n",
       "      <td>0.097754</td>\n",
       "      <td>0.093550</td>\n",
       "    </tr>\n",
       "    <tr>\n",
       "      <th>3</th>\n",
       "      <td>0.300000</td>\n",
       "      <td>0.138947</td>\n",
       "      <td>0.129423</td>\n",
       "    </tr>\n",
       "    <tr>\n",
       "      <th>4</th>\n",
       "      <td>0.400000</td>\n",
       "      <td>0.169795</td>\n",
       "      <td>0.153502</td>\n",
       "    </tr>\n",
       "    <tr>\n",
       "      <th>...</th>\n",
       "      <td>...</td>\n",
       "      <td>...</td>\n",
       "      <td>...</td>\n",
       "    </tr>\n",
       "    <tr>\n",
       "      <th>146</th>\n",
       "      <td>14.600019</td>\n",
       "      <td>71.665670</td>\n",
       "      <td>18.712350</td>\n",
       "    </tr>\n",
       "    <tr>\n",
       "      <th>147</th>\n",
       "      <td>14.700020</td>\n",
       "      <td>71.866000</td>\n",
       "      <td>20.293740</td>\n",
       "    </tr>\n",
       "    <tr>\n",
       "      <th>148</th>\n",
       "      <td>14.800020</td>\n",
       "      <td>71.340620</td>\n",
       "      <td>21.867410</td>\n",
       "    </tr>\n",
       "    <tr>\n",
       "      <th>149</th>\n",
       "      <td>14.900021</td>\n",
       "      <td>70.013430</td>\n",
       "      <td>23.421366</td>\n",
       "    </tr>\n",
       "    <tr>\n",
       "      <th>150</th>\n",
       "      <td>15.000021</td>\n",
       "      <td>67.809200</td>\n",
       "      <td>24.943348</td>\n",
       "    </tr>\n",
       "  </tbody>\n",
       "</table>\n",
       "<p>151 rows × 3 columns</p>\n",
       "</div>"
      ],
      "text/plain": [
       "     timestamp      euler        rk4\n",
       "0     0.000000   0.000000   0.000000\n",
       "1     0.100000   0.050000   0.049089\n",
       "2     0.200000   0.097754   0.093550\n",
       "3     0.300000   0.138947   0.129423\n",
       "4     0.400000   0.169795   0.153502\n",
       "..         ...        ...        ...\n",
       "146  14.600019  71.665670  18.712350\n",
       "147  14.700020  71.866000  20.293740\n",
       "148  14.800020  71.340620  21.867410\n",
       "149  14.900021  70.013430  23.421366\n",
       "150  15.000021  67.809200  24.943348\n",
       "\n",
       "[151 rows x 3 columns]"
      ]
     },
     "execution_count": 9,
     "metadata": {},
     "output_type": "execute_result"
    }
   ],
   "source": [
    "vel_df = pd.read_csv(\n",
    "    HERE / \"result\" / \"velocity.csv\",\n",
    ")\n",
    "vel_df"
   ]
  },
  {
   "cell_type": "code",
   "execution_count": 10,
   "id": "dc08497f",
   "metadata": {},
   "outputs": [],
   "source": [
    "# rmse(vel_df)"
   ]
  },
  {
   "cell_type": "code",
   "execution_count": 11,
   "id": "ef61dfce",
   "metadata": {},
   "outputs": [
    {
     "data": {
      "image/png": "[encoded data removed]",
      "text/plain": [
       "<Figure size 640x480 with 1 Axes>"
      ]
     },
     "metadata": {},
     "output_type": "display_data"
    }
   ],
   "source": [
    "plot_data(vel_df).show()"
   ]
  },
  {
   "cell_type": "markdown",
   "id": "4ef9476b",
   "metadata": {},
   "source": [
    "### $x(t)$ (position: 2nd integral)"
   ]
  },
  {
   "cell_type": "code",
   "execution_count": 12,
   "id": "12526e3f",
   "metadata": {},
   "outputs": [
    {
     "data": {
      "application/vnd.microsoft.datawrangler.viewer.v0+json": {
       "columns": [
        {
         "name": "index",
         "rawType": "int64",
         "type": "integer"
        },
        {
         "name": "timestamp",
         "rawType": "float64",
         "type": "float"
        },
        {
         "name": "euler",
         "rawType": "float64",
         "type": "float"
        },
        {
         "name": "rk4",
         "rawType": "float64",
         "type": "float"
        }
       ],
       "ref": "e47871b8-81ed-4448-8874-a5c674053c17",
       "rows": [
        [
         "0",
         "0.0",
         "0.0",
         "0.0"
        ],
        [
         "1",
         "0.1",
         "0.000125",
         "0.00012272141"
        ],
        [
         "2",
         "0.2",
         "0.0007443859",
         "0.0007247611"
        ],
        [
         "3",
         "0.3",
         "0.0023249101",
         "0.0022408315"
        ],
        [
         "4",
         "0.4",
         "0.0052690404",
         "0.00502165"
        ],
        [
         "5",
         "0.5",
         "0.009877975",
         "0.009302581"
        ],
        [
         "6",
         "0.6",
         "0.016323162",
         "0.015182389"
        ],
        [
         "7",
         "0.70000005",
         "0.024628842",
         "0.022613898"
        ],
        [
         "8",
         "0.8000001",
         "0.034667164",
         "0.03140728"
        ],
        [
         "9",
         "0.9000001",
         "0.04616628",
         "0.041245576"
        ],
        [
         "10",
         "1.0000001",
         "0.05873069",
         "0.051710907"
        ],
        [
         "11",
         "1.1000001",
         "0.071872026",
         "0.062319025"
        ],
        [
         "12",
         "1.2000002",
         "0.08504747",
         "0.07255899"
        ],
        [
         "13",
         "1.3000002",
         "0.09770242",
         "0.08193444"
        ],
        [
         "14",
         "1.4000002",
         "0.10931361",
         "0.090002745"
        ],
        [
         "15",
         "1.5000002",
         "0.11942872",
         "0.09640868"
        ],
        [
         "16",
         "1.6000003",
         "0.12769917",
         "0.10090958"
        ],
        [
         "17",
         "1.7000003",
         "0.13390292",
         "0.10338999"
        ],
        [
         "18",
         "1.8000003",
         "0.13795559",
         "0.1038645"
        ],
        [
         "19",
         "1.9000003",
         "0.13990858",
         "0.10246878"
        ],
        [
         "20",
         "2.0000002",
         "0.13993472",
         "0.099439755"
        ],
        [
         "21",
         "2.1000001",
         "0.13830261",
         "0.09508678"
        ],
        [
         "22",
         "2.2",
         "0.13534209",
         "0.08975662"
        ],
        [
         "23",
         "2.3",
         "0.13140397",
         "0.08379539"
        ],
        [
         "24",
         "2.3999999",
         "0.12681764",
         "0.077511035"
        ],
        [
         "25",
         "2.4999998",
         "0.12185063",
         "0.07113969"
        ],
        [
         "26",
         "2.5999997",
         "0.11667359",
         "0.06481903"
        ],
        [
         "27",
         "2.6999996",
         "0.11133417",
         "0.058570884"
        ],
        [
         "28",
         "2.7999995",
         "0.10574211",
         "0.052294817"
        ],
        [
         "29",
         "2.8999994",
         "0.0996671",
         "0.045773134"
        ],
        [
         "30",
         "2.9999993",
         "0.09274967",
         "0.03868687"
        ],
        [
         "31",
         "3.0999992",
         "0.08452439",
         "0.030641355"
        ],
        [
         "32",
         "3.199999",
         "0.07445346",
         "0.021199062"
        ],
        [
         "33",
         "3.299999",
         "0.061967764",
         "0.009916879"
        ],
        [
         "34",
         "3.399999",
         "0.046512116",
         "-0.003615505"
        ],
        [
         "35",
         "3.4999988",
         "0.027590623",
         "-0.019739378"
        ],
        [
         "36",
         "3.5999987",
         "0.004808478",
         "-0.038696077"
        ],
        [
         "37",
         "3.6999986",
         "-0.022093406",
         "-0.06060396"
        ],
        [
         "38",
         "3.7999985",
         "-0.0532138",
         "-0.08544515"
        ],
        [
         "39",
         "3.8999984",
         "-0.08847861",
         "-0.11306302"
        ],
        [
         "40",
         "3.9999983",
         "-0.12764123",
         "-0.14317052"
        ],
        [
         "41",
         "4.0999985",
         "-0.17029564",
         "-0.17536834"
        ],
        [
         "42",
         "4.1999984",
         "-0.21590084",
         "-0.20917113"
        ],
        [
         "43",
         "4.2999983",
         "-0.26381418",
         "-0.24403939"
        ],
        [
         "44",
         "4.399998",
         "-0.31333062",
         "-0.27941388"
        ],
        [
         "45",
         "4.499998",
         "-0.36372408",
         "-0.3147497"
        ],
        [
         "46",
         "4.599998",
         "-0.41428706",
         "-0.34954652"
        ],
        [
         "47",
         "4.699998",
         "-0.46436498",
         "-0.38337287"
        ],
        [
         "48",
         "4.799998",
         "-0.51338196",
         "-0.41588175"
        ],
        [
         "49",
         "4.8999977",
         "-0.56085575",
         "-0.44681674"
        ]
       ],
       "shape": {
        "columns": 3,
        "rows": 151
       }
      },
      "text/html": [
       "<div>\n",
       "<style scoped>\n",
       "    .dataframe tbody tr th:only-of-type {\n",
       "        vertical-align: middle;\n",
       "    }\n",
       "\n",
       "    .dataframe tbody tr th {\n",
       "        vertical-align: top;\n",
       "    }\n",
       "\n",
       "    .dataframe thead th {\n",
       "        text-align: right;\n",
       "    }\n",
       "</style>\n",
       "<table border=\"1\" class=\"dataframe\">\n",
       "  <thead>\n",
       "    <tr style=\"text-align: right;\">\n",
       "      <th></th>\n",
       "      <th>timestamp</th>\n",
       "      <th>euler</th>\n",
       "      <th>rk4</th>\n",
       "    </tr>\n",
       "  </thead>\n",
       "  <tbody>\n",
       "    <tr>\n",
       "      <th>0</th>\n",
       "      <td>0.000000</td>\n",
       "      <td>0.000000</td>\n",
       "      <td>0.000000</td>\n",
       "    </tr>\n",
       "    <tr>\n",
       "      <th>1</th>\n",
       "      <td>0.100000</td>\n",
       "      <td>0.000125</td>\n",
       "      <td>0.000123</td>\n",
       "    </tr>\n",
       "    <tr>\n",
       "      <th>2</th>\n",
       "      <td>0.200000</td>\n",
       "      <td>0.000744</td>\n",
       "      <td>0.000725</td>\n",
       "    </tr>\n",
       "    <tr>\n",
       "      <th>3</th>\n",
       "      <td>0.300000</td>\n",
       "      <td>0.002325</td>\n",
       "      <td>0.002241</td>\n",
       "    </tr>\n",
       "    <tr>\n",
       "      <th>4</th>\n",
       "      <td>0.400000</td>\n",
       "      <td>0.005269</td>\n",
       "      <td>0.005022</td>\n",
       "    </tr>\n",
       "    <tr>\n",
       "      <th>...</th>\n",
       "      <td>...</td>\n",
       "      <td>...</td>\n",
       "      <td>...</td>\n",
       "    </tr>\n",
       "    <tr>\n",
       "      <th>146</th>\n",
       "      <td>14.600019</td>\n",
       "      <td>-1.511548</td>\n",
       "      <td>-31.543621</td>\n",
       "    </tr>\n",
       "    <tr>\n",
       "      <th>147</th>\n",
       "      <td>14.700020</td>\n",
       "      <td>5.750256</td>\n",
       "      <td>-31.595848</td>\n",
       "    </tr>\n",
       "    <tr>\n",
       "      <th>148</th>\n",
       "      <td>14.800020</td>\n",
       "      <td>13.728906</td>\n",
       "      <td>-31.445158</td>\n",
       "    </tr>\n",
       "    <tr>\n",
       "      <th>149</th>\n",
       "      <td>14.900021</td>\n",
       "      <td>22.418957</td>\n",
       "      <td>-31.075842</td>\n",
       "    </tr>\n",
       "    <tr>\n",
       "      <th>150</th>\n",
       "      <td>15.000021</td>\n",
       "      <td>31.806950</td>\n",
       "      <td>-30.472393</td>\n",
       "    </tr>\n",
       "  </tbody>\n",
       "</table>\n",
       "<p>151 rows × 3 columns</p>\n",
       "</div>"
      ],
      "text/plain": [
       "     timestamp      euler        rk4\n",
       "0     0.000000   0.000000   0.000000\n",
       "1     0.100000   0.000125   0.000123\n",
       "2     0.200000   0.000744   0.000725\n",
       "3     0.300000   0.002325   0.002241\n",
       "4     0.400000   0.005269   0.005022\n",
       "..         ...        ...        ...\n",
       "146  14.600019  -1.511548 -31.543621\n",
       "147  14.700020   5.750256 -31.595848\n",
       "148  14.800020  13.728906 -31.445158\n",
       "149  14.900021  22.418957 -31.075842\n",
       "150  15.000021  31.806950 -30.472393\n",
       "\n",
       "[151 rows x 3 columns]"
      ]
     },
     "execution_count": 12,
     "metadata": {},
     "output_type": "execute_result"
    }
   ],
   "source": [
    "pos_df = pd.read_csv(\n",
    "    HERE / \"result\" / \"position.csv\",\n",
    ")\n",
    "pos_df"
   ]
  },
  {
   "cell_type": "code",
   "execution_count": 13,
   "id": "d8e36119",
   "metadata": {},
   "outputs": [
    {
     "data": {
      "image/png": "[encoded data removed]",
      "text/plain": [
       "<Figure size 640x480 with 1 Axes>"
      ]
     },
     "metadata": {},
     "output_type": "display_data"
    }
   ],
   "source": [
    "plot_data(pos_df).show()"
   ]
  },
  {
   "cell_type": "code",
   "execution_count": null,
   "id": "a21aa69e",
   "metadata": {},
   "outputs": [],
   "source": []
  }
 ],
 "metadata": {
  "kernelspec": {
   "display_name": ".venv",
   "language": "python",
   "name": "python3"
  },
  "language_info": {
   "codemirror_mode": {
    "name": "ipython",
    "version": 3
   },
   "file_extension": ".py",
   "mimetype": "text/x-python",
   "name": "python",
   "nbconvert_exporter": "python",
   "pygments_lexer": "ipython3",
   "version": "3.13.5"
  }
 },
 "nbformat": 4,
 "nbformat_minor": 5
}
