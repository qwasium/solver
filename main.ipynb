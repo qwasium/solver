{
 "cells": [
  {
   "cell_type": "markdown",
   "id": "bca9f8ee",
   "metadata": {},
   "source": [
    "# Solver"
   ]
  },
  {
   "cell_type": "markdown",
   "id": "d5a5749a",
   "metadata": {},
   "source": [
    "## Config file"
   ]
  },
  {
   "cell_type": "code",
   "execution_count": 12,
   "id": "f266af06",
   "metadata": {},
   "outputs": [
    {
     "data": {
      "text/plain": [
       "PosixPath('/home/hangman/Documents/solver')"
      ]
     },
     "execution_count": 12,
     "metadata": {},
     "output_type": "execute_result"
    }
   ],
   "source": [
    "from pathlib import Path\n",
    "import os\n",
    "\n",
    "import yaml\n",
    "import numpy as np\n",
    "import pandas as pd\n",
    "import matplotlib.pyplot as plt\n",
    "\n",
    "HERE = Path(os.getcwd()) # Path(__file__) won't work in Jupyter\n",
    "HERE"
   ]
  },
  {
   "cell_type": "code",
   "execution_count": 13,
   "id": "cc2b1b02",
   "metadata": {},
   "outputs": [
    {
     "data": {
      "text/plain": [
       "{'time_end': 3,\n",
       " 'time_step': 0.05,\n",
       " 'f_0': 2,\n",
       " 'mass': 1.0,\n",
       " 'viscosity': 1.0,\n",
       " 'ft_fname': 'f_t.csv',\n",
       " 'area_fname': 'area.csv'}"
      ]
     },
     "execution_count": 13,
     "metadata": {},
     "output_type": "execute_result"
    }
   ],
   "source": [
    "with open(HERE / 'config' / 'settings.yaml.bak') as f:\n",
    "    config = yaml.safe_load(f)\n",
    "config"
   ]
  },
  {
   "cell_type": "code",
   "execution_count": 14,
   "id": "1c5f105e",
   "metadata": {},
   "outputs": [],
   "source": [
    "model_parameters = {\n",
    "    \"mass\"     : 10,\n",
    "    \"viscosity\": 10,\n",
    "}\n",
    "new_config = {\n",
    "    'time_end'    : 3,\n",
    "    'time_step'   : 0.5,\n",
    "    'f_0'         : 0,\n",
    "    'ft_fname'    : 'f_t.csv',\n",
    "    'area_fname'  : 'area.csv',\n",
    "    'model_params': [\n",
    "        model_parameters[\"mass\"], model_parameters[\"viscosity\"]\n",
    "    ],\n",
    "}"
   ]
  },
  {
   "cell_type": "code",
   "execution_count": 15,
   "id": "89d7830b",
   "metadata": {},
   "outputs": [],
   "source": [
    "with open(HERE / 'config' / 'settings.yaml', 'w') as f:\n",
    "    yaml.dump(new_config, f)"
   ]
  },
  {
   "cell_type": "markdown",
   "id": "2087eb3e",
   "metadata": {},
   "source": [
    "## Simulation\n",
    "\n",
    "`cargo run` will read `config/settings.yaml` and produce:\n",
    "\n",
    "- `result/`\n",
    "  - `<config[\"area_fname\"]>.csv`\n",
    "  - `<config[\"ft_fname\"]>.csv`"
   ]
  },
  {
   "cell_type": "code",
   "execution_count": 16,
   "id": "956e4c01",
   "metadata": {},
   "outputs": [
    {
     "name": "stdout",
     "output_type": "stream",
     "text": [
      "\u001b[1m\u001b[32m   Compiling\u001b[0m solver v0.1.0 (/home/hangman/Documents/solver)\n",
      "\u001b[K\u001b[1m\u001b[32m    Finished\u001b[0m `dev` profile [unoptimized + debuginfo] target(s) in 0.32s    \n",
      "\u001b[1m\u001b[32m     Running\u001b[0m `target/debug/solver`\n",
      "Solver { time_end: 3.0, time_step: 0.5, f_0: 0.0, mass: 10.0, viscosity: 10.0, gravity: 9.8 }\n",
      "\n",
      "=== Final Values f(3) ===\n",
      "Analytical solution: 9.312087\n",
      "Euler method:        9.646875\n",
      "Trapezoidal method:  9.215875\n",
      "Runge-Kutta method:  9.310926\n",
      "\n",
      "=== Integrals ∫f(t)dt from 0 to 3 ===\n",
      "Analytical integral:           15.504433\n",
      "Euler ODE + Trap integration:  22.164845\n",
      "Trap ODE + Trap integration:   19.416136\n",
      "RK4 ODE + Trap integration:    19.888674\n",
      "\n"
     ]
    }
   ],
   "source": [
    "!cargo run"
   ]
  },
  {
   "cell_type": "markdown",
   "id": "eef2802a",
   "metadata": {},
   "source": [
    "## Plot"
   ]
  },
  {
   "cell_type": "code",
   "execution_count": null,
   "id": "d27599e3",
   "metadata": {},
   "outputs": [],
   "source": [
    "def plot_data(df) -> plt:\n",
    "    plt.plot(\n",
    "        df[\"timestamp\"], df[\"analytical\"],\n",
    "        label=\"analytical\",\n",
    "        color=\"green\"\n",
    "    )\n",
    "    plt.plot(\n",
    "        df[\"timestamp\"], df[\"euler\"],\n",
    "        label=\"euler\",\n",
    "        color=\"blue\",\n",
    "        linestyle=\"--\"\n",
    "    )\n",
    "    plt.plot(\n",
    "        df[\"timestamp\"], df[\"trapezoid\"],\n",
    "        label=\"trapezoid\",\n",
    "        color=\"orange\",\n",
    "        linestyle=\":\"\n",
    "    )\n",
    "    plt.plot(\n",
    "        df[\"timestamp\"], df[\"rk4\"],\n",
    "        label=\"Runge-Kutta\",\n",
    "        color=\"magenta\",\n",
    "        linestyle=\":\"\n",
    "    )\n",
    "    plt.legend()\n",
    "    return plt"
   ]
  },
  {
   "cell_type": "code",
   "execution_count": null,
   "id": "519d580f",
   "metadata": {},
   "outputs": [],
   "source": [
    "def rmse(df) -> list[float]:\n",
    "    error = {\n",
    "        \"euler\": 0,\n",
    "        \"trapezoid\": 0,\n",
    "        \"rk4\": 0\n",
    "    }\n",
    "    for i, row in df.iterrows():\n",
    "        for method in error:\n",
    "            error[method] += (\n",
    "                row[\"analytical\"] - row[method]\n",
    "            ) ** 2\n",
    "    return {method: err/len(df) for method, err in error.items()}\n"
   ]
  },
  {
   "cell_type": "markdown",
   "id": "848170c9",
   "metadata": {},
   "source": [
    "### $f(t)$ (1st integral)"
   ]
  },
  {
   "cell_type": "code",
   "execution_count": 18,
   "id": "1d2ee33d",
   "metadata": {},
   "outputs": [
    {
     "data": {
      "application/vnd.microsoft.datawrangler.viewer.v0+json": {
       "columns": [
        {
         "name": "index",
         "rawType": "int64",
         "type": "integer"
        },
        {
         "name": "timestamp",
         "rawType": "float64",
         "type": "float"
        },
        {
         "name": "euler",
         "rawType": "float64",
         "type": "float"
        },
        {
         "name": "trapezoid",
         "rawType": "float64",
         "type": "float"
        },
        {
         "name": "rk4",
         "rawType": "float64",
         "type": "float"
        },
        {
         "name": "analytical",
         "rawType": "float64",
         "type": "float"
        }
       ],
       "ref": "e8237e96-8959-41d0-8f27-5e4d90bf721e",
       "rows": [
        [
         "0",
         "0.0",
         "0.0",
         "0.0",
         "0.0",
         "0.0"
        ],
        [
         "1",
         "0.5",
         "4.9",
         "3.6750002",
         "3.853646",
         "3.8559995"
        ],
        [
         "2",
         "1.0",
         "7.3500004",
         "5.971875",
         "6.191926",
         "6.1947813"
        ],
        [
         "3",
         "1.5",
         "8.575001",
         "7.407422",
         "7.610726",
         "7.613324"
        ],
        [
         "4",
         "2.0",
         "9.1875",
         "8.304639",
         "8.471612",
         "8.473715"
        ],
        [
         "5",
         "2.5",
         "9.49375",
         "8.865399",
         "8.993973",
         "8.995567"
        ],
        [
         "6",
         "3.0",
         "9.646875",
         "9.215875",
         "9.310926",
         "9.312087"
        ]
       ],
       "shape": {
        "columns": 5,
        "rows": 7
       }
      },
      "text/html": [
       "<div>\n",
       "<style scoped>\n",
       "    .dataframe tbody tr th:only-of-type {\n",
       "        vertical-align: middle;\n",
       "    }\n",
       "\n",
       "    .dataframe tbody tr th {\n",
       "        vertical-align: top;\n",
       "    }\n",
       "\n",
       "    .dataframe thead th {\n",
       "        text-align: right;\n",
       "    }\n",
       "</style>\n",
       "<table border=\"1\" class=\"dataframe\">\n",
       "  <thead>\n",
       "    <tr style=\"text-align: right;\">\n",
       "      <th></th>\n",
       "      <th>timestamp</th>\n",
       "      <th>euler</th>\n",
       "      <th>trapezoid</th>\n",
       "      <th>rk4</th>\n",
       "      <th>analytical</th>\n",
       "    </tr>\n",
       "  </thead>\n",
       "  <tbody>\n",
       "    <tr>\n",
       "      <th>0</th>\n",
       "      <td>0.0</td>\n",
       "      <td>0.000000</td>\n",
       "      <td>0.000000</td>\n",
       "      <td>0.000000</td>\n",
       "      <td>0.000000</td>\n",
       "    </tr>\n",
       "    <tr>\n",
       "      <th>1</th>\n",
       "      <td>0.5</td>\n",
       "      <td>4.900000</td>\n",
       "      <td>3.675000</td>\n",
       "      <td>3.853646</td>\n",
       "      <td>3.855999</td>\n",
       "    </tr>\n",
       "    <tr>\n",
       "      <th>2</th>\n",
       "      <td>1.0</td>\n",
       "      <td>7.350000</td>\n",
       "      <td>5.971875</td>\n",
       "      <td>6.191926</td>\n",
       "      <td>6.194781</td>\n",
       "    </tr>\n",
       "    <tr>\n",
       "      <th>3</th>\n",
       "      <td>1.5</td>\n",
       "      <td>8.575001</td>\n",
       "      <td>7.407422</td>\n",
       "      <td>7.610726</td>\n",
       "      <td>7.613324</td>\n",
       "    </tr>\n",
       "    <tr>\n",
       "      <th>4</th>\n",
       "      <td>2.0</td>\n",
       "      <td>9.187500</td>\n",
       "      <td>8.304639</td>\n",
       "      <td>8.471612</td>\n",
       "      <td>8.473715</td>\n",
       "    </tr>\n",
       "    <tr>\n",
       "      <th>5</th>\n",
       "      <td>2.5</td>\n",
       "      <td>9.493750</td>\n",
       "      <td>8.865399</td>\n",
       "      <td>8.993973</td>\n",
       "      <td>8.995567</td>\n",
       "    </tr>\n",
       "    <tr>\n",
       "      <th>6</th>\n",
       "      <td>3.0</td>\n",
       "      <td>9.646875</td>\n",
       "      <td>9.215875</td>\n",
       "      <td>9.310926</td>\n",
       "      <td>9.312087</td>\n",
       "    </tr>\n",
       "  </tbody>\n",
       "</table>\n",
       "</div>"
      ],
      "text/plain": [
       "   timestamp     euler  trapezoid       rk4  analytical\n",
       "0        0.0  0.000000   0.000000  0.000000    0.000000\n",
       "1        0.5  4.900000   3.675000  3.853646    3.855999\n",
       "2        1.0  7.350000   5.971875  6.191926    6.194781\n",
       "3        1.5  8.575001   7.407422  7.610726    7.613324\n",
       "4        2.0  9.187500   8.304639  8.471612    8.473715\n",
       "5        2.5  9.493750   8.865399  8.993973    8.995567\n",
       "6        3.0  9.646875   9.215875  9.310926    9.312087"
      ]
     },
     "execution_count": 18,
     "metadata": {},
     "output_type": "execute_result"
    }
   ],
   "source": [
    "ft_df = pd.read_csv(\n",
    "    HERE / \"result\" / \"f_t.csv\",\n",
    ")\n",
    "ft_df"
   ]
  },
  {
   "cell_type": "code",
   "execution_count": 37,
   "id": "dc08497f",
   "metadata": {},
   "outputs": [
    {
     "data": {
      "text/plain": [
       "{'euler': np.float64(0.602721313998866),\n",
       " 'trapezoid': np.float64(0.025661535675454268),\n",
       " 'rk4': np.float64(4.1075243342858326e-06)}"
      ]
     },
     "execution_count": 37,
     "metadata": {},
     "output_type": "execute_result"
    }
   ],
   "source": [
    "rmse(ft_df)"
   ]
  },
  {
   "cell_type": "code",
   "execution_count": 33,
   "id": "8805f353",
   "metadata": {},
   "outputs": [
    {
     "data": {
      "application/vnd.microsoft.datawrangler.viewer.v0+json": {
       "columns": [
        {
         "name": "index",
         "rawType": "object",
         "type": "string"
        },
        {
         "name": "0",
         "rawType": "float64",
         "type": "float"
        }
       ],
       "ref": "631e9cfd-5607-4fc3-8299-8f7bf87303e5",
       "rows": [
        [
         "timestamp",
         "-1.5"
        ],
        [
         "euler",
         "-7.021875200000001"
        ],
        [
         "trapezoid",
         "-6.205744314285714"
        ],
        [
         "rk4",
         "-6.347544142857143"
        ],
        [
         "analytical",
         "-6.3493534"
        ]
       ],
       "shape": {
        "columns": 1,
        "rows": 5
       }
      },
      "text/plain": [
       "timestamp    -1.500000\n",
       "euler        -7.021875\n",
       "trapezoid    -6.205744\n",
       "rk4          -6.347544\n",
       "analytical   -6.349353\n",
       "dtype: float64"
      ]
     },
     "execution_count": 33,
     "metadata": {},
     "output_type": "execute_result"
    }
   ],
   "source": [
    "ft_df.iloc[0, :] - ft_df.mean()"
   ]
  },
  {
   "cell_type": "code",
   "execution_count": 19,
   "id": "ef61dfce",
   "metadata": {},
   "outputs": [
    {
     "data": {
      "image/png": "[encoded data removed]",
      "text/plain": [
       "<Figure size 640x480 with 1 Axes>"
      ]
     },
     "metadata": {},
     "output_type": "display_data"
    }
   ],
   "source": [
    "plot_data(ft_df).show()"
   ]
  },
  {
   "cell_type": "markdown",
   "id": "4ef9476b",
   "metadata": {},
   "source": [
    "### area (2nd integral)"
   ]
  },
  {
   "cell_type": "code",
   "execution_count": 25,
   "id": "12526e3f",
   "metadata": {},
   "outputs": [
    {
     "data": {
      "application/vnd.microsoft.datawrangler.viewer.v0+json": {
       "columns": [
        {
         "name": "index",
         "rawType": "int64",
         "type": "integer"
        },
        {
         "name": "timestamp",
         "rawType": "float64",
         "type": "float"
        },
        {
         "name": "euler",
         "rawType": "float64",
         "type": "float"
        },
        {
         "name": "trapezoid",
         "rawType": "float64",
         "type": "float"
        },
        {
         "name": "rk4",
         "rawType": "float64",
         "type": "float"
        },
        {
         "name": "analytical",
         "rawType": "float64",
         "type": "float"
        }
       ],
       "ref": "2f4b3352-b612-47c4-a177-96c034be302c",
       "rows": [
        [
         "0",
         "0.0",
         "0.0",
         "0.0",
         "0.0",
         "0.0"
        ],
        [
         "1",
         "0.5",
         "1.225",
         "0.91875005",
         "0.9634115",
         "0.0"
        ],
        [
         "2",
         "1.0",
         "4.2875",
         "3.330469",
         "3.4748046",
         "1.0440006"
        ],
        [
         "3",
         "1.5",
         "8.26875",
         "6.675293",
         "6.9254675",
         "3.605219"
        ],
        [
         "4",
         "2.0",
         "12.709375",
         "10.603308",
         "10.946053",
         "7.086676"
        ],
        [
         "5",
         "2.5",
         "17.379688",
         "14.895817",
         "15.3124485",
         "11.126286"
        ],
        [
         "6",
         "3.0",
         "22.164845",
         "19.416136",
         "19.888674",
         "15.504433"
        ]
       ],
       "shape": {
        "columns": 5,
        "rows": 7
       }
      },
      "text/html": [
       "<div>\n",
       "<style scoped>\n",
       "    .dataframe tbody tr th:only-of-type {\n",
       "        vertical-align: middle;\n",
       "    }\n",
       "\n",
       "    .dataframe tbody tr th {\n",
       "        vertical-align: top;\n",
       "    }\n",
       "\n",
       "    .dataframe thead th {\n",
       "        text-align: right;\n",
       "    }\n",
       "</style>\n",
       "<table border=\"1\" class=\"dataframe\">\n",
       "  <thead>\n",
       "    <tr style=\"text-align: right;\">\n",
       "      <th></th>\n",
       "      <th>timestamp</th>\n",
       "      <th>euler</th>\n",
       "      <th>trapezoid</th>\n",
       "      <th>rk4</th>\n",
       "      <th>analytical</th>\n",
       "    </tr>\n",
       "  </thead>\n",
       "  <tbody>\n",
       "    <tr>\n",
       "      <th>0</th>\n",
       "      <td>0.0</td>\n",
       "      <td>0.000000</td>\n",
       "      <td>0.000000</td>\n",
       "      <td>0.000000</td>\n",
       "      <td>0.000000</td>\n",
       "    </tr>\n",
       "    <tr>\n",
       "      <th>1</th>\n",
       "      <td>0.5</td>\n",
       "      <td>1.225000</td>\n",
       "      <td>0.918750</td>\n",
       "      <td>0.963411</td>\n",
       "      <td>0.000000</td>\n",
       "    </tr>\n",
       "    <tr>\n",
       "      <th>2</th>\n",
       "      <td>1.0</td>\n",
       "      <td>4.287500</td>\n",
       "      <td>3.330469</td>\n",
       "      <td>3.474805</td>\n",
       "      <td>1.044001</td>\n",
       "    </tr>\n",
       "    <tr>\n",
       "      <th>3</th>\n",
       "      <td>1.5</td>\n",
       "      <td>8.268750</td>\n",
       "      <td>6.675293</td>\n",
       "      <td>6.925467</td>\n",
       "      <td>3.605219</td>\n",
       "    </tr>\n",
       "    <tr>\n",
       "      <th>4</th>\n",
       "      <td>2.0</td>\n",
       "      <td>12.709375</td>\n",
       "      <td>10.603308</td>\n",
       "      <td>10.946053</td>\n",
       "      <td>7.086676</td>\n",
       "    </tr>\n",
       "    <tr>\n",
       "      <th>5</th>\n",
       "      <td>2.5</td>\n",
       "      <td>17.379688</td>\n",
       "      <td>14.895817</td>\n",
       "      <td>15.312449</td>\n",
       "      <td>11.126286</td>\n",
       "    </tr>\n",
       "    <tr>\n",
       "      <th>6</th>\n",
       "      <td>3.0</td>\n",
       "      <td>22.164845</td>\n",
       "      <td>19.416136</td>\n",
       "      <td>19.888674</td>\n",
       "      <td>15.504433</td>\n",
       "    </tr>\n",
       "  </tbody>\n",
       "</table>\n",
       "</div>"
      ],
      "text/plain": [
       "   timestamp      euler  trapezoid        rk4  analytical\n",
       "0        0.0   0.000000   0.000000   0.000000    0.000000\n",
       "1        0.5   1.225000   0.918750   0.963411    0.000000\n",
       "2        1.0   4.287500   3.330469   3.474805    1.044001\n",
       "3        1.5   8.268750   6.675293   6.925467    3.605219\n",
       "4        2.0  12.709375  10.603308  10.946053    7.086676\n",
       "5        2.5  17.379688  14.895817  15.312449   11.126286\n",
       "6        3.0  22.164845  19.416136  19.888674   15.504433"
      ]
     },
     "execution_count": 25,
     "metadata": {},
     "output_type": "execute_result"
    }
   ],
   "source": [
    "area_df = pd.read_csv(\n",
    "    HERE / \"result\" / \"area.csv\",\n",
    ")\n",
    "area_df"
   ]
  },
  {
   "cell_type": "code",
   "execution_count": 21,
   "id": "d8e36119",
   "metadata": {},
   "outputs": [
    {
     "data": {
      "image/png": "[encoded data removed]",
      "text/plain": [
       "<Figure size 640x480 with 1 Axes>"
      ]
     },
     "metadata": {},
     "output_type": "display_data"
    }
   ],
   "source": [
    "plot_data(area_df).show()"
   ]
  },
  {
   "cell_type": "markdown",
   "id": "31b60b53",
   "metadata": {},
   "source": [
    "## Changing timestep"
   ]
  },
  {
   "cell_type": "code",
   "execution_count": 47,
   "id": "364cb69b",
   "metadata": {},
   "outputs": [],
   "source": [
    "def plot_err(df) -> plt:\n",
    "    plt.plot(\n",
    "        df[\"timestep\"], df[\"euler\"],\n",
    "        label=\"euler\",\n",
    "        color=\"blue\",\n",
    "        linestyle=\"--\"\n",
    "    )\n",
    "    plt.plot(\n",
    "        df[\"timestep\"], df[\"trapezoid\"],\n",
    "        label=\"trapezoid\",\n",
    "        color=\"orange\",\n",
    "        linestyle=\":\"\n",
    "    )\n",
    "    plt.plot(\n",
    "        df[\"timestep\"], df[\"rk4\"],\n",
    "        label=\"Runge-Kutta\",\n",
    "        color=\"magenta\",\n",
    "        linestyle=\":\"\n",
    "    )\n",
    "    plt.legend()\n",
    "    return plt"
   ]
  },
  {
   "cell_type": "code",
   "execution_count": 39,
   "id": "adb88904",
   "metadata": {},
   "outputs": [
    {
     "name": "stdout",
     "output_type": "stream",
     "text": [
      "\u001b[1m\u001b[32m    Finished\u001b[0m `dev` profile [unoptimized + debuginfo] target(s) in 0.02s\n",
      "\u001b[1m\u001b[32m     Running\u001b[0m `target/debug/solver`\n",
      "Solver { time_end: 3.0, time_step: 1.0, f_0: 0.0, mass: 10.0, viscosity: 10.0, gravity: 9.8 }\n",
      "\n",
      "=== Final Values f(3) ===\n",
      "Analytical solution: 9.312087\n",
      "Euler method:        9.800000\n",
      "Trapezoidal method:  8.575000\n",
      "Runge-Kutta method:  9.283203\n",
      "\n",
      "=== Integrals ∫f(t)dt from 0 to 3 ===\n",
      "Analytical integral:           11.126286\n",
      "Euler ODE + Trap integration:  24.500000\n",
      "Trap ODE + Trap integration:   16.537500\n",
      "RK4 ODE + Trap integration:    19.188477\n",
      "\n",
      "\u001b[1m\u001b[32m    Finished\u001b[0m `dev` profile [unoptimized + debuginfo] target(s) in 0.01s\n",
      "\u001b[1m\u001b[32m     Running\u001b[0m `target/debug/solver`\n",
      "Solver { time_end: 3.0, time_step: 0.1, f_0: 0.0, mass: 10.0, viscosity: 10.0, gravity: 9.8 }\n",
      "\n",
      "=== Final Values f(3) ===\n",
      "Analytical solution: 9.312087\n",
      "Euler method:        9.426110\n",
      "Trapezoidal method:  9.356053\n",
      "Runge-Kutta method:  9.358518\n",
      "\n",
      "=== Integrals ∫f(t)dt from 0 to 3 ===\n",
      "Analytical integral:           20.087908\n",
      "Euler ODE + Trap integration:  21.425200\n",
      "Trap ODE + Trap integration:   20.999329\n",
      "RK4 ODE + Trap integration:    21.013680\n",
      "\n",
      "\u001b[1m\u001b[32m    Finished\u001b[0m `dev` profile [unoptimized + debuginfo] target(s) in 0.01s\n",
      "\u001b[1m\u001b[32m     Running\u001b[0m `target/debug/solver`\n",
      "Solver { time_end: 3.0, time_step: 0.01, f_0: 0.0, mass: 10.0, viscosity: 10.0, gravity: 9.8 }\n",
      "\n",
      "=== Final Values f(3) ===\n",
      "Analytical solution: 9.312087\n",
      "Euler method:        9.324203\n",
      "Trapezoidal method:  9.316922\n",
      "Runge-Kutta method:  9.316941\n",
      "\n",
      "=== Integrals ∫f(t)dt from 0 to 3 ===\n",
      "Analytical integral:           20.087891\n",
      "Euler ODE + Trap integration:  20.220411\n",
      "Trap ODE + Trap integration:   20.180851\n",
      "RK4 ODE + Trap integration:    20.180964\n",
      "\n",
      "\u001b[1m\u001b[32m    Finished\u001b[0m `dev` profile [unoptimized + debuginfo] target(s) in 0.01s\n",
      "\u001b[1m\u001b[32m     Running\u001b[0m `target/debug/solver`\n",
      "Solver { time_end: 3.0, time_step: 0.001, f_0: 0.0, mass: 10.0, viscosity: 10.0, gravity: 9.8 }\n",
      "\n",
      "=== Final Values f(3) ===\n",
      "Analytical solution: 9.312087\n",
      "Euler method:        9.313318\n",
      "Trapezoidal method:  9.312575\n",
      "Runge-Kutta method:  9.312576\n",
      "\n",
      "=== Integrals ∫f(t)dt from 0 to 3 ===\n",
      "Analytical integral:           20.087585\n",
      "Euler ODE + Trap integration:  20.101173\n",
      "Trap ODE + Trap integration:   20.097235\n",
      "RK4 ODE + Trap integration:    20.097237\n",
      "\n",
      "\u001b[1m\u001b[32m    Finished\u001b[0m `dev` profile [unoptimized + debuginfo] target(s) in 0.01s\n",
      "\u001b[1m\u001b[32m     Running\u001b[0m `target/debug/solver`\n",
      "Solver { time_end: 3.0, time_step: 0.0001, f_0: 0.0, mass: 10.0, viscosity: 10.0, gravity: 9.8 }\n",
      "\n",
      "=== Final Values f(3) ===\n",
      "Analytical solution: 9.312087\n",
      "Euler method:        9.312589\n",
      "Trapezoidal method:  9.312511\n",
      "Runge-Kutta method:  9.312511\n",
      "\n",
      "=== Integrals ∫f(t)dt from 0 to 3 ===\n",
      "Analytical integral:           20.087841\n",
      "Euler ODE + Trap integration:  20.096680\n",
      "Trap ODE + Trap integration:   20.096275\n",
      "RK4 ODE + Trap integration:    20.096275\n",
      "\n"
     ]
    }
   ],
   "source": [
    "ft_error = {\n",
    "    \"timestep\": [],\n",
    "    \"euler\": [],\n",
    "    \"trapezoid\": [],\n",
    "    \"rk4\": [],\n",
    "}\n",
    "area_error = ft_error.copy()\n",
    "\n",
    "for i in range(5):\n",
    "    timestep = 10 ** (-i)\n",
    "    new_config = {\n",
    "        'time_end'    : 3,\n",
    "        'time_step'   : timestep,\n",
    "        'f_0'         : 0,\n",
    "        'ft_fname'    : 'f_t.csv',\n",
    "        'area_fname'  : 'area.csv',\n",
    "        'model_params': [10, 10],\n",
    "    }\n",
    "    with open(HERE / 'config' / 'settings.yaml', 'w') as f:\n",
    "        yaml.dump(new_config, f)\n",
    "\n",
    "    !cargo run\n",
    "\n",
    "    ft_df = pd.read_csv(HERE / \"result\" / \"f_t.csv\")\n",
    "    ft_rmse = rmse(ft_df)\n",
    "    area_df = pd.read_csv(HERE / \"result\" / \"area.csv\")\n",
    "    for method in area_error:\n",
    "        if method == \"timestep\":\n",
    "            ft_error[method].append(timestep)\n",
    "            area_error[method].append(timestep)\n",
    "            continue\n",
    "        ft_error[method].append(\n",
    "            ft_rmse[method]\n",
    "        )\n",
    "        area_error[method].append(\n",
    "            area_df.iloc[-1, -1]\n",
    "            - area_df.iloc[-1, :][method]\n",
    "        )"
   ]
  },
  {
   "cell_type": "code",
   "execution_count": 41,
   "id": "40bbb2dc",
   "metadata": {},
   "outputs": [
    {
     "data": {
      "application/vnd.microsoft.datawrangler.viewer.v0+json": {
       "columns": [
        {
         "name": "index",
         "rawType": "int64",
         "type": "integer"
        },
        {
         "name": "timestep",
         "rawType": "float64",
         "type": "float"
        },
        {
         "name": "euler",
         "rawType": "float64",
         "type": "float"
        },
        {
         "name": "trapezoid",
         "rawType": "float64",
         "type": "float"
        },
        {
         "name": "rk4",
         "rawType": "float64",
         "type": "float"
        }
       ],
       "ref": "e9fb5fd8-e5e1-4d6b-8d9f-ad12a3609587",
       "rows": [
        [
         "0",
         "1.0",
         "3.7486732179059246",
         "0.8706225906629627",
         "0.002097757776160011"
        ],
        [
         "1",
         "1.0",
         "-13.373714",
         "-5.411214000000001",
         "-8.062190999999999"
        ],
        [
         "2",
         "0.1",
         "0.019049727979120076",
         "2.3071181451137667e-05",
         "6.320262499353307e-12"
        ],
        [
         "3",
         "0.1",
         "-1.3372920000000015",
         "-0.9114210000000007",
         "-0.925772000000002"
        ],
        [
         "4",
         "0.01",
         "0.00018795967019225138",
         "1.9851900665570075e-09",
         "2.7356407286456013e-12"
        ],
        [
         "5",
         "0.01",
         "-0.132520999999997",
         "-0.09296099999999896",
         "-0.09307399999999788"
        ],
        [
         "6",
         "0.001",
         "1.8746421981076467e-06",
         "6.889929222591452e-10",
         "6.900936828912179e-10"
        ],
        [
         "7",
         "0.001",
         "-0.013587999999998601",
         "-0.009650000000000603",
         "-0.009651999999999106"
        ],
        [
         "8",
         "0.0001",
         "4.9788135539445104e-08",
         "5.1500013570118725e-08",
         "5.150002745515704e-08"
        ],
        [
         "9",
         "0.0001",
         "-0.008838999999998265",
         "-0.00843399999999761",
         "-0.00843399999999761"
        ]
       ],
       "shape": {
        "columns": 4,
        "rows": 10
       }
      },
      "text/html": [
       "<div>\n",
       "<style scoped>\n",
       "    .dataframe tbody tr th:only-of-type {\n",
       "        vertical-align: middle;\n",
       "    }\n",
       "\n",
       "    .dataframe tbody tr th {\n",
       "        vertical-align: top;\n",
       "    }\n",
       "\n",
       "    .dataframe thead th {\n",
       "        text-align: right;\n",
       "    }\n",
       "</style>\n",
       "<table border=\"1\" class=\"dataframe\">\n",
       "  <thead>\n",
       "    <tr style=\"text-align: right;\">\n",
       "      <th></th>\n",
       "      <th>timestep</th>\n",
       "      <th>euler</th>\n",
       "      <th>trapezoid</th>\n",
       "      <th>rk4</th>\n",
       "    </tr>\n",
       "  </thead>\n",
       "  <tbody>\n",
       "    <tr>\n",
       "      <th>0</th>\n",
       "      <td>1.0000</td>\n",
       "      <td>3.748673e+00</td>\n",
       "      <td>8.706226e-01</td>\n",
       "      <td>2.097758e-03</td>\n",
       "    </tr>\n",
       "    <tr>\n",
       "      <th>1</th>\n",
       "      <td>1.0000</td>\n",
       "      <td>-1.337371e+01</td>\n",
       "      <td>-5.411214e+00</td>\n",
       "      <td>-8.062191e+00</td>\n",
       "    </tr>\n",
       "    <tr>\n",
       "      <th>2</th>\n",
       "      <td>0.1000</td>\n",
       "      <td>1.904973e-02</td>\n",
       "      <td>2.307118e-05</td>\n",
       "      <td>6.320262e-12</td>\n",
       "    </tr>\n",
       "    <tr>\n",
       "      <th>3</th>\n",
       "      <td>0.1000</td>\n",
       "      <td>-1.337292e+00</td>\n",
       "      <td>-9.114210e-01</td>\n",
       "      <td>-9.257720e-01</td>\n",
       "    </tr>\n",
       "    <tr>\n",
       "      <th>4</th>\n",
       "      <td>0.0100</td>\n",
       "      <td>1.879597e-04</td>\n",
       "      <td>1.985190e-09</td>\n",
       "      <td>2.735641e-12</td>\n",
       "    </tr>\n",
       "    <tr>\n",
       "      <th>5</th>\n",
       "      <td>0.0100</td>\n",
       "      <td>-1.325210e-01</td>\n",
       "      <td>-9.296100e-02</td>\n",
       "      <td>-9.307400e-02</td>\n",
       "    </tr>\n",
       "    <tr>\n",
       "      <th>6</th>\n",
       "      <td>0.0010</td>\n",
       "      <td>1.874642e-06</td>\n",
       "      <td>6.889929e-10</td>\n",
       "      <td>6.900937e-10</td>\n",
       "    </tr>\n",
       "    <tr>\n",
       "      <th>7</th>\n",
       "      <td>0.0010</td>\n",
       "      <td>-1.358800e-02</td>\n",
       "      <td>-9.650000e-03</td>\n",
       "      <td>-9.652000e-03</td>\n",
       "    </tr>\n",
       "    <tr>\n",
       "      <th>8</th>\n",
       "      <td>0.0001</td>\n",
       "      <td>4.978814e-08</td>\n",
       "      <td>5.150001e-08</td>\n",
       "      <td>5.150003e-08</td>\n",
       "    </tr>\n",
       "    <tr>\n",
       "      <th>9</th>\n",
       "      <td>0.0001</td>\n",
       "      <td>-8.839000e-03</td>\n",
       "      <td>-8.434000e-03</td>\n",
       "      <td>-8.434000e-03</td>\n",
       "    </tr>\n",
       "  </tbody>\n",
       "</table>\n",
       "</div>"
      ],
      "text/plain": [
       "   timestep         euler     trapezoid           rk4\n",
       "0    1.0000  3.748673e+00  8.706226e-01  2.097758e-03\n",
       "1    1.0000 -1.337371e+01 -5.411214e+00 -8.062191e+00\n",
       "2    0.1000  1.904973e-02  2.307118e-05  6.320262e-12\n",
       "3    0.1000 -1.337292e+00 -9.114210e-01 -9.257720e-01\n",
       "4    0.0100  1.879597e-04  1.985190e-09  2.735641e-12\n",
       "5    0.0100 -1.325210e-01 -9.296100e-02 -9.307400e-02\n",
       "6    0.0010  1.874642e-06  6.889929e-10  6.900937e-10\n",
       "7    0.0010 -1.358800e-02 -9.650000e-03 -9.652000e-03\n",
       "8    0.0001  4.978814e-08  5.150001e-08  5.150003e-08\n",
       "9    0.0001 -8.839000e-03 -8.434000e-03 -8.434000e-03"
      ]
     },
     "execution_count": 41,
     "metadata": {},
     "output_type": "execute_result"
    }
   ],
   "source": [
    "ft_err_df = pd.DataFrame(ft_error)\n",
    "ft_err_df"
   ]
  },
  {
   "cell_type": "code",
   "execution_count": 48,
   "id": "5e7e694b",
   "metadata": {},
   "outputs": [
    {
     "data": {
      "image/png": "[encoded data removed]",
      "text/plain": [
       "<Figure size 640x480 with 1 Axes>"
      ]
     },
     "metadata": {},
     "output_type": "display_data"
    }
   ],
   "source": [
    "plot_err(ft_err_df).show()"
   ]
  },
  {
   "cell_type": "code",
   "execution_count": 42,
   "id": "9996feb1",
   "metadata": {},
   "outputs": [
    {
     "data": {
      "application/vnd.microsoft.datawrangler.viewer.v0+json": {
       "columns": [
        {
         "name": "index",
         "rawType": "int64",
         "type": "integer"
        },
        {
         "name": "timestep",
         "rawType": "float64",
         "type": "float"
        },
        {
         "name": "euler",
         "rawType": "float64",
         "type": "float"
        },
        {
         "name": "trapezoid",
         "rawType": "float64",
         "type": "float"
        },
        {
         "name": "rk4",
         "rawType": "float64",
         "type": "float"
        }
       ],
       "ref": "de6437ae-7997-4a6f-b72a-919c138c484e",
       "rows": [
        [
         "0",
         "1.0",
         "3.7486732179059246",
         "0.8706225906629627",
         "0.002097757776160011"
        ],
        [
         "1",
         "1.0",
         "-13.373714",
         "-5.411214000000001",
         "-8.062190999999999"
        ],
        [
         "2",
         "0.1",
         "0.019049727979120076",
         "2.3071181451137667e-05",
         "6.320262499353307e-12"
        ],
        [
         "3",
         "0.1",
         "-1.3372920000000015",
         "-0.9114210000000007",
         "-0.925772000000002"
        ],
        [
         "4",
         "0.01",
         "0.00018795967019225138",
         "1.9851900665570075e-09",
         "2.7356407286456013e-12"
        ],
        [
         "5",
         "0.01",
         "-0.132520999999997",
         "-0.09296099999999896",
         "-0.09307399999999788"
        ],
        [
         "6",
         "0.001",
         "1.8746421981076467e-06",
         "6.889929222591452e-10",
         "6.900936828912179e-10"
        ],
        [
         "7",
         "0.001",
         "-0.013587999999998601",
         "-0.009650000000000603",
         "-0.009651999999999106"
        ],
        [
         "8",
         "0.0001",
         "4.9788135539445104e-08",
         "5.1500013570118725e-08",
         "5.150002745515704e-08"
        ],
        [
         "9",
         "0.0001",
         "-0.008838999999998265",
         "-0.00843399999999761",
         "-0.00843399999999761"
        ]
       ],
       "shape": {
        "columns": 4,
        "rows": 10
       }
      },
      "text/html": [
       "<div>\n",
       "<style scoped>\n",
       "    .dataframe tbody tr th:only-of-type {\n",
       "        vertical-align: middle;\n",
       "    }\n",
       "\n",
       "    .dataframe tbody tr th {\n",
       "        vertical-align: top;\n",
       "    }\n",
       "\n",
       "    .dataframe thead th {\n",
       "        text-align: right;\n",
       "    }\n",
       "</style>\n",
       "<table border=\"1\" class=\"dataframe\">\n",
       "  <thead>\n",
       "    <tr style=\"text-align: right;\">\n",
       "      <th></th>\n",
       "      <th>timestep</th>\n",
       "      <th>euler</th>\n",
       "      <th>trapezoid</th>\n",
       "      <th>rk4</th>\n",
       "    </tr>\n",
       "  </thead>\n",
       "  <tbody>\n",
       "    <tr>\n",
       "      <th>0</th>\n",
       "      <td>1.0000</td>\n",
       "      <td>3.748673e+00</td>\n",
       "      <td>8.706226e-01</td>\n",
       "      <td>2.097758e-03</td>\n",
       "    </tr>\n",
       "    <tr>\n",
       "      <th>1</th>\n",
       "      <td>1.0000</td>\n",
       "      <td>-1.337371e+01</td>\n",
       "      <td>-5.411214e+00</td>\n",
       "      <td>-8.062191e+00</td>\n",
       "    </tr>\n",
       "    <tr>\n",
       "      <th>2</th>\n",
       "      <td>0.1000</td>\n",
       "      <td>1.904973e-02</td>\n",
       "      <td>2.307118e-05</td>\n",
       "      <td>6.320262e-12</td>\n",
       "    </tr>\n",
       "    <tr>\n",
       "      <th>3</th>\n",
       "      <td>0.1000</td>\n",
       "      <td>-1.337292e+00</td>\n",
       "      <td>-9.114210e-01</td>\n",
       "      <td>-9.257720e-01</td>\n",
       "    </tr>\n",
       "    <tr>\n",
       "      <th>4</th>\n",
       "      <td>0.0100</td>\n",
       "      <td>1.879597e-04</td>\n",
       "      <td>1.985190e-09</td>\n",
       "      <td>2.735641e-12</td>\n",
       "    </tr>\n",
       "    <tr>\n",
       "      <th>5</th>\n",
       "      <td>0.0100</td>\n",
       "      <td>-1.325210e-01</td>\n",
       "      <td>-9.296100e-02</td>\n",
       "      <td>-9.307400e-02</td>\n",
       "    </tr>\n",
       "    <tr>\n",
       "      <th>6</th>\n",
       "      <td>0.0010</td>\n",
       "      <td>1.874642e-06</td>\n",
       "      <td>6.889929e-10</td>\n",
       "      <td>6.900937e-10</td>\n",
       "    </tr>\n",
       "    <tr>\n",
       "      <th>7</th>\n",
       "      <td>0.0010</td>\n",
       "      <td>-1.358800e-02</td>\n",
       "      <td>-9.650000e-03</td>\n",
       "      <td>-9.652000e-03</td>\n",
       "    </tr>\n",
       "    <tr>\n",
       "      <th>8</th>\n",
       "      <td>0.0001</td>\n",
       "      <td>4.978814e-08</td>\n",
       "      <td>5.150001e-08</td>\n",
       "      <td>5.150003e-08</td>\n",
       "    </tr>\n",
       "    <tr>\n",
       "      <th>9</th>\n",
       "      <td>0.0001</td>\n",
       "      <td>-8.839000e-03</td>\n",
       "      <td>-8.434000e-03</td>\n",
       "      <td>-8.434000e-03</td>\n",
       "    </tr>\n",
       "  </tbody>\n",
       "</table>\n",
       "</div>"
      ],
      "text/plain": [
       "   timestep         euler     trapezoid           rk4\n",
       "0    1.0000  3.748673e+00  8.706226e-01  2.097758e-03\n",
       "1    1.0000 -1.337371e+01 -5.411214e+00 -8.062191e+00\n",
       "2    0.1000  1.904973e-02  2.307118e-05  6.320262e-12\n",
       "3    0.1000 -1.337292e+00 -9.114210e-01 -9.257720e-01\n",
       "4    0.0100  1.879597e-04  1.985190e-09  2.735641e-12\n",
       "5    0.0100 -1.325210e-01 -9.296100e-02 -9.307400e-02\n",
       "6    0.0010  1.874642e-06  6.889929e-10  6.900937e-10\n",
       "7    0.0010 -1.358800e-02 -9.650000e-03 -9.652000e-03\n",
       "8    0.0001  4.978814e-08  5.150001e-08  5.150003e-08\n",
       "9    0.0001 -8.839000e-03 -8.434000e-03 -8.434000e-03"
      ]
     },
     "execution_count": 42,
     "metadata": {},
     "output_type": "execute_result"
    }
   ],
   "source": [
    "area_err_df = pd.DataFrame(area_error)\n",
    "area_err_df"
   ]
  },
  {
   "cell_type": "code",
   "execution_count": 49,
   "id": "27c1aa2f",
   "metadata": {},
   "outputs": [
    {
     "data": {
      "image/png": "[encoded data removed]",
      "text/plain": [
       "<Figure size 640x480 with 1 Axes>"
      ]
     },
     "metadata": {},
     "output_type": "display_data"
    }
   ],
   "source": [
    "plot_err(area_err_df).show()"
   ]
  },
  {
   "cell_type": "code",
   "execution_count": null,
   "id": "57e88c3c",
   "metadata": {},
   "outputs": [],
   "source": []
  }
 ],
 "metadata": {
  "kernelspec": {
   "display_name": ".venv",
   "language": "python",
   "name": "python3"
  },
  "language_info": {
   "codemirror_mode": {
    "name": "ipython",
    "version": 3
   },
   "file_extension": ".py",
   "mimetype": "text/x-python",
   "name": "python",
   "nbconvert_exporter": "python",
   "pygments_lexer": "ipython3",
   "version": "3.13.3"
  }
 },
 "nbformat": 4,
 "nbformat_minor": 5
}
