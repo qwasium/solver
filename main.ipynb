{
 "cells": [
  {
   "cell_type": "markdown",
   "id": "bca9f8ee",
   "metadata": {},
   "source": [
    "# Solver"
   ]
  },
  {
   "cell_type": "markdown",
   "id": "d5a5749a",
   "metadata": {},
   "source": [
    "## Config file"
   ]
  },
  {
   "cell_type": "code",
   "execution_count": 2,
   "id": "f266af06",
   "metadata": {},
   "outputs": [
    {
     "data": {
      "text/plain": [
       "PosixPath('/home/hangman/Documents/solver')"
      ]
     },
     "execution_count": 2,
     "metadata": {},
     "output_type": "execute_result"
    }
   ],
   "source": [
    "from pathlib import Path\n",
    "import os\n",
    "\n",
    "import yaml\n",
    "import numpy as np\n",
    "import pandas as pd\n",
    "import matplotlib.pyplot as plt\n",
    "\n",
    "HERE = Path(os.getcwd()) # Path(__file__) won't work in Jupyter\n",
    "HERE"
   ]
  },
  {
   "cell_type": "code",
   "execution_count": null,
   "id": "cc2b1b02",
   "metadata": {},
   "outputs": [
    {
     "data": {
      "text/plain": [
       "{'time_end': 3,\n",
       " 'time_step': 0.05,\n",
       " 'f_0': 2,\n",
       " 'mass': 1.0,\n",
       " 'viscosity': 1.0,\n",
       " 'ft_fname': 'f_t.csv',\n",
       " 'area_fname': 'area.csv'}"
      ]
     },
     "execution_count": 5,
     "metadata": {},
     "output_type": "execute_result"
    }
   ],
   "source": [
    "with open(HERE / 'config' / 'settings.yaml.bak') as f:\n",
    "    config = yaml.safe_load(f)\n",
    "config"
   ]
  },
  {
   "cell_type": "code",
   "execution_count": 61,
   "id": "1c5f105e",
   "metadata": {},
   "outputs": [],
   "source": [
    "new_config = {\n",
    "    'time_end'  : 5,\n",
    "    'time_step' : 0.01,\n",
    "    'f_0'       : 0,\n",
    "    'mass'      : 2,\n",
    "    'viscosity' : 10,\n",
    "    'ft_fname'  : 'f_t.csv',\n",
    "    'area_fname': 'area.csv',\n",
    "}"
   ]
  },
  {
   "cell_type": "code",
   "execution_count": 62,
   "id": "89d7830b",
   "metadata": {},
   "outputs": [],
   "source": [
    "with open(HERE / 'config' / 'settings.yaml', 'w') as f:\n",
    "    yaml.dump(new_config, f)"
   ]
  },
  {
   "cell_type": "markdown",
   "id": "2087eb3e",
   "metadata": {},
   "source": [
    "## Simulation\n",
    "\n",
    "`cargo run` will read `config/settings.yaml` and produce:\n",
    "\n",
    "- `result/`\n",
    "  - `<config[\"area_fname\"]>.csv`\n",
    "  - `<config[\"ft_fname\"]>.csv`"
   ]
  },
  {
   "cell_type": "code",
   "execution_count": 63,
   "id": "956e4c01",
   "metadata": {},
   "outputs": [
    {
     "name": "stdout",
     "output_type": "stream",
     "text": [
      "\u001b[1m\u001b[32m    Finished\u001b[0m `dev` profile [unoptimized + debuginfo] target(s) in 0.04s\n",
      "\u001b[1m\u001b[32m     Running\u001b[0m `target/debug/solver`\n",
      "Solver { time_end: 5.0, time_step: 0.01, f_0: 0.0, mass: 2.0, viscosity: 10.0, gravity: 9.8 }\n",
      "\n",
      "=== Final Values f(5) ===\n",
      "Analytical solution: 1.960000\n",
      "Euler method:        1.959999\n",
      "Trapezoidal method:  1.959999\n",
      "\n",
      "=== Integrals ∫f(t)dt from 0 to 5 ===\n",
      "Analytical integral:           9.407899\n",
      "Euler ODE + Trap integration:  9.417781\n",
      "Trap ODE + Trap integration:   9.407731\n",
      "\n"
     ]
    }
   ],
   "source": [
    "!cargo run"
   ]
  },
  {
   "cell_type": "markdown",
   "id": "eef2802a",
   "metadata": {},
   "source": [
    "## Plot"
   ]
  },
  {
   "cell_type": "code",
   "execution_count": 64,
   "id": "d27599e3",
   "metadata": {},
   "outputs": [],
   "source": [
    "def plot_data(df) -> plt:\n",
    "    plt.plot(\n",
    "        df[\"timestamp\"], df[\"euler\"], label=\"euler\", color=\"blue\"\n",
    "    )\n",
    "    plt.plot(\n",
    "        df[\"timestamp\"], df[\"trapezoid\"], label=\"trapezoid\", color=\"orange\"\n",
    "    )\n",
    "    plt.legend()\n",
    "    return plt"
   ]
  },
  {
   "cell_type": "markdown",
   "id": "848170c9",
   "metadata": {},
   "source": [
    "### $f(t)$ (1st integral)"
   ]
  },
  {
   "cell_type": "code",
   "execution_count": 65,
   "id": "1d2ee33d",
   "metadata": {},
   "outputs": [
    {
     "data": {
      "application/vnd.microsoft.datawrangler.viewer.v0+json": {
       "columns": [
        {
         "name": "index",
         "rawType": "int64",
         "type": "integer"
        },
        {
         "name": "timestamp",
         "rawType": "float64",
         "type": "float"
        },
        {
         "name": "euler",
         "rawType": "float64",
         "type": "float"
        },
        {
         "name": "trapezoid",
         "rawType": "float64",
         "type": "float"
        }
       ],
       "ref": "5c933c67-817a-478b-a44b-0d227ff2f104",
       "rows": [
        [
         "0",
         "0.0",
         "0.0",
         "0.0"
        ],
        [
         "1",
         "0.01",
         "0.098",
         "0.09555"
        ],
        [
         "2",
         "0.02",
         "0.1911",
         "0.18644193"
        ],
        [
         "3",
         "0.03",
         "0.279545",
         "0.27290288"
        ],
        [
         "4",
         "0.04",
         "0.36356777",
         "0.35514885"
        ],
        [
         "5",
         "0.049999997",
         "0.4433894",
         "0.43338534"
        ],
        [
         "6",
         "0.059999995",
         "0.51921993",
         "0.5078078"
        ],
        [
         "7",
         "0.06999999",
         "0.59125894",
         "0.5786022"
        ],
        [
         "8",
         "0.07999999",
         "0.659696",
         "0.6459453"
        ],
        [
         "9",
         "0.08999999",
         "0.7247112",
         "0.71000546"
        ],
        [
         "10",
         "0.09999999",
         "0.7864756",
         "0.7709427"
        ],
        [
         "11",
         "0.109999985",
         "0.84515184",
         "0.8289092"
        ],
        [
         "12",
         "0.11999998",
         "0.9008942",
         "0.8840499"
        ],
        [
         "13",
         "0.12999998",
         "0.9538495",
         "0.93650246"
        ],
        [
         "14",
         "0.13999999",
         "1.0041571",
         "0.986398"
        ],
        [
         "15",
         "0.14999999",
         "1.0519493",
         "1.033861"
        ],
        [
         "16",
         "0.16",
         "1.0973518",
         "1.0790104"
        ],
        [
         "17",
         "0.17",
         "1.1404842",
         "1.1219586"
        ],
        [
         "18",
         "0.18",
         "1.18146",
         "1.1628132"
        ],
        [
         "19",
         "0.19000001",
         "1.220387",
         "1.201676"
        ],
        [
         "20",
         "0.20000002",
         "1.2573676",
         "1.2386444"
        ],
        [
         "21",
         "0.21000002",
         "1.2924992",
         "1.2738105"
        ],
        [
         "22",
         "0.22000003",
         "1.3258742",
         "1.3072623"
        ],
        [
         "23",
         "0.23000003",
         "1.3575805",
         "1.3390833"
        ],
        [
         "24",
         "0.24000004",
         "1.3877015",
         "1.369353"
        ],
        [
         "25",
         "0.25000003",
         "1.4163164",
         "1.3981471"
        ],
        [
         "26",
         "0.26000002",
         "1.4435005",
         "1.4255375"
        ],
        [
         "27",
         "0.27",
         "1.4693255",
         "1.4515926"
        ],
        [
         "28",
         "0.28",
         "1.4938593",
         "1.4763775"
        ],
        [
         "29",
         "0.29",
         "1.5171664",
         "1.4999541"
        ],
        [
         "30",
         "0.29999998",
         "1.5393081",
         "1.5223813"
        ],
        [
         "31",
         "0.30999997",
         "1.5603427",
         "1.5437152"
        ],
        [
         "32",
         "0.31999996",
         "1.5803255",
         "1.5640091"
        ],
        [
         "33",
         "0.32999995",
         "1.5993092",
         "1.5833136"
        ],
        [
         "34",
         "0.33999994",
         "1.6173438",
         "1.6016771"
        ],
        [
         "35",
         "0.34999993",
         "1.6344765",
         "1.6191453"
        ],
        [
         "36",
         "0.35999992",
         "1.6507527",
         "1.635762"
        ],
        [
         "37",
         "0.36999992",
         "1.6662151",
         "1.6515685"
        ],
        [
         "38",
         "0.3799999",
         "1.6809043",
         "1.6666045"
        ],
        [
         "39",
         "0.3899999",
         "1.694859",
         "1.6809076"
        ],
        [
         "40",
         "0.3999999",
         "1.708116",
         "1.6945133"
        ],
        [
         "41",
         "0.40999988",
         "1.7207103",
         "1.7074558"
        ],
        [
         "42",
         "0.41999987",
         "1.7326747",
         "1.7197673"
        ],
        [
         "43",
         "0.42999986",
         "1.744041",
         "1.7314787"
        ],
        [
         "44",
         "0.43999985",
         "1.754839",
         "1.7426192"
        ],
        [
         "45",
         "0.44999984",
         "1.765097",
         "1.7532165"
        ],
        [
         "46",
         "0.45999983",
         "1.7748421",
         "1.7632972"
        ],
        [
         "47",
         "0.46999982",
         "1.7841",
         "1.7728865"
        ],
        [
         "48",
         "0.4799998",
         "1.7928951",
         "1.7820083"
        ],
        [
         "49",
         "0.4899998",
         "1.8012503",
         "1.7906854"
        ]
       ],
       "shape": {
        "columns": 3,
        "rows": 501
       }
      },
      "text/html": [
       "<div>\n",
       "<style scoped>\n",
       "    .dataframe tbody tr th:only-of-type {\n",
       "        vertical-align: middle;\n",
       "    }\n",
       "\n",
       "    .dataframe tbody tr th {\n",
       "        vertical-align: top;\n",
       "    }\n",
       "\n",
       "    .dataframe thead th {\n",
       "        text-align: right;\n",
       "    }\n",
       "</style>\n",
       "<table border=\"1\" class=\"dataframe\">\n",
       "  <thead>\n",
       "    <tr style=\"text-align: right;\">\n",
       "      <th></th>\n",
       "      <th>timestamp</th>\n",
       "      <th>euler</th>\n",
       "      <th>trapezoid</th>\n",
       "    </tr>\n",
       "  </thead>\n",
       "  <tbody>\n",
       "    <tr>\n",
       "      <th>0</th>\n",
       "      <td>0.000000</td>\n",
       "      <td>0.000000</td>\n",
       "      <td>0.000000</td>\n",
       "    </tr>\n",
       "    <tr>\n",
       "      <th>1</th>\n",
       "      <td>0.010000</td>\n",
       "      <td>0.098000</td>\n",
       "      <td>0.095550</td>\n",
       "    </tr>\n",
       "    <tr>\n",
       "      <th>2</th>\n",
       "      <td>0.020000</td>\n",
       "      <td>0.191100</td>\n",
       "      <td>0.186442</td>\n",
       "    </tr>\n",
       "    <tr>\n",
       "      <th>3</th>\n",
       "      <td>0.030000</td>\n",
       "      <td>0.279545</td>\n",
       "      <td>0.272903</td>\n",
       "    </tr>\n",
       "    <tr>\n",
       "      <th>4</th>\n",
       "      <td>0.040000</td>\n",
       "      <td>0.363568</td>\n",
       "      <td>0.355149</td>\n",
       "    </tr>\n",
       "    <tr>\n",
       "      <th>...</th>\n",
       "      <td>...</td>\n",
       "      <td>...</td>\n",
       "      <td>...</td>\n",
       "    </tr>\n",
       "    <tr>\n",
       "      <th>496</th>\n",
       "      <td>4.960019</td>\n",
       "      <td>1.959999</td>\n",
       "      <td>1.959999</td>\n",
       "    </tr>\n",
       "    <tr>\n",
       "      <th>497</th>\n",
       "      <td>4.970019</td>\n",
       "      <td>1.959999</td>\n",
       "      <td>1.959999</td>\n",
       "    </tr>\n",
       "    <tr>\n",
       "      <th>498</th>\n",
       "      <td>4.980019</td>\n",
       "      <td>1.959999</td>\n",
       "      <td>1.959999</td>\n",
       "    </tr>\n",
       "    <tr>\n",
       "      <th>499</th>\n",
       "      <td>4.990019</td>\n",
       "      <td>1.959999</td>\n",
       "      <td>1.959999</td>\n",
       "    </tr>\n",
       "    <tr>\n",
       "      <th>500</th>\n",
       "      <td>5.000020</td>\n",
       "      <td>1.959999</td>\n",
       "      <td>1.959999</td>\n",
       "    </tr>\n",
       "  </tbody>\n",
       "</table>\n",
       "<p>501 rows × 3 columns</p>\n",
       "</div>"
      ],
      "text/plain": [
       "     timestamp     euler  trapezoid\n",
       "0     0.000000  0.000000   0.000000\n",
       "1     0.010000  0.098000   0.095550\n",
       "2     0.020000  0.191100   0.186442\n",
       "3     0.030000  0.279545   0.272903\n",
       "4     0.040000  0.363568   0.355149\n",
       "..         ...       ...        ...\n",
       "496   4.960019  1.959999   1.959999\n",
       "497   4.970019  1.959999   1.959999\n",
       "498   4.980019  1.959999   1.959999\n",
       "499   4.990019  1.959999   1.959999\n",
       "500   5.000020  1.959999   1.959999\n",
       "\n",
       "[501 rows x 3 columns]"
      ]
     },
     "execution_count": 65,
     "metadata": {},
     "output_type": "execute_result"
    }
   ],
   "source": [
    "ft_df = pd.read_csv(\n",
    "    HERE / \"result\" / \"f_t.csv\",\n",
    ")\n",
    "ft_df"
   ]
  },
  {
   "cell_type": "code",
   "execution_count": 66,
   "id": "ef61dfce",
   "metadata": {},
   "outputs": [
    {
     "data": {
      "image/png": "[encoded data removed]",
      "text/plain": [
       "<Figure size 640x480 with 1 Axes>"
      ]
     },
     "metadata": {},
     "output_type": "display_data"
    }
   ],
   "source": [
    "plot_data(ft_df).show()"
   ]
  },
  {
   "cell_type": "markdown",
   "id": "4ef9476b",
   "metadata": {},
   "source": [
    "### area (2nd integral)"
   ]
  },
  {
   "cell_type": "code",
   "execution_count": 67,
   "id": "12526e3f",
   "metadata": {},
   "outputs": [
    {
     "data": {
      "application/vnd.microsoft.datawrangler.viewer.v0+json": {
       "columns": [
        {
         "name": "index",
         "rawType": "int64",
         "type": "integer"
        },
        {
         "name": "timestamp",
         "rawType": "float64",
         "type": "float"
        },
        {
         "name": "euler",
         "rawType": "float64",
         "type": "float"
        },
        {
         "name": "trapezoid",
         "rawType": "float64",
         "type": "float"
        }
       ],
       "ref": "30a15f3c-a639-489b-86ce-a6f517084f4a",
       "rows": [
        [
         "0",
         "0.0",
         "0.0",
         "0.0"
        ],
        [
         "1",
         "0.01",
         "0.00048999995",
         "0.00047775"
        ],
        [
         "2",
         "0.02",
         "0.0019355",
         "0.0018877096"
        ],
        [
         "3",
         "0.03",
         "0.0042887246",
         "0.0041844333"
        ],
        [
         "4",
         "0.04",
         "0.007504288",
         "0.007324692"
        ],
        [
         "5",
         "0.049999997",
         "0.011539074",
         "0.011267362"
        ],
        [
         "6",
         "0.059999995",
         "0.01635212",
         "0.015973328"
        ],
        [
         "7",
         "0.06999999",
         "0.021904515",
         "0.021405378"
        ],
        [
         "8",
         "0.07999999",
         "0.028159289",
         "0.027528115"
        ],
        [
         "9",
         "0.08999999",
         "0.035081323",
         "0.034307867"
        ],
        [
         "10",
         "0.09999999",
         "0.04263726",
         "0.04171261"
        ],
        [
         "11",
         "0.109999985",
         "0.050795395",
         "0.04971187"
        ],
        [
         "12",
         "0.11999998",
         "0.059525624",
         "0.058276664"
        ],
        [
         "13",
         "0.12999998",
         "0.06879934",
         "0.06737943"
        ],
        [
         "14",
         "0.13999999",
         "0.07858937",
         "0.076993935"
        ],
        [
         "15",
         "0.14999999",
         "0.08886991",
         "0.08709523"
        ],
        [
         "16",
         "0.16",
         "0.09961641",
         "0.09765959"
        ],
        [
         "17",
         "0.17",
         "0.110805586",
         "0.10866443"
        ],
        [
         "18",
         "0.18",
         "0.122415304",
         "0.120088294"
        ],
        [
         "19",
         "0.19000001",
         "0.13442454",
         "0.13191074"
        ],
        [
         "20",
         "0.20000002",
         "0.1468133",
         "0.14411235"
        ],
        [
         "21",
         "0.21000002",
         "0.15956263",
         "0.15667462"
        ],
        [
         "22",
         "0.22000003",
         "0.1726545",
         "0.16957998"
        ],
        [
         "23",
         "0.23000003",
         "0.18607177",
         "0.1828117"
        ],
        [
         "24",
         "0.24000004",
         "0.19979818",
         "0.19635388"
        ],
        [
         "25",
         "0.25000003",
         "0.21381827",
         "0.21019138"
        ],
        [
         "26",
         "0.26000002",
         "0.22811735",
         "0.2243098"
        ],
        [
         "27",
         "0.27",
         "0.24268147",
         "0.23869546"
        ],
        [
         "28",
         "0.28",
         "0.2574974",
         "0.2533353"
        ],
        [
         "29",
         "0.29",
         "0.27255252",
         "0.26821697"
        ],
        [
         "30",
         "0.29999998",
         "0.28783488",
         "0.28332865"
        ],
        [
         "31",
         "0.30999997",
         "0.30333313",
         "0.29865915"
        ],
        [
         "32",
         "0.31999996",
         "0.31903648",
         "0.31419778"
        ],
        [
         "33",
         "0.32999995",
         "0.33493465",
         "0.3299344"
        ],
        [
         "34",
         "0.33999994",
         "0.35101792",
         "0.34585935"
        ],
        [
         "35",
         "0.34999993",
         "0.36727703",
         "0.36196345"
        ],
        [
         "36",
         "0.35999992",
         "0.38370317",
         "0.378238"
        ],
        [
         "37",
         "0.36999992",
         "0.40028802",
         "0.39467466"
        ],
        [
         "38",
         "0.3799999",
         "0.4170236",
         "0.41126552"
        ],
        [
         "39",
         "0.3899999",
         "0.4339024",
         "0.42800307"
        ],
        [
         "40",
         "0.3999999",
         "0.45091727",
         "0.4448802"
        ],
        [
         "41",
         "0.40999988",
         "0.46806142",
         "0.46189004"
        ],
        [
         "42",
         "0.41999987",
         "0.48532835",
         "0.47902617"
        ],
        [
         "43",
         "0.42999986",
         "0.50271195",
         "0.4962824"
        ],
        [
         "44",
         "0.43999985",
         "0.52020633",
         "0.51365286"
        ],
        [
         "45",
         "0.44999984",
         "0.53780603",
         "0.53113204"
        ],
        [
         "46",
         "0.45999983",
         "0.55550575",
         "0.54871464"
        ],
        [
         "47",
         "0.46999982",
         "0.5733005",
         "0.5663956"
        ],
        [
         "48",
         "0.4799998",
         "0.59118545",
         "0.58417004"
        ],
        [
         "49",
         "0.4899998",
         "0.6091562",
         "0.6020335"
        ]
       ],
       "shape": {
        "columns": 3,
        "rows": 501
       }
      },
      "text/html": [
       "<div>\n",
       "<style scoped>\n",
       "    .dataframe tbody tr th:only-of-type {\n",
       "        vertical-align: middle;\n",
       "    }\n",
       "\n",
       "    .dataframe tbody tr th {\n",
       "        vertical-align: top;\n",
       "    }\n",
       "\n",
       "    .dataframe thead th {\n",
       "        text-align: right;\n",
       "    }\n",
       "</style>\n",
       "<table border=\"1\" class=\"dataframe\">\n",
       "  <thead>\n",
       "    <tr style=\"text-align: right;\">\n",
       "      <th></th>\n",
       "      <th>timestamp</th>\n",
       "      <th>euler</th>\n",
       "      <th>trapezoid</th>\n",
       "    </tr>\n",
       "  </thead>\n",
       "  <tbody>\n",
       "    <tr>\n",
       "      <th>0</th>\n",
       "      <td>0.000000</td>\n",
       "      <td>0.000000</td>\n",
       "      <td>0.000000</td>\n",
       "    </tr>\n",
       "    <tr>\n",
       "      <th>1</th>\n",
       "      <td>0.010000</td>\n",
       "      <td>0.000490</td>\n",
       "      <td>0.000478</td>\n",
       "    </tr>\n",
       "    <tr>\n",
       "      <th>2</th>\n",
       "      <td>0.020000</td>\n",
       "      <td>0.001935</td>\n",
       "      <td>0.001888</td>\n",
       "    </tr>\n",
       "    <tr>\n",
       "      <th>3</th>\n",
       "      <td>0.030000</td>\n",
       "      <td>0.004289</td>\n",
       "      <td>0.004184</td>\n",
       "    </tr>\n",
       "    <tr>\n",
       "      <th>4</th>\n",
       "      <td>0.040000</td>\n",
       "      <td>0.007504</td>\n",
       "      <td>0.007325</td>\n",
       "    </tr>\n",
       "    <tr>\n",
       "      <th>...</th>\n",
       "      <td>...</td>\n",
       "      <td>...</td>\n",
       "      <td>...</td>\n",
       "    </tr>\n",
       "    <tr>\n",
       "      <th>496</th>\n",
       "      <td>4.960019</td>\n",
       "      <td>9.339381</td>\n",
       "      <td>9.329331</td>\n",
       "    </tr>\n",
       "    <tr>\n",
       "      <th>497</th>\n",
       "      <td>4.970019</td>\n",
       "      <td>9.358981</td>\n",
       "      <td>9.348931</td>\n",
       "    </tr>\n",
       "    <tr>\n",
       "      <th>498</th>\n",
       "      <td>4.980019</td>\n",
       "      <td>9.378581</td>\n",
       "      <td>9.368531</td>\n",
       "    </tr>\n",
       "    <tr>\n",
       "      <th>499</th>\n",
       "      <td>4.990019</td>\n",
       "      <td>9.398181</td>\n",
       "      <td>9.388131</td>\n",
       "    </tr>\n",
       "    <tr>\n",
       "      <th>500</th>\n",
       "      <td>5.000020</td>\n",
       "      <td>9.417781</td>\n",
       "      <td>9.407731</td>\n",
       "    </tr>\n",
       "  </tbody>\n",
       "</table>\n",
       "<p>501 rows × 3 columns</p>\n",
       "</div>"
      ],
      "text/plain": [
       "     timestamp     euler  trapezoid\n",
       "0     0.000000  0.000000   0.000000\n",
       "1     0.010000  0.000490   0.000478\n",
       "2     0.020000  0.001935   0.001888\n",
       "3     0.030000  0.004289   0.004184\n",
       "4     0.040000  0.007504   0.007325\n",
       "..         ...       ...        ...\n",
       "496   4.960019  9.339381   9.329331\n",
       "497   4.970019  9.358981   9.348931\n",
       "498   4.980019  9.378581   9.368531\n",
       "499   4.990019  9.398181   9.388131\n",
       "500   5.000020  9.417781   9.407731\n",
       "\n",
       "[501 rows x 3 columns]"
      ]
     },
     "execution_count": 67,
     "metadata": {},
     "output_type": "execute_result"
    }
   ],
   "source": [
    "area_df = pd.read_csv(\n",
    "    HERE / \"result\" / \"area.csv\",\n",
    ")\n",
    "area_df"
   ]
  },
  {
   "cell_type": "code",
   "execution_count": 68,
   "id": "d8e36119",
   "metadata": {},
   "outputs": [
    {
     "data": {
      "image/png": "[encoded data removed]",
      "text/plain": [
       "<Figure size 640x480 with 1 Axes>"
      ]
     },
     "metadata": {},
     "output_type": "display_data"
    }
   ],
   "source": [
    "plot_data(area_df).show()"
   ]
  },
  {
   "cell_type": "code",
   "execution_count": null,
   "id": "2e69e0f9",
   "metadata": {},
   "outputs": [],
   "source": []
  }
 ],
 "metadata": {
  "kernelspec": {
   "display_name": ".venv",
   "language": "python",
   "name": "python3"
  },
  "language_info": {
   "codemirror_mode": {
    "name": "ipython",
    "version": 3
   },
   "file_extension": ".py",
   "mimetype": "text/x-python",
   "name": "python",
   "nbconvert_exporter": "python",
   "pygments_lexer": "ipython3",
   "version": "3.13.3"
  }
 },
 "nbformat": 4,
 "nbformat_minor": 5
}
