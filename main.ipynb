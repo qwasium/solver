{
 "cells": [
  {
   "cell_type": "markdown",
   "id": "bca9f8ee",
   "metadata": {},
   "source": [
    "# Solver"
   ]
  },
  {
   "cell_type": "markdown",
   "id": "2087eb3e",
   "metadata": {},
   "source": [
    "## Rust\n",
    "\n",
    "`cargo run` will produce:\n",
    "\n",
    "- `result/`\n",
    "  - `area.csv`\n",
    "  - `f_t.csv`"
   ]
  },
  {
   "cell_type": "code",
   "execution_count": 1,
   "id": "956e4c01",
   "metadata": {},
   "outputs": [
    {
     "name": "stdout",
     "output_type": "stream",
     "text": [
      "\u001b[1m\u001b[32m   Compiling\u001b[0m solver v0.1.0 (/home/hangman/Documents/solver)\n",
      "\u001b[K\u001b[1m\u001b[32m    Finished\u001b[0m `dev` profile [unoptimized + debuginfo] target(s) in 0.26s    \n",
      "\u001b[1m\u001b[32m     Running\u001b[0m `target/debug/solver`\n",
      "Solver { time_end: 3.0, time_step: 0.05, f_0: 2.0, mass: 1.0, viscosity: 1.0, gravity: 9.8 }\n",
      "\n",
      "=== Final Values f(3) ===\n",
      "Analytical solution: 9.411661\n",
      "Euler method:        9.458623\n",
      "Trapezoidal method:  9.430114\n",
      "\n",
      "=== Integrals ∫f(t)dt from 0 to 3 ===\n",
      "Analytical integral:           22.457851\n",
      "Euler ODE + Trap integration:  22.617842\n",
      "Trap ODE + Trap integration:   22.455130\n",
      "\n"
     ]
    }
   ],
   "source": [
    "!cargo run"
   ]
  },
  {
   "cell_type": "markdown",
   "id": "eef2802a",
   "metadata": {},
   "source": [
    "## Python"
   ]
  },
  {
   "cell_type": "code",
   "execution_count": 2,
   "id": "f266af06",
   "metadata": {},
   "outputs": [
    {
     "data": {
      "text/plain": [
       "PosixPath('/home/hangman/Documents/solver')"
      ]
     },
     "execution_count": 2,
     "metadata": {},
     "output_type": "execute_result"
    }
   ],
   "source": [
    "from pathlib import Path\n",
    "import os\n",
    "\n",
    "import numpy as np\n",
    "import pandas as pd\n",
    "import matplotlib.pyplot as plt\n",
    "\n",
    "HERE = Path(os.getcwd()) # Path(__file__) won't work in Jupyter\n",
    "HERE"
   ]
  },
  {
   "cell_type": "code",
   "execution_count": 7,
   "id": "d27599e3",
   "metadata": {},
   "outputs": [],
   "source": [
    "def plot_data(df) -> plt:\n",
    "    plt.plot(df[\"timestamp\"], df[\"euler\"], label=\"euler\", color=\"blue\")\n",
    "    plt.plot(df[\"timestamp\"], df[\"trapezoid\"], label=\"trapezoid\", color=\"orange\")\n",
    "    return plt"
   ]
  },
  {
   "cell_type": "markdown",
   "id": "848170c9",
   "metadata": {},
   "source": [
    "### $f(t)$ (1st integral)"
   ]
  },
  {
   "cell_type": "code",
   "execution_count": 3,
   "id": "1d2ee33d",
   "metadata": {},
   "outputs": [
    {
     "data": {
      "application/vnd.microsoft.datawrangler.viewer.v0+json": {
       "columns": [
        {
         "name": "index",
         "rawType": "int64",
         "type": "integer"
        },
        {
         "name": "timestamp",
         "rawType": "float64",
         "type": "float"
        },
        {
         "name": "euler",
         "rawType": "float64",
         "type": "float"
        },
        {
         "name": "trapezoid",
         "rawType": "float64",
         "type": "float"
        }
       ],
       "ref": "e377bcdd-9cbf-48e5-93ac-bc5f1166e15b",
       "rows": [
        [
         "0",
         "0.0",
         "2.0",
         "2.0"
        ],
        [
         "1",
         "0.05",
         "2.39",
         "2.38025"
        ],
        [
         "2",
         "0.1",
         "2.7605002",
         "2.741963"
        ],
        [
         "3",
         "0.15",
         "3.1124752",
         "3.0860422"
        ],
        [
         "4",
         "0.2",
         "3.4468515",
         "3.4133477"
        ],
        [
         "5",
         "0.25",
         "3.764509",
         "3.724697"
        ],
        [
         "6",
         "0.3",
         "4.0662837",
         "4.0208683"
        ],
        [
         "7",
         "0.35000002",
         "4.3529696",
         "4.302601"
        ],
        [
         "8",
         "0.40000004",
         "4.6253214",
         "4.570599"
        ],
        [
         "9",
         "0.45000005",
         "4.884055",
         "4.8255324"
        ],
        [
         "10",
         "0.50000006",
         "5.1298523",
         "5.068038"
        ],
        [
         "11",
         "0.5500001",
         "5.3633595",
         "5.2987213"
        ],
        [
         "12",
         "0.6000001",
         "5.5851917",
         "5.518159"
        ],
        [
         "13",
         "0.6500001",
         "5.7959323",
         "5.7268987"
        ],
        [
         "14",
         "0.7000001",
         "5.9961357",
         "5.9254622"
        ],
        [
         "15",
         "0.7500001",
         "6.186329",
         "6.114346"
        ],
        [
         "16",
         "0.80000013",
         "6.3670125",
         "6.2940216"
        ],
        [
         "17",
         "0.85000014",
         "6.538662",
         "6.464938"
        ],
        [
         "18",
         "0.90000015",
         "6.701729",
         "6.6275225"
        ],
        [
         "19",
         "0.95000017",
         "6.8566422",
         "6.782181"
        ],
        [
         "20",
         "1.0000001",
         "7.00381",
         "6.9292994"
        ],
        [
         "21",
         "1.0500001",
         "7.1436195",
         "7.069246"
        ],
        [
         "22",
         "1.1",
         "7.2764387",
         "7.20237"
        ],
        [
         "23",
         "1.15",
         "7.402617",
         "7.329005"
        ],
        [
         "24",
         "1.1999999",
         "7.522486",
         "7.4494658"
        ],
        [
         "25",
         "1.2499999",
         "7.636362",
         "7.5640545"
        ],
        [
         "26",
         "1.2999998",
         "7.744544",
         "7.6730566"
        ],
        [
         "27",
         "1.3499998",
         "7.8473167",
         "7.7767453"
        ],
        [
         "28",
         "1.3999997",
         "7.944951",
         "7.875379"
        ],
        [
         "29",
         "1.4499997",
         "8.0377035",
         "7.9692044"
        ],
        [
         "30",
         "1.4999996",
         "8.125818",
         "8.058455"
        ],
        [
         "31",
         "1.5499996",
         "8.209527",
         "8.143355"
        ],
        [
         "32",
         "1.5999995",
         "8.289051",
         "8.224117"
        ],
        [
         "33",
         "1.6499995",
         "8.364598",
         "8.300941"
        ],
        [
         "34",
         "1.6999995",
         "8.436368",
         "8.374021"
        ],
        [
         "35",
         "1.7499994",
         "8.50455",
         "8.443537"
        ],
        [
         "36",
         "1.7999994",
         "8.569323",
         "8.509665"
        ],
        [
         "37",
         "1.8499993",
         "8.6308565",
         "8.572568"
        ],
        [
         "38",
         "1.8999993",
         "8.689314",
         "8.632405"
        ],
        [
         "39",
         "1.9499992",
         "8.744848",
         "8.689325"
        ],
        [
         "40",
         "1.9999992",
         "8.7976055",
         "8.743471"
        ],
        [
         "41",
         "2.0499992",
         "8.847725",
         "8.794977"
        ],
        [
         "42",
         "2.0999992",
         "8.895339",
         "8.843972"
        ],
        [
         "43",
         "2.1499991",
         "8.940572",
         "8.890578"
        ],
        [
         "44",
         "2.199999",
         "8.983543",
         "8.934913"
        ],
        [
         "45",
         "2.249999",
         "9.024366",
         "8.977086"
        ],
        [
         "46",
         "2.299999",
         "9.0631485",
         "9.017203"
        ],
        [
         "47",
         "2.349999",
         "9.099991",
         "9.055365"
        ],
        [
         "48",
         "2.399999",
         "9.134992",
         "9.091665"
        ],
        [
         "49",
         "2.4499989",
         "9.168242",
         "9.126197"
        ]
       ],
       "shape": {
        "columns": 3,
        "rows": 62
       }
      },
      "text/html": [
       "<div>\n",
       "<style scoped>\n",
       "    .dataframe tbody tr th:only-of-type {\n",
       "        vertical-align: middle;\n",
       "    }\n",
       "\n",
       "    .dataframe tbody tr th {\n",
       "        vertical-align: top;\n",
       "    }\n",
       "\n",
       "    .dataframe thead th {\n",
       "        text-align: right;\n",
       "    }\n",
       "</style>\n",
       "<table border=\"1\" class=\"dataframe\">\n",
       "  <thead>\n",
       "    <tr style=\"text-align: right;\">\n",
       "      <th></th>\n",
       "      <th>timestamp</th>\n",
       "      <th>euler</th>\n",
       "      <th>trapezoid</th>\n",
       "    </tr>\n",
       "  </thead>\n",
       "  <tbody>\n",
       "    <tr>\n",
       "      <th>0</th>\n",
       "      <td>0.000000</td>\n",
       "      <td>2.000000</td>\n",
       "      <td>2.000000</td>\n",
       "    </tr>\n",
       "    <tr>\n",
       "      <th>1</th>\n",
       "      <td>0.050000</td>\n",
       "      <td>2.390000</td>\n",
       "      <td>2.380250</td>\n",
       "    </tr>\n",
       "    <tr>\n",
       "      <th>2</th>\n",
       "      <td>0.100000</td>\n",
       "      <td>2.760500</td>\n",
       "      <td>2.741963</td>\n",
       "    </tr>\n",
       "    <tr>\n",
       "      <th>3</th>\n",
       "      <td>0.150000</td>\n",
       "      <td>3.112475</td>\n",
       "      <td>3.086042</td>\n",
       "    </tr>\n",
       "    <tr>\n",
       "      <th>4</th>\n",
       "      <td>0.200000</td>\n",
       "      <td>3.446852</td>\n",
       "      <td>3.413348</td>\n",
       "    </tr>\n",
       "    <tr>\n",
       "      <th>...</th>\n",
       "      <td>...</td>\n",
       "      <td>...</td>\n",
       "      <td>...</td>\n",
       "    </tr>\n",
       "    <tr>\n",
       "      <th>57</th>\n",
       "      <td>2.849998</td>\n",
       "      <td>9.380878</td>\n",
       "      <td>9.348259</td>\n",
       "    </tr>\n",
       "    <tr>\n",
       "      <th>58</th>\n",
       "      <td>2.899998</td>\n",
       "      <td>9.401834</td>\n",
       "      <td>9.370281</td>\n",
       "    </tr>\n",
       "    <tr>\n",
       "      <th>59</th>\n",
       "      <td>2.949998</td>\n",
       "      <td>9.421742</td>\n",
       "      <td>9.391230</td>\n",
       "    </tr>\n",
       "    <tr>\n",
       "      <th>60</th>\n",
       "      <td>2.999998</td>\n",
       "      <td>9.440656</td>\n",
       "      <td>9.411158</td>\n",
       "    </tr>\n",
       "    <tr>\n",
       "      <th>61</th>\n",
       "      <td>3.049998</td>\n",
       "      <td>9.458623</td>\n",
       "      <td>9.430114</td>\n",
       "    </tr>\n",
       "  </tbody>\n",
       "</table>\n",
       "<p>62 rows × 3 columns</p>\n",
       "</div>"
      ],
      "text/plain": [
       "    timestamp     euler  trapezoid\n",
       "0    0.000000  2.000000   2.000000\n",
       "1    0.050000  2.390000   2.380250\n",
       "2    0.100000  2.760500   2.741963\n",
       "3    0.150000  3.112475   3.086042\n",
       "4    0.200000  3.446852   3.413348\n",
       "..        ...       ...        ...\n",
       "57   2.849998  9.380878   9.348259\n",
       "58   2.899998  9.401834   9.370281\n",
       "59   2.949998  9.421742   9.391230\n",
       "60   2.999998  9.440656   9.411158\n",
       "61   3.049998  9.458623   9.430114\n",
       "\n",
       "[62 rows x 3 columns]"
      ]
     },
     "execution_count": 3,
     "metadata": {},
     "output_type": "execute_result"
    }
   ],
   "source": [
    "ft_df = pd.read_csv(\n",
    "    HERE / \"result\" / \"f_t.csv\",\n",
    ")\n",
    "ft_df"
   ]
  },
  {
   "cell_type": "code",
   "execution_count": 8,
   "id": "ef61dfce",
   "metadata": {},
   "outputs": [
    {
     "data": {
      "image/png": "[encoded data removed]",
      "text/plain": [
       "<Figure size 640x480 with 1 Axes>"
      ]
     },
     "metadata": {},
     "output_type": "display_data"
    }
   ],
   "source": [
    "plot_data(ft_df).show()"
   ]
  },
  {
   "cell_type": "markdown",
   "id": "4ef9476b",
   "metadata": {},
   "source": [
    "### area (2nd integral)"
   ]
  },
  {
   "cell_type": "code",
   "execution_count": 10,
   "id": "12526e3f",
   "metadata": {},
   "outputs": [
    {
     "data": {
      "application/vnd.microsoft.datawrangler.viewer.v0+json": {
       "columns": [
        {
         "name": "index",
         "rawType": "int64",
         "type": "integer"
        },
        {
         "name": "timestamp",
         "rawType": "float64",
         "type": "float"
        },
        {
         "name": "euler",
         "rawType": "float64",
         "type": "float"
        },
        {
         "name": "trapezoid",
         "rawType": "float64",
         "type": "float"
        }
       ],
       "ref": "c45ecffc-3078-4a73-9317-157a059187d3",
       "rows": [
        [
         "0",
         "0.0",
         "0.0",
         "0.0"
        ],
        [
         "1",
         "0.05",
         "0.10975001",
         "0.10950625"
        ],
        [
         "2",
         "0.1",
         "0.23851252",
         "0.23756157"
        ],
        [
         "3",
         "0.15",
         "0.3853369",
         "0.38326168"
        ],
        [
         "4",
         "0.2",
         "0.5493201",
         "0.54574645"
        ],
        [
         "5",
         "0.25",
         "0.7296041",
         "0.72419757"
        ],
        [
         "6",
         "0.3",
         "0.9253739",
         "0.9178367"
        ],
        [
         "7",
         "0.35000002",
         "1.1358552",
         "1.1259234"
        ],
        [
         "8",
         "0.40000004",
         "1.3603125",
         "1.3477534"
        ],
        [
         "9",
         "0.45000005",
         "1.5980469",
         "1.5826567"
        ],
        [
         "10",
         "0.50000006",
         "1.8483946",
         "1.829996"
        ],
        [
         "11",
         "0.5500001",
         "2.110725",
         "2.089165"
        ],
        [
         "12",
         "0.6000001",
         "2.3844388",
         "2.359587"
        ],
        [
         "13",
         "0.6500001",
         "2.6689668",
         "2.6407135"
        ],
        [
         "14",
         "0.7000001",
         "2.9637685",
         "2.9320226"
        ],
        [
         "15",
         "0.7500001",
         "3.26833",
         "3.2330177"
        ],
        [
         "16",
         "0.80000013",
         "3.5821636",
         "3.543227"
        ],
        [
         "17",
         "0.85000014",
         "3.9048054",
         "3.862201"
        ],
        [
         "18",
         "0.90000015",
         "4.235815",
         "4.1895123"
        ],
        [
         "19",
         "0.95000017",
         "4.5747743",
         "4.524755"
        ],
        [
         "20",
         "1.0000001",
         "4.9212856",
         "4.867542"
        ],
        [
         "21",
         "1.0500001",
         "5.2749715",
         "5.2175055"
        ],
        [
         "22",
         "1.1",
         "5.635473",
         "5.574296"
        ],
        [
         "23",
         "1.15",
         "6.002449",
         "5.9375806"
        ],
        [
         "24",
         "1.1999999",
         "6.3755765",
         "6.307042"
        ],
        [
         "25",
         "1.2499999",
         "6.7545476",
         "6.68238"
        ],
        [
         "26",
         "1.2999998",
         "7.13907",
         "7.063308"
        ],
        [
         "27",
         "1.3499998",
         "7.528867",
         "7.449553"
        ],
        [
         "28",
         "1.3999997",
         "7.9236736",
         "7.840856"
        ],
        [
         "29",
         "1.4499997",
         "8.32324",
         "8.236971"
        ],
        [
         "30",
         "1.4999996",
         "8.727328",
         "8.637663"
        ],
        [
         "31",
         "1.5499996",
         "9.135712",
         "9.042708"
        ],
        [
         "32",
         "1.5999995",
         "9.548176",
         "9.451895"
        ],
        [
         "33",
         "1.6499995",
         "9.964517",
         "9.865021"
        ],
        [
         "34",
         "1.6999995",
         "10.384541",
         "10.281895"
        ],
        [
         "35",
         "1.7499994",
         "10.8080635",
         "10.702333"
        ],
        [
         "36",
         "1.7999994",
         "11.23491",
         "11.1261635"
        ],
        [
         "37",
         "1.8499993",
         "11.664914",
         "11.553219"
        ],
        [
         "38",
         "1.8999993",
         "12.0979185",
         "11.983343"
        ],
        [
         "39",
         "1.9499992",
         "12.533772",
         "12.416387"
        ],
        [
         "40",
         "1.9999992",
         "12.972334",
         "12.852206"
        ],
        [
         "41",
         "2.0499992",
         "13.413467",
         "13.290668"
        ],
        [
         "42",
         "2.0999992",
         "13.857044",
         "13.731642"
        ],
        [
         "43",
         "2.1499991",
         "14.302942",
         "14.175006"
        ],
        [
         "44",
         "2.199999",
         "14.751045",
         "14.620644"
        ],
        [
         "45",
         "2.249999",
         "15.201243",
         "15.068443"
        ],
        [
         "46",
         "2.299999",
         "15.653431",
         "15.518301"
        ],
        [
         "47",
         "2.349999",
         "16.10751",
         "15.970116"
        ],
        [
         "48",
         "2.399999",
         "16.563385",
         "16.423792"
        ],
        [
         "49",
         "2.4499989",
         "17.020966",
         "16.879238"
        ]
       ],
       "shape": {
        "columns": 3,
        "rows": 62
       }
      },
      "text/html": [
       "<div>\n",
       "<style scoped>\n",
       "    .dataframe tbody tr th:only-of-type {\n",
       "        vertical-align: middle;\n",
       "    }\n",
       "\n",
       "    .dataframe tbody tr th {\n",
       "        vertical-align: top;\n",
       "    }\n",
       "\n",
       "    .dataframe thead th {\n",
       "        text-align: right;\n",
       "    }\n",
       "</style>\n",
       "<table border=\"1\" class=\"dataframe\">\n",
       "  <thead>\n",
       "    <tr style=\"text-align: right;\">\n",
       "      <th></th>\n",
       "      <th>timestamp</th>\n",
       "      <th>euler</th>\n",
       "      <th>trapezoid</th>\n",
       "    </tr>\n",
       "  </thead>\n",
       "  <tbody>\n",
       "    <tr>\n",
       "      <th>0</th>\n",
       "      <td>0.000000</td>\n",
       "      <td>0.000000</td>\n",
       "      <td>0.000000</td>\n",
       "    </tr>\n",
       "    <tr>\n",
       "      <th>1</th>\n",
       "      <td>0.050000</td>\n",
       "      <td>0.109750</td>\n",
       "      <td>0.109506</td>\n",
       "    </tr>\n",
       "    <tr>\n",
       "      <th>2</th>\n",
       "      <td>0.100000</td>\n",
       "      <td>0.238513</td>\n",
       "      <td>0.237562</td>\n",
       "    </tr>\n",
       "    <tr>\n",
       "      <th>3</th>\n",
       "      <td>0.150000</td>\n",
       "      <td>0.385337</td>\n",
       "      <td>0.383262</td>\n",
       "    </tr>\n",
       "    <tr>\n",
       "      <th>4</th>\n",
       "      <td>0.200000</td>\n",
       "      <td>0.549320</td>\n",
       "      <td>0.545746</td>\n",
       "    </tr>\n",
       "    <tr>\n",
       "      <th>...</th>\n",
       "      <td>...</td>\n",
       "      <td>...</td>\n",
       "      <td>...</td>\n",
       "    </tr>\n",
       "    <tr>\n",
       "      <th>57</th>\n",
       "      <td>2.849998</td>\n",
       "      <td>20.733643</td>\n",
       "      <td>20.577036</td>\n",
       "    </tr>\n",
       "    <tr>\n",
       "      <th>58</th>\n",
       "      <td>2.899998</td>\n",
       "      <td>21.203210</td>\n",
       "      <td>21.045000</td>\n",
       "    </tr>\n",
       "    <tr>\n",
       "      <th>59</th>\n",
       "      <td>2.949998</td>\n",
       "      <td>21.673800</td>\n",
       "      <td>21.514038</td>\n",
       "    </tr>\n",
       "    <tr>\n",
       "      <th>60</th>\n",
       "      <td>2.999998</td>\n",
       "      <td>22.145359</td>\n",
       "      <td>21.984098</td>\n",
       "    </tr>\n",
       "    <tr>\n",
       "      <th>61</th>\n",
       "      <td>3.049998</td>\n",
       "      <td>22.617842</td>\n",
       "      <td>22.455130</td>\n",
       "    </tr>\n",
       "  </tbody>\n",
       "</table>\n",
       "<p>62 rows × 3 columns</p>\n",
       "</div>"
      ],
      "text/plain": [
       "    timestamp      euler  trapezoid\n",
       "0    0.000000   0.000000   0.000000\n",
       "1    0.050000   0.109750   0.109506\n",
       "2    0.100000   0.238513   0.237562\n",
       "3    0.150000   0.385337   0.383262\n",
       "4    0.200000   0.549320   0.545746\n",
       "..        ...        ...        ...\n",
       "57   2.849998  20.733643  20.577036\n",
       "58   2.899998  21.203210  21.045000\n",
       "59   2.949998  21.673800  21.514038\n",
       "60   2.999998  22.145359  21.984098\n",
       "61   3.049998  22.617842  22.455130\n",
       "\n",
       "[62 rows x 3 columns]"
      ]
     },
     "execution_count": 10,
     "metadata": {},
     "output_type": "execute_result"
    }
   ],
   "source": [
    "area_df = pd.read_csv(\n",
    "    HERE / \"result\" / \"area.csv\",\n",
    ")\n",
    "area_df"
   ]
  },
  {
   "cell_type": "code",
   "execution_count": 11,
   "id": "d8e36119",
   "metadata": {},
   "outputs": [
    {
     "data": {
      "image/png": "[encoded data removed]",
      "text/plain": [
       "<Figure size 640x480 with 1 Axes>"
      ]
     },
     "metadata": {},
     "output_type": "display_data"
    }
   ],
   "source": [
    "plot_data(area_df).show()"
   ]
  },
  {
   "cell_type": "code",
   "execution_count": null,
   "id": "2e69e0f9",
   "metadata": {},
   "outputs": [],
   "source": []
  }
 ],
 "metadata": {
  "kernelspec": {
   "display_name": ".venv",
   "language": "python",
   "name": "python3"
  },
  "language_info": {
   "codemirror_mode": {
    "name": "ipython",
    "version": 3
   },
   "file_extension": ".py",
   "mimetype": "text/x-python",
   "name": "python",
   "nbconvert_exporter": "python",
   "pygments_lexer": "ipython3",
   "version": "3.13.3"
  }
 },
 "nbformat": 4,
 "nbformat_minor": 5
}
