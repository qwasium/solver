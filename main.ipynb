{
 "cells": [
  {
   "cell_type": "markdown",
   "id": "bca9f8ee",
   "metadata": {},
   "source": [
    "# Solver"
   ]
  },
  {
   "cell_type": "markdown",
   "id": "d5a5749a",
   "metadata": {},
   "source": [
    "## Config file"
   ]
  },
  {
   "cell_type": "code",
   "execution_count": 24,
   "id": "f266af06",
   "metadata": {},
   "outputs": [
    {
     "data": {
      "text/plain": [
       "PosixPath('/home/hangman/Documents/solver')"
      ]
     },
     "execution_count": 24,
     "metadata": {},
     "output_type": "execute_result"
    }
   ],
   "source": [
    "from pathlib import Path\n",
    "import os\n",
    "\n",
    "import yaml\n",
    "import numpy as np\n",
    "import pandas as pd\n",
    "import matplotlib.pyplot as plt\n",
    "\n",
    "HERE = Path(os.getcwd()) # Path(__file__) won't work in Jupyter\n",
    "HERE"
   ]
  },
  {
   "cell_type": "code",
   "execution_count": 25,
   "id": "cc2b1b02",
   "metadata": {},
   "outputs": [
    {
     "data": {
      "text/plain": [
       "{'time_end': 3,\n",
       " 'time_step': 0.05,\n",
       " 'f_0': 2,\n",
       " 'mass': 1.0,\n",
       " 'viscosity': 1.0,\n",
       " 'ft_fname': 'f_t.csv',\n",
       " 'area_fname': 'area.csv'}"
      ]
     },
     "execution_count": 25,
     "metadata": {},
     "output_type": "execute_result"
    }
   ],
   "source": [
    "with open(HERE / 'config' / 'settings.yaml.bak') as f:\n",
    "    config = yaml.safe_load(f)\n",
    "config"
   ]
  },
  {
   "cell_type": "code",
   "execution_count": 34,
   "id": "1c5f105e",
   "metadata": {},
   "outputs": [],
   "source": [
    "new_config = {\n",
    "    'time_end'  : 3,\n",
    "    'time_step' : 1,\n",
    "    'f_0'       : 0,\n",
    "    'mass'      : 10,\n",
    "    'viscosity' : 10,\n",
    "    'ft_fname'  : 'f_t.csv',\n",
    "    'area_fname': 'area.csv',\n",
    "}"
   ]
  },
  {
   "cell_type": "code",
   "execution_count": 35,
   "id": "89d7830b",
   "metadata": {},
   "outputs": [],
   "source": [
    "with open(HERE / 'config' / 'settings.yaml', 'w') as f:\n",
    "    yaml.dump(new_config, f)"
   ]
  },
  {
   "cell_type": "markdown",
   "id": "2087eb3e",
   "metadata": {},
   "source": [
    "## Simulation\n",
    "\n",
    "`cargo run` will read `config/settings.yaml` and produce:\n",
    "\n",
    "- `result/`\n",
    "  - `<config[\"area_fname\"]>.csv`\n",
    "  - `<config[\"ft_fname\"]>.csv`"
   ]
  },
  {
   "cell_type": "code",
   "execution_count": 36,
   "id": "956e4c01",
   "metadata": {},
   "outputs": [
    {
     "name": "stdout",
     "output_type": "stream",
     "text": [
      "\u001b[1m\u001b[32m    Finished\u001b[0m `dev` profile [unoptimized + debuginfo] target(s) in 0.01s\n",
      "\u001b[1m\u001b[32m     Running\u001b[0m `target/debug/solver`\n",
      "Solver { time_end: 3.0, time_step: 1.0, f_0: 0.0, mass: 10.0, viscosity: 10.0, gravity: 9.8 }\n",
      "\n",
      "=== Final Values f(3) ===\n",
      "Analytical solution: 9.312087\n",
      "Euler method:        9.800000\n",
      "Trapezoidal method:  8.575000\n",
      "Runge-Kutta method:  9.283203\n",
      "\n",
      "=== Integrals ∫f(t)dt from 0 to 3 ===\n",
      "Analytical integral:           11.126286\n",
      "Euler ODE + Trap integration:  24.500000\n",
      "Trap ODE + Trap integration:   16.537500\n",
      "RK4 ODE + Trap integration:    19.188477\n",
      "\n"
     ]
    }
   ],
   "source": [
    "!cargo run"
   ]
  },
  {
   "cell_type": "markdown",
   "id": "eef2802a",
   "metadata": {},
   "source": [
    "## Plot"
   ]
  },
  {
   "cell_type": "code",
   "execution_count": 37,
   "id": "d27599e3",
   "metadata": {},
   "outputs": [],
   "source": [
    "def plot_data(df) -> plt:\n",
    "    plt.plot(\n",
    "        df[\"timestamp\"], df[\"analytical\"],\n",
    "        label=\"analytical\",\n",
    "        color=\"green\"\n",
    "    )\n",
    "    plt.plot(\n",
    "        df[\"timestamp\"], df[\"euler\"],\n",
    "        label=\"euler\",\n",
    "        color=\"blue\",\n",
    "        linestyle=\"--\"\n",
    "    )\n",
    "    plt.plot(\n",
    "        df[\"timestamp\"], df[\"trapezoid\"],\n",
    "        label=\"trapezoid\",\n",
    "        color=\"orange\",\n",
    "        linestyle=\":\"\n",
    "    )\n",
    "    plt.plot(\n",
    "        df[\"timestamp\"], df[\"rk4\"],\n",
    "        label=\"Runge-Kutta\",\n",
    "        color=\"magenta\",\n",
    "        linestyle=\":\"\n",
    "    )\n",
    "    plt.legend()\n",
    "    return plt"
   ]
  },
  {
   "cell_type": "markdown",
   "id": "848170c9",
   "metadata": {},
   "source": [
    "### $f(t)$ (1st integral)"
   ]
  },
  {
   "cell_type": "code",
   "execution_count": 38,
   "id": "1d2ee33d",
   "metadata": {},
   "outputs": [
    {
     "data": {
      "application/vnd.microsoft.datawrangler.viewer.v0+json": {
       "columns": [
        {
         "name": "index",
         "rawType": "int64",
         "type": "integer"
        },
        {
         "name": "timestamp",
         "rawType": "int64",
         "type": "integer"
        },
        {
         "name": "euler",
         "rawType": "float64",
         "type": "float"
        },
        {
         "name": "trapezoid",
         "rawType": "float64",
         "type": "float"
        },
        {
         "name": "rk4",
         "rawType": "float64",
         "type": "float"
        },
        {
         "name": "analytical",
         "rawType": "float64",
         "type": "float"
        }
       ],
       "ref": "4853201e-11ac-4679-8871-a1750c1c748d",
       "rows": [
        [
         "0",
         "0",
         "0.0",
         "0.0",
         "0.0",
         "0.0"
        ],
        [
         "1",
         "1",
         "9.8",
         "4.9",
         "6.1250005",
         "6.1947813"
        ],
        [
         "2",
         "2",
         "9.8",
         "7.3500004",
         "8.421875",
         "8.473715"
        ],
        [
         "3",
         "3",
         "9.8",
         "8.575",
         "9.283203",
         "9.312087"
        ]
       ],
       "shape": {
        "columns": 5,
        "rows": 4
       }
      },
      "text/html": [
       "<div>\n",
       "<style scoped>\n",
       "    .dataframe tbody tr th:only-of-type {\n",
       "        vertical-align: middle;\n",
       "    }\n",
       "\n",
       "    .dataframe tbody tr th {\n",
       "        vertical-align: top;\n",
       "    }\n",
       "\n",
       "    .dataframe thead th {\n",
       "        text-align: right;\n",
       "    }\n",
       "</style>\n",
       "<table border=\"1\" class=\"dataframe\">\n",
       "  <thead>\n",
       "    <tr style=\"text-align: right;\">\n",
       "      <th></th>\n",
       "      <th>timestamp</th>\n",
       "      <th>euler</th>\n",
       "      <th>trapezoid</th>\n",
       "      <th>rk4</th>\n",
       "      <th>analytical</th>\n",
       "    </tr>\n",
       "  </thead>\n",
       "  <tbody>\n",
       "    <tr>\n",
       "      <th>0</th>\n",
       "      <td>0</td>\n",
       "      <td>0.0</td>\n",
       "      <td>0.000</td>\n",
       "      <td>0.000000</td>\n",
       "      <td>0.000000</td>\n",
       "    </tr>\n",
       "    <tr>\n",
       "      <th>1</th>\n",
       "      <td>1</td>\n",
       "      <td>9.8</td>\n",
       "      <td>4.900</td>\n",
       "      <td>6.125000</td>\n",
       "      <td>6.194781</td>\n",
       "    </tr>\n",
       "    <tr>\n",
       "      <th>2</th>\n",
       "      <td>2</td>\n",
       "      <td>9.8</td>\n",
       "      <td>7.350</td>\n",
       "      <td>8.421875</td>\n",
       "      <td>8.473715</td>\n",
       "    </tr>\n",
       "    <tr>\n",
       "      <th>3</th>\n",
       "      <td>3</td>\n",
       "      <td>9.8</td>\n",
       "      <td>8.575</td>\n",
       "      <td>9.283203</td>\n",
       "      <td>9.312087</td>\n",
       "    </tr>\n",
       "  </tbody>\n",
       "</table>\n",
       "</div>"
      ],
      "text/plain": [
       "   timestamp  euler  trapezoid       rk4  analytical\n",
       "0          0    0.0      0.000  0.000000    0.000000\n",
       "1          1    9.8      4.900  6.125000    6.194781\n",
       "2          2    9.8      7.350  8.421875    8.473715\n",
       "3          3    9.8      8.575  9.283203    9.312087"
      ]
     },
     "execution_count": 38,
     "metadata": {},
     "output_type": "execute_result"
    }
   ],
   "source": [
    "ft_df = pd.read_csv(\n",
    "    HERE / \"result\" / \"f_t.csv\",\n",
    ")\n",
    "ft_df"
   ]
  },
  {
   "cell_type": "code",
   "execution_count": 39,
   "id": "ef61dfce",
   "metadata": {},
   "outputs": [
    {
     "data": {
      "image/png": "[encoded data removed]",
      "text/plain": [
       "<Figure size 640x480 with 1 Axes>"
      ]
     },
     "metadata": {},
     "output_type": "display_data"
    }
   ],
   "source": [
    "plot_data(ft_df).show()"
   ]
  },
  {
   "cell_type": "markdown",
   "id": "4ef9476b",
   "metadata": {},
   "source": [
    "### area (2nd integral)"
   ]
  },
  {
   "cell_type": "code",
   "execution_count": 40,
   "id": "12526e3f",
   "metadata": {},
   "outputs": [
    {
     "data": {
      "application/vnd.microsoft.datawrangler.viewer.v0+json": {
       "columns": [
        {
         "name": "index",
         "rawType": "int64",
         "type": "integer"
        },
        {
         "name": "timestamp",
         "rawType": "int64",
         "type": "integer"
        },
        {
         "name": "euler",
         "rawType": "float64",
         "type": "float"
        },
        {
         "name": "trapezoid",
         "rawType": "float64",
         "type": "float"
        },
        {
         "name": "rk4",
         "rawType": "float64",
         "type": "float"
        },
        {
         "name": "analytical",
         "rawType": "float64",
         "type": "float"
        }
       ],
       "ref": "4a42b800-1f78-4a31-978d-3b7f2d8c9568",
       "rows": [
        [
         "0",
         "0",
         "0.0",
         "0.0",
         "0.0",
         "0.0"
        ],
        [
         "1",
         "1",
         "4.9",
         "2.45",
         "3.0625002",
         "0.0"
        ],
        [
         "2",
         "2",
         "14.700001",
         "8.575",
         "10.3359375",
         "3.605219"
        ],
        [
         "3",
         "3",
         "24.5",
         "16.5375",
         "19.188477",
         "11.126286"
        ]
       ],
       "shape": {
        "columns": 5,
        "rows": 4
       }
      },
      "text/html": [
       "<div>\n",
       "<style scoped>\n",
       "    .dataframe tbody tr th:only-of-type {\n",
       "        vertical-align: middle;\n",
       "    }\n",
       "\n",
       "    .dataframe tbody tr th {\n",
       "        vertical-align: top;\n",
       "    }\n",
       "\n",
       "    .dataframe thead th {\n",
       "        text-align: right;\n",
       "    }\n",
       "</style>\n",
       "<table border=\"1\" class=\"dataframe\">\n",
       "  <thead>\n",
       "    <tr style=\"text-align: right;\">\n",
       "      <th></th>\n",
       "      <th>timestamp</th>\n",
       "      <th>euler</th>\n",
       "      <th>trapezoid</th>\n",
       "      <th>rk4</th>\n",
       "      <th>analytical</th>\n",
       "    </tr>\n",
       "  </thead>\n",
       "  <tbody>\n",
       "    <tr>\n",
       "      <th>0</th>\n",
       "      <td>0</td>\n",
       "      <td>0.000000</td>\n",
       "      <td>0.0000</td>\n",
       "      <td>0.000000</td>\n",
       "      <td>0.000000</td>\n",
       "    </tr>\n",
       "    <tr>\n",
       "      <th>1</th>\n",
       "      <td>1</td>\n",
       "      <td>4.900000</td>\n",
       "      <td>2.4500</td>\n",
       "      <td>3.062500</td>\n",
       "      <td>0.000000</td>\n",
       "    </tr>\n",
       "    <tr>\n",
       "      <th>2</th>\n",
       "      <td>2</td>\n",
       "      <td>14.700001</td>\n",
       "      <td>8.5750</td>\n",
       "      <td>10.335938</td>\n",
       "      <td>3.605219</td>\n",
       "    </tr>\n",
       "    <tr>\n",
       "      <th>3</th>\n",
       "      <td>3</td>\n",
       "      <td>24.500000</td>\n",
       "      <td>16.5375</td>\n",
       "      <td>19.188477</td>\n",
       "      <td>11.126286</td>\n",
       "    </tr>\n",
       "  </tbody>\n",
       "</table>\n",
       "</div>"
      ],
      "text/plain": [
       "   timestamp      euler  trapezoid        rk4  analytical\n",
       "0          0   0.000000     0.0000   0.000000    0.000000\n",
       "1          1   4.900000     2.4500   3.062500    0.000000\n",
       "2          2  14.700001     8.5750  10.335938    3.605219\n",
       "3          3  24.500000    16.5375  19.188477   11.126286"
      ]
     },
     "execution_count": 40,
     "metadata": {},
     "output_type": "execute_result"
    }
   ],
   "source": [
    "area_df = pd.read_csv(\n",
    "    HERE / \"result\" / \"area.csv\",\n",
    ")\n",
    "area_df"
   ]
  },
  {
   "cell_type": "code",
   "execution_count": 41,
   "id": "d8e36119",
   "metadata": {},
   "outputs": [
    {
     "data": {
      "image/png": "[encoded data removed]",
      "text/plain": [
       "<Figure size 640x480 with 1 Axes>"
      ]
     },
     "metadata": {},
     "output_type": "display_data"
    }
   ],
   "source": [
    "plot_data(area_df).show()"
   ]
  }
 ],
 "metadata": {
  "kernelspec": {
   "display_name": ".venv",
   "language": "python",
   "name": "python3"
  },
  "language_info": {
   "codemirror_mode": {
    "name": "ipython",
    "version": 3
   },
   "file_extension": ".py",
   "mimetype": "text/x-python",
   "name": "python",
   "nbconvert_exporter": "python",
   "pygments_lexer": "ipython3",
   "version": "3.13.3"
  }
 },
 "nbformat": 4,
 "nbformat_minor": 5
}
