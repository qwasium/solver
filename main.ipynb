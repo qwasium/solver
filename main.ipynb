{
 "cells": [
  {
   "cell_type": "markdown",
   "id": "bca9f8ee",
   "metadata": {},
   "source": [
    "# Solver"
   ]
  },
  {
   "cell_type": "markdown",
   "id": "d5a5749a",
   "metadata": {},
   "source": [
    "## Config file"
   ]
  },
  {
   "cell_type": "code",
   "execution_count": 2,
   "id": "f266af06",
   "metadata": {},
   "outputs": [
    {
     "data": {
      "text/plain": [
       "PosixPath('/home/hangman/Documents/solver')"
      ]
     },
     "execution_count": 2,
     "metadata": {},
     "output_type": "execute_result"
    }
   ],
   "source": [
    "from pathlib import Path\n",
    "import os\n",
    "\n",
    "import yaml\n",
    "import numpy as np\n",
    "import pandas as pd\n",
    "import matplotlib.pyplot as plt\n",
    "\n",
    "HERE = Path(os.getcwd()) # Path(__file__) won't work in Jupyter\n",
    "HERE"
   ]
  },
  {
   "cell_type": "code",
   "execution_count": null,
   "id": "cc2b1b02",
   "metadata": {},
   "outputs": [
    {
     "data": {
      "text/plain": [
       "{'time_end': 3,\n",
       " 'time_step': 0.05,\n",
       " 'f_0': 2,\n",
       " 'mass': 1.0,\n",
       " 'viscosity': 1.0,\n",
       " 'ft_fname': 'f_t.csv',\n",
       " 'area_fname': 'area.csv'}"
      ]
     },
     "execution_count": 5,
     "metadata": {},
     "output_type": "execute_result"
    }
   ],
   "source": [
    "with open(HERE / 'config' / 'settings.yaml.bak') as f:\n",
    "    config = yaml.safe_load(f)\n",
    "config"
   ]
  },
  {
   "cell_type": "code",
   "execution_count": 32,
   "id": "1c5f105e",
   "metadata": {},
   "outputs": [],
   "source": [
    "new_config = {\n",
    "    'time_end'  : 15,\n",
    "    'time_step' : 0.5,\n",
    "    'f_0'       : 4,\n",
    "    'mass'      : 2,\n",
    "    'viscosity' : 3,\n",
    "    'ft_fname'  : 'f_t.csv',\n",
    "    'area_fname': 'area.csv',\n",
    "}"
   ]
  },
  {
   "cell_type": "code",
   "execution_count": 33,
   "id": "89d7830b",
   "metadata": {},
   "outputs": [],
   "source": [
    "with open(HERE / 'config' / 'settings.yaml', 'w') as f:\n",
    "    yaml.dump(new_config, f)"
   ]
  },
  {
   "cell_type": "markdown",
   "id": "2087eb3e",
   "metadata": {},
   "source": [
    "## Rust\n",
    "\n",
    "`cargo run` will produce:\n",
    "\n",
    "- `result/`\n",
    "  - `config[\"area_fname\"].csv`\n",
    "  - `config[\"ft_fname\"].csv`"
   ]
  },
  {
   "cell_type": "code",
   "execution_count": 34,
   "id": "956e4c01",
   "metadata": {},
   "outputs": [
    {
     "name": "stdout",
     "output_type": "stream",
     "text": [
      "\u001b[1m\u001b[32m    Finished\u001b[0m `dev` profile [unoptimized + debuginfo] target(s) in 0.01s\n",
      "\u001b[1m\u001b[32m     Running\u001b[0m `target/debug/solver`\n",
      "Solver { time_end: 15.0, time_step: 0.5, f_0: 4.0, mass: 2.0, viscosity: 3.0, gravity: 9.8 }\n",
      "\n",
      "=== Final Values f(15) ===\n",
      "Analytical solution: 6.533333\n",
      "Euler method:        6.533333\n",
      "Trapezoidal method:  6.533333\n",
      "\n",
      "=== Integrals ∫f(t)dt from 0 to 15 ===\n",
      "Analytical integral:           96.232697\n",
      "Euler ODE + Trap integration:  96.944481\n",
      "Trap ODE + Trap integration:   95.931091\n",
      "\n"
     ]
    }
   ],
   "source": [
    "!cargo run"
   ]
  },
  {
   "cell_type": "markdown",
   "id": "eef2802a",
   "metadata": {},
   "source": [
    "## Plot"
   ]
  },
  {
   "cell_type": "code",
   "execution_count": 35,
   "id": "d27599e3",
   "metadata": {},
   "outputs": [],
   "source": [
    "def plot_data(df) -> plt:\n",
    "    plt.plot(df[\"timestamp\"], df[\"euler\"], label=\"euler\", color=\"blue\")\n",
    "    plt.plot(df[\"timestamp\"], df[\"trapezoid\"], label=\"trapezoid\", color=\"orange\")\n",
    "    return plt"
   ]
  },
  {
   "cell_type": "markdown",
   "id": "848170c9",
   "metadata": {},
   "source": [
    "### $f(t)$ (1st integral)"
   ]
  },
  {
   "cell_type": "code",
   "execution_count": 36,
   "id": "1d2ee33d",
   "metadata": {},
   "outputs": [
    {
     "data": {
      "application/vnd.microsoft.datawrangler.viewer.v0+json": {
       "columns": [
        {
         "name": "index",
         "rawType": "int64",
         "type": "integer"
        },
        {
         "name": "timestamp",
         "rawType": "float64",
         "type": "float"
        },
        {
         "name": "euler",
         "rawType": "float64",
         "type": "float"
        },
        {
         "name": "trapezoid",
         "rawType": "float64",
         "type": "float"
        }
       ],
       "ref": "8bf116ac-7703-4c87-a24c-cdd20b8bd9fa",
       "rows": [
        [
         "0",
         "0.0",
         "4.0",
         "4.0"
        ],
        [
         "1",
         "0.5",
         "5.9",
         "5.1875"
        ],
        [
         "2",
         "1.0",
         "6.375",
         "5.8183594"
        ],
        [
         "3",
         "1.5",
         "6.49375",
         "6.1535034"
        ],
        [
         "4",
         "2.0",
         "6.5234375",
         "6.3315487"
        ],
        [
         "5",
         "2.5",
         "6.5308595",
         "6.426135"
        ],
        [
         "6",
         "3.0",
         "6.532715",
         "6.476384"
        ],
        [
         "7",
         "3.5",
         "6.533179",
         "6.5030794"
        ],
        [
         "8",
         "4.0",
         "6.5332947",
         "6.517261"
        ],
        [
         "9",
         "4.5",
         "6.533324",
         "6.524795"
        ],
        [
         "10",
         "5.0",
         "6.533331",
         "6.528797"
        ],
        [
         "11",
         "5.5",
         "6.533333",
         "6.530924"
        ],
        [
         "12",
         "6.0",
         "6.5333333",
         "6.532053"
        ],
        [
         "13",
         "6.5",
         "6.5333333",
         "6.532653"
        ],
        [
         "14",
         "7.0",
         "6.5333333",
         "6.532972"
        ],
        [
         "15",
         "7.5",
         "6.5333333",
         "6.533141"
        ],
        [
         "16",
         "8.0",
         "6.5333333",
         "6.5332313"
        ],
        [
         "17",
         "8.5",
         "6.5333333",
         "6.5332794"
        ],
        [
         "18",
         "9.0",
         "6.5333333",
         "6.5333047"
        ],
        [
         "19",
         "9.5",
         "6.5333333",
         "6.533318"
        ],
        [
         "20",
         "10.0",
         "6.5333333",
         "6.533325"
        ],
        [
         "21",
         "10.5",
         "6.5333333",
         "6.533329"
        ],
        [
         "22",
         "11.0",
         "6.5333333",
         "6.533331"
        ],
        [
         "23",
         "11.5",
         "6.5333333",
         "6.533332"
        ],
        [
         "24",
         "12.0",
         "6.5333333",
         "6.533333"
        ],
        [
         "25",
         "12.5",
         "6.5333333",
         "6.533333"
        ],
        [
         "26",
         "13.0",
         "6.5333333",
         "6.533333"
        ],
        [
         "27",
         "13.5",
         "6.5333333",
         "6.533333"
        ],
        [
         "28",
         "14.0",
         "6.5333333",
         "6.533333"
        ],
        [
         "29",
         "14.5",
         "6.5333333",
         "6.533333"
        ],
        [
         "30",
         "15.0",
         "6.5333333",
         "6.533333"
        ]
       ],
       "shape": {
        "columns": 3,
        "rows": 31
       }
      },
      "text/html": [
       "<div>\n",
       "<style scoped>\n",
       "    .dataframe tbody tr th:only-of-type {\n",
       "        vertical-align: middle;\n",
       "    }\n",
       "\n",
       "    .dataframe tbody tr th {\n",
       "        vertical-align: top;\n",
       "    }\n",
       "\n",
       "    .dataframe thead th {\n",
       "        text-align: right;\n",
       "    }\n",
       "</style>\n",
       "<table border=\"1\" class=\"dataframe\">\n",
       "  <thead>\n",
       "    <tr style=\"text-align: right;\">\n",
       "      <th></th>\n",
       "      <th>timestamp</th>\n",
       "      <th>euler</th>\n",
       "      <th>trapezoid</th>\n",
       "    </tr>\n",
       "  </thead>\n",
       "  <tbody>\n",
       "    <tr>\n",
       "      <th>0</th>\n",
       "      <td>0.0</td>\n",
       "      <td>4.000000</td>\n",
       "      <td>4.000000</td>\n",
       "    </tr>\n",
       "    <tr>\n",
       "      <th>1</th>\n",
       "      <td>0.5</td>\n",
       "      <td>5.900000</td>\n",
       "      <td>5.187500</td>\n",
       "    </tr>\n",
       "    <tr>\n",
       "      <th>2</th>\n",
       "      <td>1.0</td>\n",
       "      <td>6.375000</td>\n",
       "      <td>5.818359</td>\n",
       "    </tr>\n",
       "    <tr>\n",
       "      <th>3</th>\n",
       "      <td>1.5</td>\n",
       "      <td>6.493750</td>\n",
       "      <td>6.153503</td>\n",
       "    </tr>\n",
       "    <tr>\n",
       "      <th>4</th>\n",
       "      <td>2.0</td>\n",
       "      <td>6.523438</td>\n",
       "      <td>6.331549</td>\n",
       "    </tr>\n",
       "    <tr>\n",
       "      <th>5</th>\n",
       "      <td>2.5</td>\n",
       "      <td>6.530860</td>\n",
       "      <td>6.426135</td>\n",
       "    </tr>\n",
       "    <tr>\n",
       "      <th>6</th>\n",
       "      <td>3.0</td>\n",
       "      <td>6.532715</td>\n",
       "      <td>6.476384</td>\n",
       "    </tr>\n",
       "    <tr>\n",
       "      <th>7</th>\n",
       "      <td>3.5</td>\n",
       "      <td>6.533179</td>\n",
       "      <td>6.503079</td>\n",
       "    </tr>\n",
       "    <tr>\n",
       "      <th>8</th>\n",
       "      <td>4.0</td>\n",
       "      <td>6.533295</td>\n",
       "      <td>6.517261</td>\n",
       "    </tr>\n",
       "    <tr>\n",
       "      <th>9</th>\n",
       "      <td>4.5</td>\n",
       "      <td>6.533324</td>\n",
       "      <td>6.524795</td>\n",
       "    </tr>\n",
       "    <tr>\n",
       "      <th>10</th>\n",
       "      <td>5.0</td>\n",
       "      <td>6.533331</td>\n",
       "      <td>6.528797</td>\n",
       "    </tr>\n",
       "    <tr>\n",
       "      <th>11</th>\n",
       "      <td>5.5</td>\n",
       "      <td>6.533333</td>\n",
       "      <td>6.530924</td>\n",
       "    </tr>\n",
       "    <tr>\n",
       "      <th>12</th>\n",
       "      <td>6.0</td>\n",
       "      <td>6.533333</td>\n",
       "      <td>6.532053</td>\n",
       "    </tr>\n",
       "    <tr>\n",
       "      <th>13</th>\n",
       "      <td>6.5</td>\n",
       "      <td>6.533333</td>\n",
       "      <td>6.532653</td>\n",
       "    </tr>\n",
       "    <tr>\n",
       "      <th>14</th>\n",
       "      <td>7.0</td>\n",
       "      <td>6.533333</td>\n",
       "      <td>6.532972</td>\n",
       "    </tr>\n",
       "    <tr>\n",
       "      <th>15</th>\n",
       "      <td>7.5</td>\n",
       "      <td>6.533333</td>\n",
       "      <td>6.533141</td>\n",
       "    </tr>\n",
       "    <tr>\n",
       "      <th>16</th>\n",
       "      <td>8.0</td>\n",
       "      <td>6.533333</td>\n",
       "      <td>6.533231</td>\n",
       "    </tr>\n",
       "    <tr>\n",
       "      <th>17</th>\n",
       "      <td>8.5</td>\n",
       "      <td>6.533333</td>\n",
       "      <td>6.533279</td>\n",
       "    </tr>\n",
       "    <tr>\n",
       "      <th>18</th>\n",
       "      <td>9.0</td>\n",
       "      <td>6.533333</td>\n",
       "      <td>6.533305</td>\n",
       "    </tr>\n",
       "    <tr>\n",
       "      <th>19</th>\n",
       "      <td>9.5</td>\n",
       "      <td>6.533333</td>\n",
       "      <td>6.533318</td>\n",
       "    </tr>\n",
       "    <tr>\n",
       "      <th>20</th>\n",
       "      <td>10.0</td>\n",
       "      <td>6.533333</td>\n",
       "      <td>6.533325</td>\n",
       "    </tr>\n",
       "    <tr>\n",
       "      <th>21</th>\n",
       "      <td>10.5</td>\n",
       "      <td>6.533333</td>\n",
       "      <td>6.533329</td>\n",
       "    </tr>\n",
       "    <tr>\n",
       "      <th>22</th>\n",
       "      <td>11.0</td>\n",
       "      <td>6.533333</td>\n",
       "      <td>6.533331</td>\n",
       "    </tr>\n",
       "    <tr>\n",
       "      <th>23</th>\n",
       "      <td>11.5</td>\n",
       "      <td>6.533333</td>\n",
       "      <td>6.533332</td>\n",
       "    </tr>\n",
       "    <tr>\n",
       "      <th>24</th>\n",
       "      <td>12.0</td>\n",
       "      <td>6.533333</td>\n",
       "      <td>6.533333</td>\n",
       "    </tr>\n",
       "    <tr>\n",
       "      <th>25</th>\n",
       "      <td>12.5</td>\n",
       "      <td>6.533333</td>\n",
       "      <td>6.533333</td>\n",
       "    </tr>\n",
       "    <tr>\n",
       "      <th>26</th>\n",
       "      <td>13.0</td>\n",
       "      <td>6.533333</td>\n",
       "      <td>6.533333</td>\n",
       "    </tr>\n",
       "    <tr>\n",
       "      <th>27</th>\n",
       "      <td>13.5</td>\n",
       "      <td>6.533333</td>\n",
       "      <td>6.533333</td>\n",
       "    </tr>\n",
       "    <tr>\n",
       "      <th>28</th>\n",
       "      <td>14.0</td>\n",
       "      <td>6.533333</td>\n",
       "      <td>6.533333</td>\n",
       "    </tr>\n",
       "    <tr>\n",
       "      <th>29</th>\n",
       "      <td>14.5</td>\n",
       "      <td>6.533333</td>\n",
       "      <td>6.533333</td>\n",
       "    </tr>\n",
       "    <tr>\n",
       "      <th>30</th>\n",
       "      <td>15.0</td>\n",
       "      <td>6.533333</td>\n",
       "      <td>6.533333</td>\n",
       "    </tr>\n",
       "  </tbody>\n",
       "</table>\n",
       "</div>"
      ],
      "text/plain": [
       "    timestamp     euler  trapezoid\n",
       "0         0.0  4.000000   4.000000\n",
       "1         0.5  5.900000   5.187500\n",
       "2         1.0  6.375000   5.818359\n",
       "3         1.5  6.493750   6.153503\n",
       "4         2.0  6.523438   6.331549\n",
       "5         2.5  6.530860   6.426135\n",
       "6         3.0  6.532715   6.476384\n",
       "7         3.5  6.533179   6.503079\n",
       "8         4.0  6.533295   6.517261\n",
       "9         4.5  6.533324   6.524795\n",
       "10        5.0  6.533331   6.528797\n",
       "11        5.5  6.533333   6.530924\n",
       "12        6.0  6.533333   6.532053\n",
       "13        6.5  6.533333   6.532653\n",
       "14        7.0  6.533333   6.532972\n",
       "15        7.5  6.533333   6.533141\n",
       "16        8.0  6.533333   6.533231\n",
       "17        8.5  6.533333   6.533279\n",
       "18        9.0  6.533333   6.533305\n",
       "19        9.5  6.533333   6.533318\n",
       "20       10.0  6.533333   6.533325\n",
       "21       10.5  6.533333   6.533329\n",
       "22       11.0  6.533333   6.533331\n",
       "23       11.5  6.533333   6.533332\n",
       "24       12.0  6.533333   6.533333\n",
       "25       12.5  6.533333   6.533333\n",
       "26       13.0  6.533333   6.533333\n",
       "27       13.5  6.533333   6.533333\n",
       "28       14.0  6.533333   6.533333\n",
       "29       14.5  6.533333   6.533333\n",
       "30       15.0  6.533333   6.533333"
      ]
     },
     "execution_count": 36,
     "metadata": {},
     "output_type": "execute_result"
    }
   ],
   "source": [
    "ft_df = pd.read_csv(\n",
    "    HERE / \"result\" / \"f_t.csv\",\n",
    ")\n",
    "ft_df"
   ]
  },
  {
   "cell_type": "code",
   "execution_count": 37,
   "id": "ef61dfce",
   "metadata": {},
   "outputs": [
    {
     "data": {
      "image/png": "[encoded data removed]",
      "text/plain": [
       "<Figure size 640x480 with 1 Axes>"
      ]
     },
     "metadata": {},
     "output_type": "display_data"
    }
   ],
   "source": [
    "plot_data(ft_df).show()"
   ]
  },
  {
   "cell_type": "markdown",
   "id": "4ef9476b",
   "metadata": {},
   "source": [
    "### area (2nd integral)"
   ]
  },
  {
   "cell_type": "code",
   "execution_count": 38,
   "id": "12526e3f",
   "metadata": {},
   "outputs": [
    {
     "data": {
      "application/vnd.microsoft.datawrangler.viewer.v0+json": {
       "columns": [
        {
         "name": "index",
         "rawType": "int64",
         "type": "integer"
        },
        {
         "name": "timestamp",
         "rawType": "float64",
         "type": "float"
        },
        {
         "name": "euler",
         "rawType": "float64",
         "type": "float"
        },
        {
         "name": "trapezoid",
         "rawType": "float64",
         "type": "float"
        }
       ],
       "ref": "ff029b24-4f5f-44c4-a330-238b5d108147",
       "rows": [
        [
         "0",
         "0.0",
         "0.0",
         "0.0"
        ],
        [
         "1",
         "0.5",
         "2.475",
         "2.296875"
        ],
        [
         "2",
         "1.0",
         "5.54375",
         "5.04834"
        ],
        [
         "3",
         "1.5",
         "8.760937",
         "8.041306"
        ],
        [
         "4",
         "2.0",
         "12.015234",
         "11.162569"
        ],
        [
         "5",
         "2.5",
         "15.278809",
         "14.35199"
        ],
        [
         "6",
         "3.0",
         "18.544703",
         "17.57762"
        ],
        [
         "7",
         "3.5",
         "21.811176",
         "20.822485"
        ],
        [
         "8",
         "4.0",
         "25.077795",
         "24.07757"
        ],
        [
         "9",
         "4.5",
         "28.34445",
         "27.338083"
        ],
        [
         "10",
         "5.0",
         "31.611115",
         "30.601482"
        ],
        [
         "11",
         "5.5",
         "34.87778",
         "33.866413"
        ],
        [
         "12",
         "6.0",
         "38.144447",
         "37.132156"
        ],
        [
         "13",
         "6.5",
         "41.411114",
         "40.398335"
        ],
        [
         "14",
         "7.0",
         "44.67778",
         "43.66474"
        ],
        [
         "15",
         "7.5",
         "47.944447",
         "46.93127"
        ],
        [
         "16",
         "8.0",
         "51.211113",
         "50.197865"
        ],
        [
         "17",
         "8.5",
         "54.47778",
         "53.464493"
        ],
        [
         "18",
         "9.0",
         "57.744446",
         "56.73114"
        ],
        [
         "19",
         "9.5",
         "61.011112",
         "59.997795"
        ],
        [
         "20",
         "10.0",
         "64.27778",
         "63.264458"
        ],
        [
         "21",
         "10.5",
         "67.54445",
         "66.53112"
        ],
        [
         "22",
         "11.0",
         "70.81112",
         "69.79778"
        ],
        [
         "23",
         "11.5",
         "74.07779",
         "73.064445"
        ],
        [
         "24",
         "12.0",
         "77.34446",
         "76.33111"
        ],
        [
         "25",
         "12.5",
         "80.61113",
         "79.59778"
        ],
        [
         "26",
         "13.0",
         "83.8778",
         "82.86444"
        ],
        [
         "27",
         "13.5",
         "87.14447",
         "86.1311"
        ],
        [
         "28",
         "14.0",
         "90.41114",
         "89.397766"
        ],
        [
         "29",
         "14.5",
         "93.67781",
         "92.66443"
        ],
        [
         "30",
         "15.0",
         "96.94448",
         "95.93109"
        ]
       ],
       "shape": {
        "columns": 3,
        "rows": 31
       }
      },
      "text/html": [
       "<div>\n",
       "<style scoped>\n",
       "    .dataframe tbody tr th:only-of-type {\n",
       "        vertical-align: middle;\n",
       "    }\n",
       "\n",
       "    .dataframe tbody tr th {\n",
       "        vertical-align: top;\n",
       "    }\n",
       "\n",
       "    .dataframe thead th {\n",
       "        text-align: right;\n",
       "    }\n",
       "</style>\n",
       "<table border=\"1\" class=\"dataframe\">\n",
       "  <thead>\n",
       "    <tr style=\"text-align: right;\">\n",
       "      <th></th>\n",
       "      <th>timestamp</th>\n",
       "      <th>euler</th>\n",
       "      <th>trapezoid</th>\n",
       "    </tr>\n",
       "  </thead>\n",
       "  <tbody>\n",
       "    <tr>\n",
       "      <th>0</th>\n",
       "      <td>0.0</td>\n",
       "      <td>0.000000</td>\n",
       "      <td>0.000000</td>\n",
       "    </tr>\n",
       "    <tr>\n",
       "      <th>1</th>\n",
       "      <td>0.5</td>\n",
       "      <td>2.475000</td>\n",
       "      <td>2.296875</td>\n",
       "    </tr>\n",
       "    <tr>\n",
       "      <th>2</th>\n",
       "      <td>1.0</td>\n",
       "      <td>5.543750</td>\n",
       "      <td>5.048340</td>\n",
       "    </tr>\n",
       "    <tr>\n",
       "      <th>3</th>\n",
       "      <td>1.5</td>\n",
       "      <td>8.760937</td>\n",
       "      <td>8.041306</td>\n",
       "    </tr>\n",
       "    <tr>\n",
       "      <th>4</th>\n",
       "      <td>2.0</td>\n",
       "      <td>12.015234</td>\n",
       "      <td>11.162569</td>\n",
       "    </tr>\n",
       "    <tr>\n",
       "      <th>5</th>\n",
       "      <td>2.5</td>\n",
       "      <td>15.278809</td>\n",
       "      <td>14.351990</td>\n",
       "    </tr>\n",
       "    <tr>\n",
       "      <th>6</th>\n",
       "      <td>3.0</td>\n",
       "      <td>18.544703</td>\n",
       "      <td>17.577620</td>\n",
       "    </tr>\n",
       "    <tr>\n",
       "      <th>7</th>\n",
       "      <td>3.5</td>\n",
       "      <td>21.811176</td>\n",
       "      <td>20.822485</td>\n",
       "    </tr>\n",
       "    <tr>\n",
       "      <th>8</th>\n",
       "      <td>4.0</td>\n",
       "      <td>25.077795</td>\n",
       "      <td>24.077570</td>\n",
       "    </tr>\n",
       "    <tr>\n",
       "      <th>9</th>\n",
       "      <td>4.5</td>\n",
       "      <td>28.344450</td>\n",
       "      <td>27.338083</td>\n",
       "    </tr>\n",
       "    <tr>\n",
       "      <th>10</th>\n",
       "      <td>5.0</td>\n",
       "      <td>31.611115</td>\n",
       "      <td>30.601482</td>\n",
       "    </tr>\n",
       "    <tr>\n",
       "      <th>11</th>\n",
       "      <td>5.5</td>\n",
       "      <td>34.877780</td>\n",
       "      <td>33.866413</td>\n",
       "    </tr>\n",
       "    <tr>\n",
       "      <th>12</th>\n",
       "      <td>6.0</td>\n",
       "      <td>38.144447</td>\n",
       "      <td>37.132156</td>\n",
       "    </tr>\n",
       "    <tr>\n",
       "      <th>13</th>\n",
       "      <td>6.5</td>\n",
       "      <td>41.411114</td>\n",
       "      <td>40.398335</td>\n",
       "    </tr>\n",
       "    <tr>\n",
       "      <th>14</th>\n",
       "      <td>7.0</td>\n",
       "      <td>44.677780</td>\n",
       "      <td>43.664740</td>\n",
       "    </tr>\n",
       "    <tr>\n",
       "      <th>15</th>\n",
       "      <td>7.5</td>\n",
       "      <td>47.944447</td>\n",
       "      <td>46.931270</td>\n",
       "    </tr>\n",
       "    <tr>\n",
       "      <th>16</th>\n",
       "      <td>8.0</td>\n",
       "      <td>51.211113</td>\n",
       "      <td>50.197865</td>\n",
       "    </tr>\n",
       "    <tr>\n",
       "      <th>17</th>\n",
       "      <td>8.5</td>\n",
       "      <td>54.477780</td>\n",
       "      <td>53.464493</td>\n",
       "    </tr>\n",
       "    <tr>\n",
       "      <th>18</th>\n",
       "      <td>9.0</td>\n",
       "      <td>57.744446</td>\n",
       "      <td>56.731140</td>\n",
       "    </tr>\n",
       "    <tr>\n",
       "      <th>19</th>\n",
       "      <td>9.5</td>\n",
       "      <td>61.011112</td>\n",
       "      <td>59.997795</td>\n",
       "    </tr>\n",
       "    <tr>\n",
       "      <th>20</th>\n",
       "      <td>10.0</td>\n",
       "      <td>64.277780</td>\n",
       "      <td>63.264458</td>\n",
       "    </tr>\n",
       "    <tr>\n",
       "      <th>21</th>\n",
       "      <td>10.5</td>\n",
       "      <td>67.544450</td>\n",
       "      <td>66.531120</td>\n",
       "    </tr>\n",
       "    <tr>\n",
       "      <th>22</th>\n",
       "      <td>11.0</td>\n",
       "      <td>70.811120</td>\n",
       "      <td>69.797780</td>\n",
       "    </tr>\n",
       "    <tr>\n",
       "      <th>23</th>\n",
       "      <td>11.5</td>\n",
       "      <td>74.077790</td>\n",
       "      <td>73.064445</td>\n",
       "    </tr>\n",
       "    <tr>\n",
       "      <th>24</th>\n",
       "      <td>12.0</td>\n",
       "      <td>77.344460</td>\n",
       "      <td>76.331110</td>\n",
       "    </tr>\n",
       "    <tr>\n",
       "      <th>25</th>\n",
       "      <td>12.5</td>\n",
       "      <td>80.611130</td>\n",
       "      <td>79.597780</td>\n",
       "    </tr>\n",
       "    <tr>\n",
       "      <th>26</th>\n",
       "      <td>13.0</td>\n",
       "      <td>83.877800</td>\n",
       "      <td>82.864440</td>\n",
       "    </tr>\n",
       "    <tr>\n",
       "      <th>27</th>\n",
       "      <td>13.5</td>\n",
       "      <td>87.144470</td>\n",
       "      <td>86.131100</td>\n",
       "    </tr>\n",
       "    <tr>\n",
       "      <th>28</th>\n",
       "      <td>14.0</td>\n",
       "      <td>90.411140</td>\n",
       "      <td>89.397766</td>\n",
       "    </tr>\n",
       "    <tr>\n",
       "      <th>29</th>\n",
       "      <td>14.5</td>\n",
       "      <td>93.677810</td>\n",
       "      <td>92.664430</td>\n",
       "    </tr>\n",
       "    <tr>\n",
       "      <th>30</th>\n",
       "      <td>15.0</td>\n",
       "      <td>96.944480</td>\n",
       "      <td>95.931090</td>\n",
       "    </tr>\n",
       "  </tbody>\n",
       "</table>\n",
       "</div>"
      ],
      "text/plain": [
       "    timestamp      euler  trapezoid\n",
       "0         0.0   0.000000   0.000000\n",
       "1         0.5   2.475000   2.296875\n",
       "2         1.0   5.543750   5.048340\n",
       "3         1.5   8.760937   8.041306\n",
       "4         2.0  12.015234  11.162569\n",
       "5         2.5  15.278809  14.351990\n",
       "6         3.0  18.544703  17.577620\n",
       "7         3.5  21.811176  20.822485\n",
       "8         4.0  25.077795  24.077570\n",
       "9         4.5  28.344450  27.338083\n",
       "10        5.0  31.611115  30.601482\n",
       "11        5.5  34.877780  33.866413\n",
       "12        6.0  38.144447  37.132156\n",
       "13        6.5  41.411114  40.398335\n",
       "14        7.0  44.677780  43.664740\n",
       "15        7.5  47.944447  46.931270\n",
       "16        8.0  51.211113  50.197865\n",
       "17        8.5  54.477780  53.464493\n",
       "18        9.0  57.744446  56.731140\n",
       "19        9.5  61.011112  59.997795\n",
       "20       10.0  64.277780  63.264458\n",
       "21       10.5  67.544450  66.531120\n",
       "22       11.0  70.811120  69.797780\n",
       "23       11.5  74.077790  73.064445\n",
       "24       12.0  77.344460  76.331110\n",
       "25       12.5  80.611130  79.597780\n",
       "26       13.0  83.877800  82.864440\n",
       "27       13.5  87.144470  86.131100\n",
       "28       14.0  90.411140  89.397766\n",
       "29       14.5  93.677810  92.664430\n",
       "30       15.0  96.944480  95.931090"
      ]
     },
     "execution_count": 38,
     "metadata": {},
     "output_type": "execute_result"
    }
   ],
   "source": [
    "area_df = pd.read_csv(\n",
    "    HERE / \"result\" / \"area.csv\",\n",
    ")\n",
    "area_df"
   ]
  },
  {
   "cell_type": "code",
   "execution_count": 39,
   "id": "d8e36119",
   "metadata": {},
   "outputs": [
    {
     "data": {
      "image/png": "[encoded data removed]",
      "text/plain": [
       "<Figure size 640x480 with 1 Axes>"
      ]
     },
     "metadata": {},
     "output_type": "display_data"
    }
   ],
   "source": [
    "plot_data(area_df).show()"
   ]
  },
  {
   "cell_type": "code",
   "execution_count": null,
   "id": "2e69e0f9",
   "metadata": {},
   "outputs": [],
   "source": []
  }
 ],
 "metadata": {
  "kernelspec": {
   "display_name": ".venv",
   "language": "python",
   "name": "python3"
  },
  "language_info": {
   "codemirror_mode": {
    "name": "ipython",
    "version": 3
   },
   "file_extension": ".py",
   "mimetype": "text/x-python",
   "name": "python",
   "nbconvert_exporter": "python",
   "pygments_lexer": "ipython3",
   "version": "3.13.3"
  }
 },
 "nbformat": 4,
 "nbformat_minor": 5
}
