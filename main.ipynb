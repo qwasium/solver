{
 "cells": [
  {
   "cell_type": "markdown",
   "id": "bca9f8ee",
   "metadata": {},
   "source": [
    "# Solver"
   ]
  },
  {
   "cell_type": "markdown",
   "id": "d5a5749a",
   "metadata": {},
   "source": [
    "## Config file"
   ]
  },
  {
   "cell_type": "code",
   "execution_count": 1,
   "id": "f266af06",
   "metadata": {},
   "outputs": [
    {
     "data": {
      "text/plain": [
       "PosixPath('/home/hangman/Documents/solver')"
      ]
     },
     "execution_count": 1,
     "metadata": {},
     "output_type": "execute_result"
    }
   ],
   "source": [
    "from pathlib import Path\n",
    "import os\n",
    "\n",
    "import yaml\n",
    "import numpy as np\n",
    "import pandas as pd\n",
    "import matplotlib.pyplot as plt\n",
    "\n",
    "HERE = Path(os.getcwd()) # Path(__file__) won't work in Jupyter\n",
    "HERE"
   ]
  },
  {
   "cell_type": "code",
   "execution_count": 2,
   "id": "cc2b1b02",
   "metadata": {},
   "outputs": [
    {
     "data": {
      "text/plain": [
       "{'time_end': 3,\n",
       " 'time_step': 0.05,\n",
       " 'f_0': 2,\n",
       " 'mass': 1.0,\n",
       " 'viscosity': 1.0,\n",
       " 'ft_fname': 'f_t.csv',\n",
       " 'area_fname': 'area.csv'}"
      ]
     },
     "execution_count": 2,
     "metadata": {},
     "output_type": "execute_result"
    }
   ],
   "source": [
    "with open(HERE / 'config' / 'settings.yaml.bak') as f:\n",
    "    config = yaml.safe_load(f)\n",
    "config"
   ]
  },
  {
   "cell_type": "code",
   "execution_count": 3,
   "id": "1c5f105e",
   "metadata": {},
   "outputs": [],
   "source": [
    "new_config = {\n",
    "    'time_end'  : 3,\n",
    "    'time_step' : 0.05,\n",
    "    'f_0'       : 0,\n",
    "    'mass'      : 10,\n",
    "    'viscosity' : 10,\n",
    "    'ft_fname'  : 'f_t.csv',\n",
    "    'area_fname': 'area.csv',\n",
    "}"
   ]
  },
  {
   "cell_type": "code",
   "execution_count": 4,
   "id": "89d7830b",
   "metadata": {},
   "outputs": [],
   "source": [
    "with open(HERE / 'config' / 'settings.yaml', 'w') as f:\n",
    "    yaml.dump(new_config, f)"
   ]
  },
  {
   "cell_type": "markdown",
   "id": "2087eb3e",
   "metadata": {},
   "source": [
    "## Simulation\n",
    "\n",
    "`cargo run` will read `config/settings.yaml` and produce:\n",
    "\n",
    "- `result/`\n",
    "  - `<config[\"area_fname\"]>.csv`\n",
    "  - `<config[\"ft_fname\"]>.csv`"
   ]
  },
  {
   "cell_type": "code",
   "execution_count": 5,
   "id": "956e4c01",
   "metadata": {},
   "outputs": [
    {
     "name": "stdout",
     "output_type": "stream",
     "text": [
      "\u001b[1m\u001b[32m   Compiling\u001b[0m solver v0.1.0 (/home/hangman/Documents/solver)\n",
      "\u001b[K\u001b[1m\u001b[32m    Finished\u001b[0m `dev` profile [unoptimized + debuginfo] target(s) in 0.31s    \n",
      "\u001b[1m\u001b[32m     Running\u001b[0m `target/debug/solver`\n",
      "Solver { time_end: 3.0, time_step: 0.05, f_0: 0.0, mass: 10.0, viscosity: 10.0, gravity: 9.8 }\n",
      "\n",
      "=== Final Values f(3) ===\n",
      "Analytical solution: 9.312087\n",
      "Euler method:        9.371090\n",
      "Trapezoidal method:  9.335269\n",
      "\n",
      "=== Integrals ∫f(t)dt from 0 to 3 ===\n",
      "Analytical integral:           20.087898\n",
      "Euler ODE + Trap integration:  20.753191\n",
      "Trap ODE + Trap integration:   20.548744\n",
      "\n"
     ]
    }
   ],
   "source": [
    "!cargo run"
   ]
  },
  {
   "cell_type": "markdown",
   "id": "eef2802a",
   "metadata": {},
   "source": [
    "## Plot"
   ]
  },
  {
   "cell_type": "code",
   "execution_count": null,
   "id": "d27599e3",
   "metadata": {},
   "outputs": [],
   "source": [
    "def plot_data(df) -> plt:\n",
    "    plt.plot(\n",
    "        df[\"timestamp\"], df[\"analytical\"],\n",
    "        label=\"analytical\",\n",
    "        color=\"green\"\n",
    "    )\n",
    "    plt.plot(\n",
    "        df[\"timestamp\"], df[\"euler\"],\n",
    "        label=\"euler\",\n",
    "        color=\"blue\",\n",
    "        linestyle=\"--\"\n",
    "    )\n",
    "    plt.plot(\n",
    "        df[\"timestamp\"], df[\"trapezoid\"],\n",
    "        label=\"trapezoid\",\n",
    "        color=\"orange\",\n",
    "        linestyle=\":\"\n",
    "    )\n",
    "    plt.legend()\n",
    "    return plt"
   ]
  },
  {
   "cell_type": "markdown",
   "id": "848170c9",
   "metadata": {},
   "source": [
    "### $f(t)$ (1st integral)"
   ]
  },
  {
   "cell_type": "code",
   "execution_count": 7,
   "id": "1d2ee33d",
   "metadata": {},
   "outputs": [
    {
     "data": {
      "application/vnd.microsoft.datawrangler.viewer.v0+json": {
       "columns": [
        {
         "name": "index",
         "rawType": "int64",
         "type": "integer"
        },
        {
         "name": "timestamp",
         "rawType": "float64",
         "type": "float"
        },
        {
         "name": "euler",
         "rawType": "float64",
         "type": "float"
        },
        {
         "name": "trapezoid",
         "rawType": "float64",
         "type": "float"
        },
        {
         "name": "analytical",
         "rawType": "float64",
         "type": "float"
        }
       ],
       "ref": "83ffa854-3877-4307-93fd-95957bec8084",
       "rows": [
        [
         "0",
         "0.0",
         "0.0",
         "0.0",
         "0.0"
        ],
        [
         "1",
         "0.05",
         "0.49",
         "0.47775003",
         "0.47795105"
        ],
        [
         "2",
         "0.1",
         "0.9555",
         "0.93220973",
         "0.93259335"
        ],
        [
         "3",
         "0.15",
         "1.3977251",
         "1.3645145",
         "1.3650618"
        ],
        [
         "4",
         "0.2",
         "1.8178389",
         "1.7757444",
         "1.7764387"
        ],
        [
         "5",
         "0.25",
         "2.216947",
         "2.1669269",
         "2.1677523"
        ],
        [
         "6",
         "0.3",
         "2.5960999",
         "2.5390391",
         "2.5399818"
        ],
        [
         "7",
         "0.35000002",
         "2.9562948",
         "2.893011",
         "2.8940568"
        ],
        [
         "8",
         "0.40000004",
         "3.29848",
         "3.2297268",
         "3.2308636"
        ],
        [
         "9",
         "0.45000005",
         "3.6235561",
         "3.5500276",
         "3.5512443"
        ],
        [
         "10",
         "0.50000006",
         "3.9323783",
         "3.8547137",
         "3.856"
        ],
        [
         "11",
         "0.5500001",
         "4.2257595",
         "4.1445465",
         "4.145892"
        ],
        [
         "12",
         "0.6000001",
         "4.504472",
         "4.42025",
         "4.421646"
        ],
        [
         "13",
         "0.6500001",
         "4.769248",
         "4.6825128",
         "4.683952"
        ],
        [
         "14",
         "0.7000001",
         "5.020786",
         "4.93199",
         "4.9334645"
        ],
        [
         "15",
         "0.7500001",
         "5.2597466",
         "5.169306",
         "5.170809"
        ],
        [
         "16",
         "0.80000013",
         "5.486759",
         "5.395052",
         "5.3965764"
        ],
        [
         "17",
         "0.85000014",
         "5.702421",
         "5.609793",
         "5.611335"
        ],
        [
         "18",
         "0.90000015",
         "5.9073",
         "5.814066",
         "5.8156185"
        ],
        [
         "19",
         "0.95000017",
         "6.101935",
         "6.0083804",
         "6.0099387"
        ],
        [
         "20",
         "1.0000001",
         "6.286838",
         "6.193222",
         "6.1947823"
        ],
        [
         "21",
         "1.0500001",
         "6.4624963",
         "6.3690524",
         "6.37061"
        ],
        [
         "22",
         "1.1",
         "6.6293716",
         "6.536311",
         "6.5378637"
        ],
        [
         "23",
         "1.15",
         "6.787903",
         "6.695416",
         "6.6969595"
        ],
        [
         "24",
         "1.1999999",
         "6.9385076",
         "6.8467646",
         "6.848297"
        ],
        [
         "25",
         "1.2499999",
         "7.081582",
         "6.990735",
         "6.992253"
        ],
        [
         "26",
         "1.2999998",
         "7.217503",
         "7.1276865",
         "7.129188"
        ],
        [
         "27",
         "1.3499998",
         "7.3466277",
         "7.2579618",
         "7.259445"
        ],
        [
         "28",
         "1.3999997",
         "7.4692965",
         "7.381886",
         "7.3833494"
        ],
        [
         "29",
         "1.4499997",
         "7.5858316",
         "7.499769",
         "7.5012107"
        ],
        [
         "30",
         "1.4999996",
         "7.69654",
         "7.6119056",
         "7.6133237"
        ],
        [
         "31",
         "1.5499996",
         "7.801713",
         "7.718575",
         "7.7199693"
        ],
        [
         "32",
         "1.5999995",
         "7.9016275",
         "7.8200445",
         "7.8214135"
        ],
        [
         "33",
         "1.6499995",
         "7.9965463",
         "7.9165673",
         "7.9179096"
        ],
        [
         "34",
         "1.6999995",
         "8.086719",
         "8.008385",
         "8.009701"
        ],
        [
         "35",
         "1.7499994",
         "8.172382",
         "8.095726",
         "8.097014"
        ],
        [
         "36",
         "1.7999994",
         "8.253763",
         "8.178809",
         "8.18007"
        ],
        [
         "37",
         "1.8499993",
         "8.331075",
         "8.257842",
         "8.259075"
        ],
        [
         "38",
         "1.8999993",
         "8.404521",
         "8.333022",
         "8.334227"
        ],
        [
         "39",
         "1.9499992",
         "8.474295",
         "8.404537",
         "8.405713"
        ],
        [
         "40",
         "1.9999992",
         "8.54058",
         "8.472566",
         "8.473713"
        ],
        [
         "41",
         "2.0499992",
         "8.603551",
         "8.537278",
         "8.538397"
        ],
        [
         "42",
         "2.0999992",
         "8.663373",
         "8.598836",
         "8.599926"
        ],
        [
         "43",
         "2.1499991",
         "8.720204",
         "8.6573925",
         "8.658455"
        ],
        [
         "44",
         "2.199999",
         "8.774194",
         "8.713095",
         "8.7141285"
        ],
        [
         "45",
         "2.249999",
         "8.825484",
         "8.766082",
         "8.767087"
        ],
        [
         "46",
         "2.299999",
         "8.87421",
         "8.816485",
         "8.817463"
        ],
        [
         "47",
         "2.349999",
         "8.9205",
         "8.864431",
         "8.865381"
        ],
        [
         "48",
         "2.399999",
         "8.964475",
         "8.91004",
         "8.910963"
        ],
        [
         "49",
         "2.4499989",
         "9.006251",
         "8.953425",
         "8.954322"
        ]
       ],
       "shape": {
        "columns": 4,
        "rows": 62
       }
      },
      "text/html": [
       "<div>\n",
       "<style scoped>\n",
       "    .dataframe tbody tr th:only-of-type {\n",
       "        vertical-align: middle;\n",
       "    }\n",
       "\n",
       "    .dataframe tbody tr th {\n",
       "        vertical-align: top;\n",
       "    }\n",
       "\n",
       "    .dataframe thead th {\n",
       "        text-align: right;\n",
       "    }\n",
       "</style>\n",
       "<table border=\"1\" class=\"dataframe\">\n",
       "  <thead>\n",
       "    <tr style=\"text-align: right;\">\n",
       "      <th></th>\n",
       "      <th>timestamp</th>\n",
       "      <th>euler</th>\n",
       "      <th>trapezoid</th>\n",
       "      <th>analytical</th>\n",
       "    </tr>\n",
       "  </thead>\n",
       "  <tbody>\n",
       "    <tr>\n",
       "      <th>0</th>\n",
       "      <td>0.000000</td>\n",
       "      <td>0.000000</td>\n",
       "      <td>0.000000</td>\n",
       "      <td>0.000000</td>\n",
       "    </tr>\n",
       "    <tr>\n",
       "      <th>1</th>\n",
       "      <td>0.050000</td>\n",
       "      <td>0.490000</td>\n",
       "      <td>0.477750</td>\n",
       "      <td>0.477951</td>\n",
       "    </tr>\n",
       "    <tr>\n",
       "      <th>2</th>\n",
       "      <td>0.100000</td>\n",
       "      <td>0.955500</td>\n",
       "      <td>0.932210</td>\n",
       "      <td>0.932593</td>\n",
       "    </tr>\n",
       "    <tr>\n",
       "      <th>3</th>\n",
       "      <td>0.150000</td>\n",
       "      <td>1.397725</td>\n",
       "      <td>1.364515</td>\n",
       "      <td>1.365062</td>\n",
       "    </tr>\n",
       "    <tr>\n",
       "      <th>4</th>\n",
       "      <td>0.200000</td>\n",
       "      <td>1.817839</td>\n",
       "      <td>1.775744</td>\n",
       "      <td>1.776439</td>\n",
       "    </tr>\n",
       "    <tr>\n",
       "      <th>...</th>\n",
       "      <td>...</td>\n",
       "      <td>...</td>\n",
       "      <td>...</td>\n",
       "      <td>...</td>\n",
       "    </tr>\n",
       "    <tr>\n",
       "      <th>57</th>\n",
       "      <td>2.849998</td>\n",
       "      <td>9.273411</td>\n",
       "      <td>9.232426</td>\n",
       "      <td>9.233125</td>\n",
       "    </tr>\n",
       "    <tr>\n",
       "      <th>58</th>\n",
       "      <td>2.899998</td>\n",
       "      <td>9.299740</td>\n",
       "      <td>9.260095</td>\n",
       "      <td>9.260772</td>\n",
       "    </tr>\n",
       "    <tr>\n",
       "      <th>59</th>\n",
       "      <td>2.949998</td>\n",
       "      <td>9.324753</td>\n",
       "      <td>9.286415</td>\n",
       "      <td>9.287070</td>\n",
       "    </tr>\n",
       "    <tr>\n",
       "      <th>60</th>\n",
       "      <td>2.999998</td>\n",
       "      <td>9.348515</td>\n",
       "      <td>9.311452</td>\n",
       "      <td>9.312086</td>\n",
       "    </tr>\n",
       "    <tr>\n",
       "      <th>61</th>\n",
       "      <td>3.049998</td>\n",
       "      <td>9.371090</td>\n",
       "      <td>9.335269</td>\n",
       "      <td>9.335882</td>\n",
       "    </tr>\n",
       "  </tbody>\n",
       "</table>\n",
       "<p>62 rows × 4 columns</p>\n",
       "</div>"
      ],
      "text/plain": [
       "    timestamp     euler  trapezoid  analytical\n",
       "0    0.000000  0.000000   0.000000    0.000000\n",
       "1    0.050000  0.490000   0.477750    0.477951\n",
       "2    0.100000  0.955500   0.932210    0.932593\n",
       "3    0.150000  1.397725   1.364515    1.365062\n",
       "4    0.200000  1.817839   1.775744    1.776439\n",
       "..        ...       ...        ...         ...\n",
       "57   2.849998  9.273411   9.232426    9.233125\n",
       "58   2.899998  9.299740   9.260095    9.260772\n",
       "59   2.949998  9.324753   9.286415    9.287070\n",
       "60   2.999998  9.348515   9.311452    9.312086\n",
       "61   3.049998  9.371090   9.335269    9.335882\n",
       "\n",
       "[62 rows x 4 columns]"
      ]
     },
     "execution_count": 7,
     "metadata": {},
     "output_type": "execute_result"
    }
   ],
   "source": [
    "ft_df = pd.read_csv(\n",
    "    HERE / \"result\" / \"f_t.csv\",\n",
    ")\n",
    "ft_df"
   ]
  },
  {
   "cell_type": "code",
   "execution_count": 8,
   "id": "ef61dfce",
   "metadata": {},
   "outputs": [
    {
     "data": {
      "image/png": "[encoded data removed]",
      "text/plain": [
       "<Figure size 640x480 with 1 Axes>"
      ]
     },
     "metadata": {},
     "output_type": "display_data"
    }
   ],
   "source": [
    "plot_data(ft_df).show()"
   ]
  },
  {
   "cell_type": "markdown",
   "id": "4ef9476b",
   "metadata": {},
   "source": [
    "### area (2nd integral)"
   ]
  },
  {
   "cell_type": "code",
   "execution_count": 9,
   "id": "12526e3f",
   "metadata": {},
   "outputs": [
    {
     "data": {
      "application/vnd.microsoft.datawrangler.viewer.v0+json": {
       "columns": [
        {
         "name": "index",
         "rawType": "int64",
         "type": "integer"
        },
        {
         "name": "timestamp",
         "rawType": "float64",
         "type": "float"
        },
        {
         "name": "euler",
         "rawType": "float64",
         "type": "float"
        },
        {
         "name": "trapezoid",
         "rawType": "float64",
         "type": "float"
        },
        {
         "name": "analytical",
         "rawType": "float64",
         "type": "float"
        }
       ],
       "ref": "fd079513-29f2-41cc-a8f2-ba59a8ba0c76",
       "rows": [
        [
         "0",
         "0.0",
         "0.0",
         "0.0",
         "0.0"
        ],
        [
         "1",
         "0.05",
         "0.012250001",
         "0.011943751",
         "0.0"
        ],
        [
         "2",
         "0.1",
         "0.048387505",
         "0.047192745",
         "0.012048632"
        ],
        [
         "3",
         "0.15",
         "0.10721813",
         "0.10461085",
         "0.047406793"
        ],
        [
         "4",
         "0.2",
         "0.18760723",
         "0.18311733",
         "0.10493839"
        ],
        [
         "5",
         "0.25",
         "0.28847688",
         "0.2816841",
         "0.18356156"
        ],
        [
         "6",
         "0.3",
         "0.40880305",
         "0.39933324",
         "0.28224778"
        ],
        [
         "7",
         "0.35000002",
         "0.5476129",
         "0.5351345",
         "0.40001845"
        ],
        [
         "8",
         "0.40000004",
         "0.7039823",
         "0.688203",
         "0.53594327"
        ],
        [
         "9",
         "0.45000005",
         "0.87703323",
         "0.85769683",
         "0.6891365"
        ],
        [
         "10",
         "0.50000006",
         "1.0659316",
         "1.0428153",
         "0.85875607"
        ],
        [
         "11",
         "0.5500001",
         "1.2698851",
         "1.2427968",
         "1.0440004"
        ],
        [
         "12",
         "0.6000001",
         "1.4881408",
         "1.4569167",
         "1.2441087"
        ],
        [
         "13",
         "0.6500001",
         "1.7199838",
         "1.6844858",
         "1.458355"
        ],
        [
         "14",
         "0.7000001",
         "1.9647347",
         "1.9248483",
         "1.686049"
        ],
        [
         "15",
         "0.7500001",
         "2.2217479",
         "2.1773808",
         "1.9265366"
        ],
        [
         "16",
         "0.80000013",
         "2.4904106",
         "2.4414897",
         "2.1791925"
        ],
        [
         "17",
         "0.85000014",
         "2.7701402",
         "2.716611",
         "2.4434247"
        ],
        [
         "18",
         "0.90000015",
         "3.0603833",
         "3.0022073",
         "2.718667"
        ],
        [
         "19",
         "0.95000017",
         "3.3606143",
         "3.2977684",
         "3.0043836"
        ],
        [
         "20",
         "1.0000001",
         "3.6703336",
         "3.6028085",
         "3.3000622"
        ],
        [
         "21",
         "1.0500001",
         "3.989067",
         "3.9168653",
         "3.605219"
        ],
        [
         "22",
         "1.1",
         "4.316364",
         "4.2394996",
         "3.9193907"
        ],
        [
         "23",
         "1.15",
         "4.651796",
         "4.570293",
         "4.242137"
        ],
        [
         "24",
         "1.1999999",
         "4.994956",
         "4.9088473",
         "4.573041"
        ],
        [
         "25",
         "1.2499999",
         "5.345458",
         "5.2547846",
         "4.911702"
        ],
        [
         "26",
         "1.2999998",
         "5.702935",
         "5.607745",
         "5.2577467"
        ],
        [
         "27",
         "1.3499998",
         "6.0670385",
         "5.9673862",
         "5.6108108"
        ],
        [
         "28",
         "1.3999997",
         "6.4374366",
         "6.3333826",
         "5.970554"
        ],
        [
         "29",
         "1.4499997",
         "6.8138146",
         "6.705424",
         "6.3366485"
        ],
        [
         "30",
         "1.4999996",
         "7.1958737",
         "7.0832157",
         "6.708787"
        ],
        [
         "31",
         "1.5499996",
         "7.58333",
         "7.466478",
         "7.086673"
        ],
        [
         "32",
         "1.5999995",
         "7.9759135",
         "7.8549433",
         "7.470028"
        ],
        [
         "33",
         "1.6499995",
         "8.373368",
         "8.248359",
         "7.858582"
        ],
        [
         "34",
         "1.6999995",
         "8.77545",
         "8.646482",
         "8.252087"
        ],
        [
         "35",
         "1.7499994",
         "9.181928",
         "9.049086",
         "8.650293"
        ],
        [
         "36",
         "1.7999994",
         "9.592582",
         "9.455949",
         "9.052979"
        ],
        [
         "37",
         "1.8499993",
         "10.007203",
         "9.866865",
         "9.459923"
        ],
        [
         "38",
         "1.8999993",
         "10.425593",
         "10.281637",
         "9.870918"
        ],
        [
         "39",
         "1.9499992",
         "10.847564",
         "10.700076",
         "10.285767"
        ],
        [
         "40",
         "1.9999992",
         "11.272936",
         "11.122004",
         "10.70428"
        ],
        [
         "41",
         "2.0499992",
         "11.701539",
         "11.54725",
         "11.12628"
        ],
        [
         "42",
         "2.0999992",
         "12.133212",
         "11.975653",
         "11.551596"
        ],
        [
         "43",
         "2.1499991",
         "12.567801",
         "12.407059",
         "11.980066"
        ],
        [
         "44",
         "2.199999",
         "13.005161",
         "12.841321",
         "12.411538"
        ],
        [
         "45",
         "2.249999",
         "13.445153",
         "13.2783",
         "12.845863"
        ],
        [
         "46",
         "2.299999",
         "13.887646",
         "13.717864",
         "13.282905"
        ],
        [
         "47",
         "2.349999",
         "14.332514",
         "14.159887",
         "13.722528"
        ],
        [
         "48",
         "2.399999",
         "14.779638",
         "14.604249",
         "14.164608"
        ],
        [
         "49",
         "2.4499989",
         "15.228907",
         "15.050836",
         "14.609026"
        ]
       ],
       "shape": {
        "columns": 4,
        "rows": 62
       }
      },
      "text/html": [
       "<div>\n",
       "<style scoped>\n",
       "    .dataframe tbody tr th:only-of-type {\n",
       "        vertical-align: middle;\n",
       "    }\n",
       "\n",
       "    .dataframe tbody tr th {\n",
       "        vertical-align: top;\n",
       "    }\n",
       "\n",
       "    .dataframe thead th {\n",
       "        text-align: right;\n",
       "    }\n",
       "</style>\n",
       "<table border=\"1\" class=\"dataframe\">\n",
       "  <thead>\n",
       "    <tr style=\"text-align: right;\">\n",
       "      <th></th>\n",
       "      <th>timestamp</th>\n",
       "      <th>euler</th>\n",
       "      <th>trapezoid</th>\n",
       "      <th>analytical</th>\n",
       "    </tr>\n",
       "  </thead>\n",
       "  <tbody>\n",
       "    <tr>\n",
       "      <th>0</th>\n",
       "      <td>0.000000</td>\n",
       "      <td>0.000000</td>\n",
       "      <td>0.000000</td>\n",
       "      <td>0.000000</td>\n",
       "    </tr>\n",
       "    <tr>\n",
       "      <th>1</th>\n",
       "      <td>0.050000</td>\n",
       "      <td>0.012250</td>\n",
       "      <td>0.011944</td>\n",
       "      <td>0.000000</td>\n",
       "    </tr>\n",
       "    <tr>\n",
       "      <th>2</th>\n",
       "      <td>0.100000</td>\n",
       "      <td>0.048388</td>\n",
       "      <td>0.047193</td>\n",
       "      <td>0.012049</td>\n",
       "    </tr>\n",
       "    <tr>\n",
       "      <th>3</th>\n",
       "      <td>0.150000</td>\n",
       "      <td>0.107218</td>\n",
       "      <td>0.104611</td>\n",
       "      <td>0.047407</td>\n",
       "    </tr>\n",
       "    <tr>\n",
       "      <th>4</th>\n",
       "      <td>0.200000</td>\n",
       "      <td>0.187607</td>\n",
       "      <td>0.183117</td>\n",
       "      <td>0.104938</td>\n",
       "    </tr>\n",
       "    <tr>\n",
       "      <th>...</th>\n",
       "      <td>...</td>\n",
       "      <td>...</td>\n",
       "      <td>...</td>\n",
       "      <td>...</td>\n",
       "    </tr>\n",
       "    <tr>\n",
       "      <th>57</th>\n",
       "      <td>2.849998</td>\n",
       "      <td>18.888428</td>\n",
       "      <td>18.691654</td>\n",
       "      <td>18.235924</td>\n",
       "    </tr>\n",
       "    <tr>\n",
       "      <th>58</th>\n",
       "      <td>2.899998</td>\n",
       "      <td>19.352757</td>\n",
       "      <td>19.153967</td>\n",
       "      <td>18.696861</td>\n",
       "    </tr>\n",
       "    <tr>\n",
       "      <th>59</th>\n",
       "      <td>2.949998</td>\n",
       "      <td>19.818369</td>\n",
       "      <td>19.617630</td>\n",
       "      <td>19.159214</td>\n",
       "    </tr>\n",
       "    <tr>\n",
       "      <th>60</th>\n",
       "      <td>2.999998</td>\n",
       "      <td>20.285200</td>\n",
       "      <td>20.082577</td>\n",
       "      <td>19.622913</td>\n",
       "    </tr>\n",
       "    <tr>\n",
       "      <th>61</th>\n",
       "      <td>3.049998</td>\n",
       "      <td>20.753191</td>\n",
       "      <td>20.548744</td>\n",
       "      <td>20.087898</td>\n",
       "    </tr>\n",
       "  </tbody>\n",
       "</table>\n",
       "<p>62 rows × 4 columns</p>\n",
       "</div>"
      ],
      "text/plain": [
       "    timestamp      euler  trapezoid  analytical\n",
       "0    0.000000   0.000000   0.000000    0.000000\n",
       "1    0.050000   0.012250   0.011944    0.000000\n",
       "2    0.100000   0.048388   0.047193    0.012049\n",
       "3    0.150000   0.107218   0.104611    0.047407\n",
       "4    0.200000   0.187607   0.183117    0.104938\n",
       "..        ...        ...        ...         ...\n",
       "57   2.849998  18.888428  18.691654   18.235924\n",
       "58   2.899998  19.352757  19.153967   18.696861\n",
       "59   2.949998  19.818369  19.617630   19.159214\n",
       "60   2.999998  20.285200  20.082577   19.622913\n",
       "61   3.049998  20.753191  20.548744   20.087898\n",
       "\n",
       "[62 rows x 4 columns]"
      ]
     },
     "execution_count": 9,
     "metadata": {},
     "output_type": "execute_result"
    }
   ],
   "source": [
    "area_df = pd.read_csv(\n",
    "    HERE / \"result\" / \"area.csv\",\n",
    ")\n",
    "area_df"
   ]
  },
  {
   "cell_type": "code",
   "execution_count": 10,
   "id": "d8e36119",
   "metadata": {},
   "outputs": [
    {
     "data": {
      "image/png": "[encoded data removed]",
      "text/plain": [
       "<Figure size 640x480 with 1 Axes>"
      ]
     },
     "metadata": {},
     "output_type": "display_data"
    }
   ],
   "source": [
    "plot_data(area_df).show()"
   ]
  },
  {
   "cell_type": "code",
   "execution_count": null,
   "id": "2e69e0f9",
   "metadata": {},
   "outputs": [],
   "source": []
  }
 ],
 "metadata": {
  "kernelspec": {
   "display_name": ".venv",
   "language": "python",
   "name": "python3"
  },
  "language_info": {
   "codemirror_mode": {
    "name": "ipython",
    "version": 3
   },
   "file_extension": ".py",
   "mimetype": "text/x-python",
   "name": "python",
   "nbconvert_exporter": "python",
   "pygments_lexer": "ipython3",
   "version": "3.13.3"
  }
 },
 "nbformat": 4,
 "nbformat_minor": 5
}
