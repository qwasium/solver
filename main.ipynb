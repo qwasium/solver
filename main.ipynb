{
 "cells": [
  {
   "cell_type": "markdown",
   "id": "bca9f8ee",
   "metadata": {},
   "source": [
    "# Solver"
   ]
  },
  {
   "cell_type": "code",
   "execution_count": 1,
   "id": "f266af06",
   "metadata": {},
   "outputs": [
    {
     "data": {
      "text/plain": [
       "PosixPath('/home/hangman/Documents/solver')"
      ]
     },
     "execution_count": 1,
     "metadata": {},
     "output_type": "execute_result"
    }
   ],
   "source": [
    "from pathlib import Path\n",
    "import os\n",
    "import copy\n",
    "\n",
    "import yaml\n",
    "import numpy as np\n",
    "import pandas as pd\n",
    "import matplotlib.pyplot as plt\n",
    "\n",
    "HERE = Path(os.getcwd()) # Path(__file__) won't work in Jupyter\n",
    "HERE"
   ]
  },
  {
   "cell_type": "markdown",
   "id": "d5a5749a",
   "metadata": {},
   "source": [
    "## Config file"
   ]
  },
  {
   "cell_type": "code",
   "execution_count": 2,
   "id": "cc2b1b02",
   "metadata": {},
   "outputs": [
    {
     "data": {
      "text/plain": [
       "{'init_acceleration': 0,\n",
       " 'init_velocity': 0,\n",
       " 'init_position': 0,\n",
       " 'acc_fname': 'acceleration.csv',\n",
       " 'vel_fname': 'velocity.csv',\n",
       " 'pos_fname': 'position.csv',\n",
       " 'model_params': {'mass': 100, 'spring': 5, 'amplitude': 5, 'frequency': 3},\n",
       " 'time_end': 3,\n",
       " 'time_step': 1.0}"
      ]
     },
     "execution_count": 2,
     "metadata": {},
     "output_type": "execute_result"
    }
   ],
   "source": [
    "with open(HERE / 'config' / 'settings.yaml.bak') as f:\n",
    "    config = yaml.safe_load(f)\n",
    "config"
   ]
  },
  {
   "cell_type": "code",
   "execution_count": 36,
   "id": "1c5f105e",
   "metadata": {},
   "outputs": [],
   "source": [
    "new_config = {\n",
    "    'time_end'         : 15,\n",
    "    'time_step'        : 0.1,\n",
    "    'init_acceleration': 0.0,\n",
    "    'init_velocity'    : 0.0,\n",
    "    'init_position'    : 0.0,\n",
    "    'acc_fname'        : 'acceleration.csv',\n",
    "    'vel_fname'        : 'velocity.csv',\n",
    "    'pos_fname'        : 'position.csv',\n",
    "    'model_params': {\n",
    "        \"mass\"     : 10,\n",
    "        \"spring\"   : 10,\n",
    "        \"amplitude\": 5,\n",
    "        \"frequency\": 3,\n",
    "    }\n",
    "}"
   ]
  },
  {
   "cell_type": "code",
   "execution_count": 37,
   "id": "89d7830b",
   "metadata": {},
   "outputs": [],
   "source": [
    "with open(HERE / 'config' / 'settings.yaml', 'w') as f:\n",
    "    yaml.dump(new_config, f)"
   ]
  },
  {
   "cell_type": "markdown",
   "id": "2087eb3e",
   "metadata": {},
   "source": [
    "## Simulation\n",
    "\n",
    "`cargo run` will read `config/settings.yaml` and produce:\n",
    "\n",
    "- `result/`\n",
    "  - `<config[\"area_fname\"]>.csv`\n",
    "  - `<config[\"ft_fname\"]>.csv`"
   ]
  },
  {
   "cell_type": "code",
   "execution_count": 3,
   "id": "956e4c01",
   "metadata": {},
   "outputs": [
    {
     "name": "stdout",
     "output_type": "stream",
     "text": [
      "\u001b[1m\u001b[32m    Finished\u001b[0m `dev` profile [unoptimized + debuginfo] target(s) in 0.17s\n",
      "\u001b[1m\u001b[32m     Running\u001b[0m `target/debug/solver`\n",
      "Solver { time_end: 15.0, time_step: 0.1, init_acceleration: 0.0, init_velocity: 0.0, init_position: 0.0, mass: 10.0, spring: 10.0, amplitude: 5.0, frequency: 3.0 }\n",
      "\n",
      "=== Final Values v(15) ===\n",
      "Euler method:        97.325493\n",
      "Runge-Kutta method:  7.243610\n",
      "\n",
      "=== Integrals x(t) = ∫v(t)dt from 0 to 15 ===\n",
      "Euler ODE + Trap integration:  31.806950\n",
      "RK4 ODE + Trap integration:    -30.472393\n",
      "\n"
     ]
    }
   ],
   "source": [
    "!cargo run"
   ]
  },
  {
   "cell_type": "markdown",
   "id": "eef2802a",
   "metadata": {},
   "source": [
    "## Plot"
   ]
  },
  {
   "cell_type": "code",
   "execution_count": 4,
   "id": "d27599e3",
   "metadata": {},
   "outputs": [],
   "source": [
    "def plot_data(df) -> plt:\n",
    "    plt.plot(\n",
    "        df[\"timestamp\"], df[\"analytical\"],\n",
    "        label=\"analytical\",\n",
    "        color=\"green\"\n",
    "    )\n",
    "    plt.plot(\n",
    "        df[\"timestamp\"], df[\"euler\"],\n",
    "        label=\"euler\",\n",
    "        color=\"blue\",\n",
    "        linestyle=\"--\"\n",
    "    )\n",
    "    plt.plot(\n",
    "        df[\"timestamp\"], df[\"rk4\"],\n",
    "        label=\"Runge-Kutta\",\n",
    "        color=\"magenta\",\n",
    "        linestyle=\":\"\n",
    "    )\n",
    "    plt.legend()\n",
    "    return plt"
   ]
  },
  {
   "cell_type": "code",
   "execution_count": 5,
   "id": "519d580f",
   "metadata": {},
   "outputs": [],
   "source": [
    "def rmse(df) -> list[float]:\n",
    "    error = {\n",
    "        \"euler\": 0,\n",
    "        \"rk4\": 0\n",
    "    }\n",
    "    for i, row in df.iterrows():\n",
    "        for method in error:\n",
    "            error[method] += (\n",
    "                row[\"analytical\"] - row[method]\n",
    "            ) ** 2\n",
    "    return {method: err/len(df) for method, err in error.items()}\n"
   ]
  },
  {
   "cell_type": "markdown",
   "id": "d0af5f46",
   "metadata": {},
   "source": [
    "### $a(t)$ (acceleration)"
   ]
  },
  {
   "cell_type": "code",
   "execution_count": 10,
   "id": "cf7d5ce1",
   "metadata": {},
   "outputs": [
    {
     "data": {
      "application/vnd.microsoft.datawrangler.viewer.v0+json": {
       "columns": [
        {
         "name": "index",
         "rawType": "int64",
         "type": "integer"
        },
        {
         "name": "timestamp",
         "rawType": "float64",
         "type": "float"
        },
        {
         "name": "euler",
         "rawType": "float64",
         "type": "float"
        },
        {
         "name": "rk4",
         "rawType": "float64",
         "type": "float"
        },
        {
         "name": "analytical",
         "rawType": "float64",
         "type": "float"
        }
       ],
       "ref": "97a381fe-5718-4a88-ac5f-3a49d366c64b",
       "rows": [
        [
         "0",
         "0.0",
         "0.0",
         "0.0",
         "0.0"
        ],
        [
         "1",
         "0.1",
         "0.05",
         "0.04908856",
         "0.0625"
        ],
        [
         "2",
         "0.2",
         "0.09775433",
         "0.09355019",
         "0.22841789"
        ],
        [
         "3",
         "0.3",
         "0.13894668",
         "0.12942329",
         "0.37886557"
        ],
        [
         "4",
         "0.4",
         "0.1697947",
         "0.15350242",
         "0.5003299"
        ],
        [
         "5",
         "0.5",
         "0.18738568",
         "0.16361691",
         "0.58183825"
        ],
        [
         "6",
         "0.6",
         "0.18993475",
         "0.15881446",
         "0.61593986"
        ],
        [
         "7",
         "0.70000005",
         "0.17694232",
         "0.13943462",
         "0.59937274"
        ],
        [
         "8",
         "0.8000001",
         "0.14923713",
         "0.1070665",
         "0.53335786"
        ],
        [
         "9",
         "0.9000001",
         "0.10890072",
         "0.064395875",
         "0.4234922"
        ],
        [
         "10",
         "1.0000001",
         "0.059080478",
         "0.014956258",
         "0.27925164"
        ],
        [
         "11",
         "1.1000001",
         "0.0037077814",
         "-0.03719286",
         "0.11314863"
        ],
        [
         "12",
         "1.2000002",
         "-0.0528534",
         "-0.08783111",
         "-0.06038244"
        ],
        [
         "13",
         "1.3000002",
         "-0.10619606",
         "-0.13295285",
         "-0.2262706"
        ],
        [
         "14",
         "1.4000002",
         "-0.1522629",
         "-0.16911954",
         "-0.37015003"
        ],
        [
         "15",
         "1.5000002",
         "-0.18770726",
         "-0.19375773",
         "-0.47963864"
        ],
        [
         "16",
         "1.6000003",
         "-0.21018988",
         "-0.20537671",
         "-0.5454397"
        ],
        [
         "17",
         "1.7000003",
         "-0.2185848",
         "-0.20368707",
         "-0.5621675"
        ],
        [
         "18",
         "1.8000003",
         "-0.21307617",
         "-0.18961051",
         "-0.5288234"
        ],
        [
         "19",
         "1.9000003",
         "-0.19513705",
         "-0.16518128",
         "-0.4488798"
        ],
        [
         "20",
         "2.0000002",
         "-0.16739225",
         "-0.13334878",
         "-0.3299659"
        ],
        [
         "21",
         "2.1000001",
         "-0.1333772",
         "-0.097700074",
         "-0.1831799"
        ],
        [
         "22",
         "2.2",
         "-0.09721452",
         "-0.062127694",
         "-0.022094963"
        ],
        [
         "23",
         "2.3",
         "-0.0632371",
         "-0.030472867",
         "0.1384609"
        ],
        [
         "24",
         "2.3999999",
         "-0.03559123",
         "-0.006176235",
         "0.28372997"
        ],
        [
         "25",
         "2.4999998",
         "-0.01785542",
         "0.008032885",
         "0.400351"
        ],
        [
         "26",
         "2.5999997",
         "-0.012708673",
         "0.010381365",
         "0.4775533"
        ],
        [
         "27",
         "2.6999996",
         "-0.021678224",
         "0.0002100505",
         "0.50812507"
        ],
        [
         "28",
         "2.7999995",
         "-0.044988774",
         "-0.021968823",
         "0.48905873"
        ],
        [
         "29",
         "2.8999994",
         "-0.08152737",
         "-0.054518837",
         "0.42182338"
        ],
        [
         "30",
         "2.9999993",
         "-0.12892634",
         "-0.094825916",
         "0.3122362"
        ],
        [
         "31",
         "3.0999992",
         "-0.18375778",
         "-0.13953042",
         "0.16994311"
        ],
        [
         "32",
         "3.199999",
         "-0.24182147",
         "-0.1848233",
         "0.007561162"
        ],
        [
         "33",
         "3.299999",
         "-0.29850122",
         "-0.22677943",
         "-0.16045086"
        ],
        [
         "34",
         "3.399999",
         "-0.34915763",
         "-0.26169795",
         "-0.31907982"
        ],
        [
         "35",
         "3.4999988",
         "-0.38952222",
         "-0.2864197",
         "-0.45410317"
        ],
        [
         "36",
         "3.5999987",
         "-0.4160583",
         "-0.2985934",
         "-0.5533564"
        ],
        [
         "37",
         "3.6999986",
         "-0.42625582",
         "-0.29686764",
         "-0.60782367"
        ],
        [
         "38",
         "3.7999985",
         "-0.4188349",
         "-0.28099227",
         "-0.6124424"
        ],
        [
         "39",
         "3.8999984",
         "-0.39383918",
         "-0.25182122",
         "-0.5665588"
        ],
        [
         "40",
         "3.9999983",
         "-0.3526117",
         "-0.21121733",
         "-0.4739884"
        ],
        [
         "41",
         "4.0999985",
         "-0.297655",
         "-0.16186897",
         "-0.34267733"
        ],
        [
         "42",
         "4.1999984",
         "-0.23238885",
         "-0.10703555",
         "-0.18399695"
        ],
        [
         "43",
         "4.2999983",
         "-0.16082703",
         "-0.050245397",
         "-0.011731429"
        ],
        [
         "44",
         "4.399998",
         "-0.08720252",
         "0.0050264",
         "0.1591516"
        ],
        [
         "45",
         "4.499998",
         "-0.015575118",
         "0.055671293",
         "0.3138307"
        ],
        [
         "46",
         "4.599998",
         "0.050543554",
         "0.099223584",
         "0.43895197"
        ],
        [
         "47",
         "4.699998",
         "0.10851331",
         "0.13407548",
         "0.5238179"
        ],
        [
         "48",
         "4.799998",
         "0.15680805",
         "0.15961212",
         "0.561337"
        ],
        [
         "49",
         "4.8999977",
         "0.19515568",
         "0.17625499",
         "0.54865193"
        ]
       ],
       "shape": {
        "columns": 4,
        "rows": 151
       }
      },
      "text/html": [
       "<div>\n",
       "<style scoped>\n",
       "    .dataframe tbody tr th:only-of-type {\n",
       "        vertical-align: middle;\n",
       "    }\n",
       "\n",
       "    .dataframe tbody tr th {\n",
       "        vertical-align: top;\n",
       "    }\n",
       "\n",
       "    .dataframe thead th {\n",
       "        text-align: right;\n",
       "    }\n",
       "</style>\n",
       "<table border=\"1\" class=\"dataframe\">\n",
       "  <thead>\n",
       "    <tr style=\"text-align: right;\">\n",
       "      <th></th>\n",
       "      <th>timestamp</th>\n",
       "      <th>euler</th>\n",
       "      <th>rk4</th>\n",
       "      <th>analytical</th>\n",
       "    </tr>\n",
       "  </thead>\n",
       "  <tbody>\n",
       "    <tr>\n",
       "      <th>0</th>\n",
       "      <td>0.000000</td>\n",
       "      <td>0.000000</td>\n",
       "      <td>0.000000</td>\n",
       "      <td>0.000000</td>\n",
       "    </tr>\n",
       "    <tr>\n",
       "      <th>1</th>\n",
       "      <td>0.100000</td>\n",
       "      <td>0.050000</td>\n",
       "      <td>0.049089</td>\n",
       "      <td>0.062500</td>\n",
       "    </tr>\n",
       "    <tr>\n",
       "      <th>2</th>\n",
       "      <td>0.200000</td>\n",
       "      <td>0.097754</td>\n",
       "      <td>0.093550</td>\n",
       "      <td>0.228418</td>\n",
       "    </tr>\n",
       "    <tr>\n",
       "      <th>3</th>\n",
       "      <td>0.300000</td>\n",
       "      <td>0.138947</td>\n",
       "      <td>0.129423</td>\n",
       "      <td>0.378866</td>\n",
       "    </tr>\n",
       "    <tr>\n",
       "      <th>4</th>\n",
       "      <td>0.400000</td>\n",
       "      <td>0.169795</td>\n",
       "      <td>0.153502</td>\n",
       "      <td>0.500330</td>\n",
       "    </tr>\n",
       "    <tr>\n",
       "      <th>...</th>\n",
       "      <td>...</td>\n",
       "      <td>...</td>\n",
       "      <td>...</td>\n",
       "      <td>...</td>\n",
       "    </tr>\n",
       "    <tr>\n",
       "      <th>146</th>\n",
       "      <td>14.600019</td>\n",
       "      <td>71.665670</td>\n",
       "      <td>18.712350</td>\n",
       "      <td>-0.283052</td>\n",
       "    </tr>\n",
       "    <tr>\n",
       "      <th>147</th>\n",
       "      <td>14.700020</td>\n",
       "      <td>71.866000</td>\n",
       "      <td>20.293740</td>\n",
       "      <td>-0.129850</td>\n",
       "    </tr>\n",
       "    <tr>\n",
       "      <th>148</th>\n",
       "      <td>14.800020</td>\n",
       "      <td>71.340620</td>\n",
       "      <td>21.867410</td>\n",
       "      <td>0.032738</td>\n",
       "    </tr>\n",
       "    <tr>\n",
       "      <th>149</th>\n",
       "      <td>14.900021</td>\n",
       "      <td>70.013430</td>\n",
       "      <td>23.421366</td>\n",
       "      <td>0.189756</td>\n",
       "    </tr>\n",
       "    <tr>\n",
       "      <th>150</th>\n",
       "      <td>15.000021</td>\n",
       "      <td>67.809200</td>\n",
       "      <td>24.943348</td>\n",
       "      <td>0.326771</td>\n",
       "    </tr>\n",
       "  </tbody>\n",
       "</table>\n",
       "<p>151 rows × 4 columns</p>\n",
       "</div>"
      ],
      "text/plain": [
       "     timestamp      euler        rk4  analytical\n",
       "0     0.000000   0.000000   0.000000    0.000000\n",
       "1     0.100000   0.050000   0.049089    0.062500\n",
       "2     0.200000   0.097754   0.093550    0.228418\n",
       "3     0.300000   0.138947   0.129423    0.378866\n",
       "4     0.400000   0.169795   0.153502    0.500330\n",
       "..         ...        ...        ...         ...\n",
       "146  14.600019  71.665670  18.712350   -0.283052\n",
       "147  14.700020  71.866000  20.293740   -0.129850\n",
       "148  14.800020  71.340620  21.867410    0.032738\n",
       "149  14.900021  70.013430  23.421366    0.189756\n",
       "150  15.000021  67.809200  24.943348    0.326771\n",
       "\n",
       "[151 rows x 4 columns]"
      ]
     },
     "execution_count": 10,
     "metadata": {},
     "output_type": "execute_result"
    }
   ],
   "source": [
    "acc_df = pd.read_csv(\n",
    "    HERE / 'result' / 'acceleration.csv'\n",
    ")\n",
    "acc_df"
   ]
  },
  {
   "cell_type": "code",
   "execution_count": 11,
   "id": "a8b24c68",
   "metadata": {},
   "outputs": [
    {
     "data": {
      "image/png": "[encoded data removed]",
      "text/plain": [
       "<Figure size 640x480 with 1 Axes>"
      ]
     },
     "metadata": {},
     "output_type": "display_data"
    }
   ],
   "source": [
    "plot_data(acc_df).show()"
   ]
  },
  {
   "cell_type": "markdown",
   "id": "848170c9",
   "metadata": {},
   "source": [
    "### $v(t)$ (velocity: 1st integral)"
   ]
  },
  {
   "cell_type": "code",
   "execution_count": 12,
   "id": "1d2ee33d",
   "metadata": {},
   "outputs": [
    {
     "data": {
      "application/vnd.microsoft.datawrangler.viewer.v0+json": {
       "columns": [
        {
         "name": "index",
         "rawType": "int64",
         "type": "integer"
        },
        {
         "name": "timestamp",
         "rawType": "float64",
         "type": "float"
        },
        {
         "name": "euler",
         "rawType": "float64",
         "type": "float"
        },
        {
         "name": "rk4",
         "rawType": "float64",
         "type": "float"
        },
        {
         "name": "analytical",
         "rawType": "float64",
         "type": "float"
        }
       ],
       "ref": "9d01e29f-ba61-4315-b07b-e4252c4da352",
       "rows": [
        [
         "0",
         "0.0",
         "0.0",
         "0.0",
         "0.0"
        ],
        [
         "1",
         "0.1",
         "0.05",
         "0.04908856",
         "0.0625"
        ],
        [
         "2",
         "0.2",
         "0.09775433",
         "0.09355019",
         "0.22841789"
        ],
        [
         "3",
         "0.3",
         "0.13894668",
         "0.12942329",
         "0.37886557"
        ],
        [
         "4",
         "0.4",
         "0.1697947",
         "0.15350242",
         "0.5003299"
        ],
        [
         "5",
         "0.5",
         "0.18738568",
         "0.16361691",
         "0.58183825"
        ],
        [
         "6",
         "0.6",
         "0.18993475",
         "0.15881446",
         "0.61593986"
        ],
        [
         "7",
         "0.70000005",
         "0.17694232",
         "0.13943462",
         "0.59937274"
        ],
        [
         "8",
         "0.8000001",
         "0.14923713",
         "0.1070665",
         "0.53335786"
        ],
        [
         "9",
         "0.9000001",
         "0.10890072",
         "0.064395875",
         "0.4234922"
        ],
        [
         "10",
         "1.0000001",
         "0.059080478",
         "0.014956258",
         "0.27925164"
        ],
        [
         "11",
         "1.1000001",
         "0.0037077814",
         "-0.03719286",
         "0.11314863"
        ],
        [
         "12",
         "1.2000002",
         "-0.0528534",
         "-0.08783111",
         "-0.06038244"
        ],
        [
         "13",
         "1.3000002",
         "-0.10619606",
         "-0.13295285",
         "-0.2262706"
        ],
        [
         "14",
         "1.4000002",
         "-0.1522629",
         "-0.16911954",
         "-0.37015003"
        ],
        [
         "15",
         "1.5000002",
         "-0.18770726",
         "-0.19375773",
         "-0.47963864"
        ],
        [
         "16",
         "1.6000003",
         "-0.21018988",
         "-0.20537671",
         "-0.5454397"
        ],
        [
         "17",
         "1.7000003",
         "-0.2185848",
         "-0.20368707",
         "-0.5621675"
        ],
        [
         "18",
         "1.8000003",
         "-0.21307617",
         "-0.18961051",
         "-0.5288234"
        ],
        [
         "19",
         "1.9000003",
         "-0.19513705",
         "-0.16518128",
         "-0.4488798"
        ],
        [
         "20",
         "2.0000002",
         "-0.16739225",
         "-0.13334878",
         "-0.3299659"
        ],
        [
         "21",
         "2.1000001",
         "-0.1333772",
         "-0.097700074",
         "-0.1831799"
        ],
        [
         "22",
         "2.2",
         "-0.09721452",
         "-0.062127694",
         "-0.022094963"
        ],
        [
         "23",
         "2.3",
         "-0.0632371",
         "-0.030472867",
         "0.1384609"
        ],
        [
         "24",
         "2.3999999",
         "-0.03559123",
         "-0.006176235",
         "0.28372997"
        ],
        [
         "25",
         "2.4999998",
         "-0.01785542",
         "0.008032885",
         "0.400351"
        ],
        [
         "26",
         "2.5999997",
         "-0.012708673",
         "0.010381365",
         "0.4775533"
        ],
        [
         "27",
         "2.6999996",
         "-0.021678224",
         "0.0002100505",
         "0.50812507"
        ],
        [
         "28",
         "2.7999995",
         "-0.044988774",
         "-0.021968823",
         "0.48905873"
        ],
        [
         "29",
         "2.8999994",
         "-0.08152737",
         "-0.054518837",
         "0.42182338"
        ],
        [
         "30",
         "2.9999993",
         "-0.12892634",
         "-0.094825916",
         "0.3122362"
        ],
        [
         "31",
         "3.0999992",
         "-0.18375778",
         "-0.13953042",
         "0.16994311"
        ],
        [
         "32",
         "3.199999",
         "-0.24182147",
         "-0.1848233",
         "0.007561162"
        ],
        [
         "33",
         "3.299999",
         "-0.29850122",
         "-0.22677943",
         "-0.16045086"
        ],
        [
         "34",
         "3.399999",
         "-0.34915763",
         "-0.26169795",
         "-0.31907982"
        ],
        [
         "35",
         "3.4999988",
         "-0.38952222",
         "-0.2864197",
         "-0.45410317"
        ],
        [
         "36",
         "3.5999987",
         "-0.4160583",
         "-0.2985934",
         "-0.5533564"
        ],
        [
         "37",
         "3.6999986",
         "-0.42625582",
         "-0.29686764",
         "-0.60782367"
        ],
        [
         "38",
         "3.7999985",
         "-0.4188349",
         "-0.28099227",
         "-0.6124424"
        ],
        [
         "39",
         "3.8999984",
         "-0.39383918",
         "-0.25182122",
         "-0.5665588"
        ],
        [
         "40",
         "3.9999983",
         "-0.3526117",
         "-0.21121733",
         "-0.4739884"
        ],
        [
         "41",
         "4.0999985",
         "-0.297655",
         "-0.16186897",
         "-0.34267733"
        ],
        [
         "42",
         "4.1999984",
         "-0.23238885",
         "-0.10703555",
         "-0.18399695"
        ],
        [
         "43",
         "4.2999983",
         "-0.16082703",
         "-0.050245397",
         "-0.011731429"
        ],
        [
         "44",
         "4.399998",
         "-0.08720252",
         "0.0050264",
         "0.1591516"
        ],
        [
         "45",
         "4.499998",
         "-0.015575118",
         "0.055671293",
         "0.3138307"
        ],
        [
         "46",
         "4.599998",
         "0.050543554",
         "0.099223584",
         "0.43895197"
        ],
        [
         "47",
         "4.699998",
         "0.10851331",
         "0.13407548",
         "0.5238179"
        ],
        [
         "48",
         "4.799998",
         "0.15680805",
         "0.15961212",
         "0.561337"
        ],
        [
         "49",
         "4.8999977",
         "0.19515568",
         "0.17625499",
         "0.54865193"
        ]
       ],
       "shape": {
        "columns": 4,
        "rows": 151
       }
      },
      "text/html": [
       "<div>\n",
       "<style scoped>\n",
       "    .dataframe tbody tr th:only-of-type {\n",
       "        vertical-align: middle;\n",
       "    }\n",
       "\n",
       "    .dataframe tbody tr th {\n",
       "        vertical-align: top;\n",
       "    }\n",
       "\n",
       "    .dataframe thead th {\n",
       "        text-align: right;\n",
       "    }\n",
       "</style>\n",
       "<table border=\"1\" class=\"dataframe\">\n",
       "  <thead>\n",
       "    <tr style=\"text-align: right;\">\n",
       "      <th></th>\n",
       "      <th>timestamp</th>\n",
       "      <th>euler</th>\n",
       "      <th>rk4</th>\n",
       "      <th>analytical</th>\n",
       "    </tr>\n",
       "  </thead>\n",
       "  <tbody>\n",
       "    <tr>\n",
       "      <th>0</th>\n",
       "      <td>0.000000</td>\n",
       "      <td>0.000000</td>\n",
       "      <td>0.000000</td>\n",
       "      <td>0.000000</td>\n",
       "    </tr>\n",
       "    <tr>\n",
       "      <th>1</th>\n",
       "      <td>0.100000</td>\n",
       "      <td>0.050000</td>\n",
       "      <td>0.049089</td>\n",
       "      <td>0.062500</td>\n",
       "    </tr>\n",
       "    <tr>\n",
       "      <th>2</th>\n",
       "      <td>0.200000</td>\n",
       "      <td>0.097754</td>\n",
       "      <td>0.093550</td>\n",
       "      <td>0.228418</td>\n",
       "    </tr>\n",
       "    <tr>\n",
       "      <th>3</th>\n",
       "      <td>0.300000</td>\n",
       "      <td>0.138947</td>\n",
       "      <td>0.129423</td>\n",
       "      <td>0.378866</td>\n",
       "    </tr>\n",
       "    <tr>\n",
       "      <th>4</th>\n",
       "      <td>0.400000</td>\n",
       "      <td>0.169795</td>\n",
       "      <td>0.153502</td>\n",
       "      <td>0.500330</td>\n",
       "    </tr>\n",
       "    <tr>\n",
       "      <th>...</th>\n",
       "      <td>...</td>\n",
       "      <td>...</td>\n",
       "      <td>...</td>\n",
       "      <td>...</td>\n",
       "    </tr>\n",
       "    <tr>\n",
       "      <th>146</th>\n",
       "      <td>14.600019</td>\n",
       "      <td>71.665670</td>\n",
       "      <td>18.712350</td>\n",
       "      <td>-0.283052</td>\n",
       "    </tr>\n",
       "    <tr>\n",
       "      <th>147</th>\n",
       "      <td>14.700020</td>\n",
       "      <td>71.866000</td>\n",
       "      <td>20.293740</td>\n",
       "      <td>-0.129850</td>\n",
       "    </tr>\n",
       "    <tr>\n",
       "      <th>148</th>\n",
       "      <td>14.800020</td>\n",
       "      <td>71.340620</td>\n",
       "      <td>21.867410</td>\n",
       "      <td>0.032738</td>\n",
       "    </tr>\n",
       "    <tr>\n",
       "      <th>149</th>\n",
       "      <td>14.900021</td>\n",
       "      <td>70.013430</td>\n",
       "      <td>23.421366</td>\n",
       "      <td>0.189756</td>\n",
       "    </tr>\n",
       "    <tr>\n",
       "      <th>150</th>\n",
       "      <td>15.000021</td>\n",
       "      <td>67.809200</td>\n",
       "      <td>24.943348</td>\n",
       "      <td>0.326771</td>\n",
       "    </tr>\n",
       "  </tbody>\n",
       "</table>\n",
       "<p>151 rows × 4 columns</p>\n",
       "</div>"
      ],
      "text/plain": [
       "     timestamp      euler        rk4  analytical\n",
       "0     0.000000   0.000000   0.000000    0.000000\n",
       "1     0.100000   0.050000   0.049089    0.062500\n",
       "2     0.200000   0.097754   0.093550    0.228418\n",
       "3     0.300000   0.138947   0.129423    0.378866\n",
       "4     0.400000   0.169795   0.153502    0.500330\n",
       "..         ...        ...        ...         ...\n",
       "146  14.600019  71.665670  18.712350   -0.283052\n",
       "147  14.700020  71.866000  20.293740   -0.129850\n",
       "148  14.800020  71.340620  21.867410    0.032738\n",
       "149  14.900021  70.013430  23.421366    0.189756\n",
       "150  15.000021  67.809200  24.943348    0.326771\n",
       "\n",
       "[151 rows x 4 columns]"
      ]
     },
     "execution_count": 12,
     "metadata": {},
     "output_type": "execute_result"
    }
   ],
   "source": [
    "vel_df = pd.read_csv(\n",
    "    HERE / \"result\" / \"velocity.csv\",\n",
    ")\n",
    "vel_df"
   ]
  },
  {
   "cell_type": "code",
   "execution_count": 13,
   "id": "dc08497f",
   "metadata": {},
   "outputs": [
    {
     "data": {
      "text/plain": [
       "{'euler': np.float64(469.42445581384584),\n",
       " 'rk4': np.float64(30.116813024355995)}"
      ]
     },
     "execution_count": 13,
     "metadata": {},
     "output_type": "execute_result"
    }
   ],
   "source": [
    "rmse(vel_df)"
   ]
  },
  {
   "cell_type": "code",
   "execution_count": 14,
   "id": "ef61dfce",
   "metadata": {},
   "outputs": [
    {
     "data": {
      "image/png": "[encoded data removed]",
      "text/plain": [
       "<Figure size 640x480 with 1 Axes>"
      ]
     },
     "metadata": {},
     "output_type": "display_data"
    }
   ],
   "source": [
    "plot_data(vel_df).show()"
   ]
  },
  {
   "cell_type": "markdown",
   "id": "4ef9476b",
   "metadata": {},
   "source": [
    "### $x(t)$ (position: 2nd integral)"
   ]
  },
  {
   "cell_type": "code",
   "execution_count": 15,
   "id": "12526e3f",
   "metadata": {},
   "outputs": [
    {
     "data": {
      "application/vnd.microsoft.datawrangler.viewer.v0+json": {
       "columns": [
        {
         "name": "index",
         "rawType": "int64",
         "type": "integer"
        },
        {
         "name": "timestamp",
         "rawType": "float64",
         "type": "float"
        },
        {
         "name": "euler",
         "rawType": "float64",
         "type": "float"
        },
        {
         "name": "rk4",
         "rawType": "float64",
         "type": "float"
        },
        {
         "name": "analytical",
         "rawType": "float64",
         "type": "float"
        }
       ],
       "ref": "afe48cdf-3012-4356-9764-a88bee2719f5",
       "rows": [
        [
         "0",
         "0.0",
         "0.0",
         "0.0",
         "0.0"
        ],
        [
         "1",
         "0.1",
         "0.000125",
         "0.00012272141",
         "-0.125"
        ],
        [
         "2",
         "0.2",
         "0.0007443859",
         "0.0007247611",
         "-0.1218963"
        ],
        [
         "3",
         "0.3",
         "0.0023249101",
         "0.0022408315",
         "-0.11283764"
        ],
        [
         "4",
         "0.4",
         "0.0052690404",
         "0.00502165",
         "-0.098559156"
        ],
        [
         "5",
         "0.5",
         "0.009877975",
         "0.009302581",
         "-0.080213666"
        ],
        [
         "6",
         "0.6",
         "0.016323162",
         "0.015182389",
         "-0.059269983"
        ],
        [
         "7",
         "0.70000005",
         "0.024628842",
         "0.022613898",
         "-0.03738334"
        ],
        [
         "8",
         "0.8000001",
         "0.034667164",
         "0.03140728",
         "-0.016249746"
        ],
        [
         "9",
         "0.9000001",
         "0.04616628",
         "0.041245576",
         "0.0025429465"
        ],
        [
         "10",
         "1.0000001",
         "0.05873069",
         "0.051710907",
         "0.017653901"
        ],
        [
         "11",
         "1.1000001",
         "0.071872026",
         "0.062319025",
         "0.028105646"
        ],
        [
         "12",
         "1.2000002",
         "0.08504747",
         "0.07255899",
         "0.03336773"
        ],
        [
         "13",
         "1.3000002",
         "0.09770242",
         "0.08193444",
         "0.033400044"
        ],
        [
         "14",
         "1.4000002",
         "0.10931361",
         "0.090002745",
         "0.028652078"
        ],
        [
         "15",
         "1.5000002",
         "0.11942872",
         "0.09640868",
         "0.020018326"
        ],
        [
         "16",
         "1.6000003",
         "0.12769917",
         "0.10090958",
         "0.008753618"
        ],
        [
         "17",
         "1.7000003",
         "0.13390292",
         "0.10338999",
         "-0.0036437414"
        ],
        [
         "18",
         "1.8000003",
         "0.13795559",
         "0.1038645",
         "-0.015570859"
        ],
        [
         "19",
         "1.9000003",
         "0.13990858",
         "0.10246878",
         "-0.025468204"
        ],
        [
         "20",
         "2.0000002",
         "0.13993472",
         "0.099439755",
         "-0.03196396"
        ],
        [
         "21",
         "2.1000001",
         "0.13830261",
         "0.09508678",
         "-0.03400147"
        ],
        [
         "22",
         "2.2",
         "0.13534209",
         "0.08975662",
         "-0.030938275"
        ],
        [
         "23",
         "2.3",
         "0.13140397",
         "0.08379539",
         "-0.022608206"
        ],
        [
         "24",
         "2.3999999",
         "0.12681764",
         "0.077511035",
         "-0.009340584"
        ],
        [
         "25",
         "2.4999998",
         "0.12185063",
         "0.07113969",
         "0.008065134"
        ],
        [
         "26",
         "2.5999997",
         "0.11667359",
         "0.06481903",
         "0.028406704"
        ],
        [
         "27",
         "2.6999996",
         "0.11133417",
         "0.058570884",
         "0.050183274"
        ],
        [
         "28",
         "2.7999995",
         "0.10574211",
         "0.052294817",
         "0.07172592"
        ],
        [
         "29",
         "2.8999994",
         "0.0996671",
         "0.045773134",
         "0.09134436"
        ],
        [
         "30",
         "2.9999993",
         "0.09274967",
         "0.03868687",
         "0.107475206"
        ],
        [
         "31",
         "3.0999992",
         "0.08452439",
         "0.030641355",
         "0.118820116"
        ],
        [
         "32",
         "3.199999",
         "0.07445346",
         "0.021199062",
         "0.12446001"
        ],
        [
         "33",
         "3.299999",
         "0.061967764",
         "0.009916879",
         "0.123936445"
        ],
        [
         "34",
         "3.399999",
         "0.046512116",
         "-0.003615505",
         "0.11729203"
        ],
        [
         "35",
         "3.4999988",
         "0.027590623",
         "-0.019739378",
         "0.10506664"
        ],
        [
         "36",
         "3.5999987",
         "0.004808478",
         "-0.038696077",
         "0.08824983"
        ],
        [
         "37",
         "3.6999986",
         "-0.022093406",
         "-0.06060396",
         "0.06819328"
        ],
        [
         "38",
         "3.7999985",
         "-0.0532138",
         "-0.08544515",
         "0.04649182"
        ],
        [
         "39",
         "3.8999984",
         "-0.08847861",
         "-0.11306302",
         "0.0248426"
        ],
        [
         "40",
         "3.9999983",
         "-0.12764123",
         "-0.14317052",
         "0.004896302"
        ],
        [
         "41",
         "4.0999985",
         "-0.17029564",
         "-0.17536834",
         "-0.011887908"
        ],
        [
         "42",
         "4.1999984",
         "-0.21590084",
         "-0.20917113",
         "-0.02436914"
        ],
        [
         "43",
         "4.2999983",
         "-0.26381418",
         "-0.24403939",
         "-0.031823285"
        ],
        [
         "44",
         "4.399998",
         "-0.31333062",
         "-0.27941388",
         "-0.03400381"
        ],
        [
         "45",
         "4.499998",
         "-0.36372408",
         "-0.3147497",
         "-0.031159516"
        ],
        [
         "46",
         "4.599998",
         "-0.41428706",
         "-0.34954652",
         "-0.024007976"
        ],
        [
         "47",
         "4.699998",
         "-0.46436498",
         "-0.38337287",
         "-0.013666656"
        ],
        [
         "48",
         "4.799998",
         "-0.51338196",
         "-0.41588175",
         "-0.0015483694"
        ],
        [
         "49",
         "4.8999977",
         "-0.56085575",
         "-0.44681674",
         "0.010769667"
        ]
       ],
       "shape": {
        "columns": 4,
        "rows": 151
       }
      },
      "text/html": [
       "<div>\n",
       "<style scoped>\n",
       "    .dataframe tbody tr th:only-of-type {\n",
       "        vertical-align: middle;\n",
       "    }\n",
       "\n",
       "    .dataframe tbody tr th {\n",
       "        vertical-align: top;\n",
       "    }\n",
       "\n",
       "    .dataframe thead th {\n",
       "        text-align: right;\n",
       "    }\n",
       "</style>\n",
       "<table border=\"1\" class=\"dataframe\">\n",
       "  <thead>\n",
       "    <tr style=\"text-align: right;\">\n",
       "      <th></th>\n",
       "      <th>timestamp</th>\n",
       "      <th>euler</th>\n",
       "      <th>rk4</th>\n",
       "      <th>analytical</th>\n",
       "    </tr>\n",
       "  </thead>\n",
       "  <tbody>\n",
       "    <tr>\n",
       "      <th>0</th>\n",
       "      <td>0.000000</td>\n",
       "      <td>0.000000</td>\n",
       "      <td>0.000000</td>\n",
       "      <td>0.000000</td>\n",
       "    </tr>\n",
       "    <tr>\n",
       "      <th>1</th>\n",
       "      <td>0.100000</td>\n",
       "      <td>0.000125</td>\n",
       "      <td>0.000123</td>\n",
       "      <td>-0.125000</td>\n",
       "    </tr>\n",
       "    <tr>\n",
       "      <th>2</th>\n",
       "      <td>0.200000</td>\n",
       "      <td>0.000744</td>\n",
       "      <td>0.000725</td>\n",
       "      <td>-0.121896</td>\n",
       "    </tr>\n",
       "    <tr>\n",
       "      <th>3</th>\n",
       "      <td>0.300000</td>\n",
       "      <td>0.002325</td>\n",
       "      <td>0.002241</td>\n",
       "      <td>-0.112838</td>\n",
       "    </tr>\n",
       "    <tr>\n",
       "      <th>4</th>\n",
       "      <td>0.400000</td>\n",
       "      <td>0.005269</td>\n",
       "      <td>0.005022</td>\n",
       "      <td>-0.098559</td>\n",
       "    </tr>\n",
       "    <tr>\n",
       "      <th>...</th>\n",
       "      <td>...</td>\n",
       "      <td>...</td>\n",
       "      <td>...</td>\n",
       "      <td>...</td>\n",
       "    </tr>\n",
       "    <tr>\n",
       "      <th>146</th>\n",
       "      <td>14.600019</td>\n",
       "      <td>-1.511548</td>\n",
       "      <td>-31.543621</td>\n",
       "      <td>-0.033189</td>\n",
       "    </tr>\n",
       "    <tr>\n",
       "      <th>147</th>\n",
       "      <td>14.700020</td>\n",
       "      <td>5.750256</td>\n",
       "      <td>-31.595848</td>\n",
       "      <td>-0.033559</td>\n",
       "    </tr>\n",
       "    <tr>\n",
       "      <th>148</th>\n",
       "      <td>14.800020</td>\n",
       "      <td>13.728906</td>\n",
       "      <td>-31.445158</td>\n",
       "      <td>-0.028717</td>\n",
       "    </tr>\n",
       "    <tr>\n",
       "      <th>149</th>\n",
       "      <td>14.900021</td>\n",
       "      <td>22.418957</td>\n",
       "      <td>-31.075842</td>\n",
       "      <td>-0.018664</td>\n",
       "    </tr>\n",
       "    <tr>\n",
       "      <th>150</th>\n",
       "      <td>15.000021</td>\n",
       "      <td>31.806950</td>\n",
       "      <td>-30.472393</td>\n",
       "      <td>-0.003893</td>\n",
       "    </tr>\n",
       "  </tbody>\n",
       "</table>\n",
       "<p>151 rows × 4 columns</p>\n",
       "</div>"
      ],
      "text/plain": [
       "     timestamp      euler        rk4  analytical\n",
       "0     0.000000   0.000000   0.000000    0.000000\n",
       "1     0.100000   0.000125   0.000123   -0.125000\n",
       "2     0.200000   0.000744   0.000725   -0.121896\n",
       "3     0.300000   0.002325   0.002241   -0.112838\n",
       "4     0.400000   0.005269   0.005022   -0.098559\n",
       "..         ...        ...        ...         ...\n",
       "146  14.600019  -1.511548 -31.543621   -0.033189\n",
       "147  14.700020   5.750256 -31.595848   -0.033559\n",
       "148  14.800020  13.728906 -31.445158   -0.028717\n",
       "149  14.900021  22.418957 -31.075842   -0.018664\n",
       "150  15.000021  31.806950 -30.472393   -0.003893\n",
       "\n",
       "[151 rows x 4 columns]"
      ]
     },
     "execution_count": 15,
     "metadata": {},
     "output_type": "execute_result"
    }
   ],
   "source": [
    "pos_df = pd.read_csv(\n",
    "    HERE / \"result\" / \"position.csv\",\n",
    ")\n",
    "pos_df"
   ]
  },
  {
   "cell_type": "code",
   "execution_count": 16,
   "id": "d8e36119",
   "metadata": {},
   "outputs": [
    {
     "data": {
      "image/png": "[encoded data removed]",
      "text/plain": [
       "<Figure size 640x480 with 1 Axes>"
      ]
     },
     "metadata": {},
     "output_type": "display_data"
    }
   ],
   "source": [
    "plot_data(pos_df).show()"
   ]
  },
  {
   "cell_type": "markdown",
   "id": "31b60b53",
   "metadata": {},
   "source": [
    "## Changing timestep"
   ]
  },
  {
   "cell_type": "code",
   "execution_count": null,
   "id": "364cb69b",
   "metadata": {},
   "outputs": [],
   "source": [
    "def plot_err(df) -> plt:\n",
    "    plt.plot(\n",
    "        df[\"timestep\"], df[\"euler\"],\n",
    "        label=\"euler\",\n",
    "        color=\"blue\",\n",
    "        linestyle=\"--\"\n",
    "    )\n",
    "    plt.plot(\n",
    "        df[\"timestep\"], df[\"rk4\"],\n",
    "        label=\"Runge-Kutta\",\n",
    "        color=\"magenta\",\n",
    "        linestyle=\":\"\n",
    "    )\n",
    "    plt.xscale(\"log\")\n",
    "    plt.legend()\n",
    "    return plt"
   ]
  },
  {
   "cell_type": "code",
   "execution_count": null,
   "id": "adb88904",
   "metadata": {},
   "outputs": [
    {
     "name": "stdout",
     "output_type": "stream",
     "text": [
      "\u001b[1m\u001b[32m    Finished\u001b[0m `dev` profile [unoptimized + debuginfo] target(s) in 0.02s\n",
      "\u001b[1m\u001b[32m     Running\u001b[0m `target/debug/solver`\n",
      "Solver { time_end: 3.0, time_step: 0.1, f_0: 0.0, mass: 10.0, viscosity: 10.0, gravity: 9.8 }\n",
      "\n",
      "=== Final Values f(3) ===\n",
      "Analytical solution: 9.312087\n",
      "Euler method:        9.426110\n",
      "Trapezoidal method:  9.356053\n",
      "Runge-Kutta method:  9.358518\n",
      "\n",
      "=== Integrals ∫f(t)dt from 0 to 3 ===\n",
      "Analytical integral:           20.087908\n",
      "Euler ODE + Trap integration:  21.425200\n",
      "Trap ODE + Trap integration:   20.999329\n",
      "RK4 ODE + Trap integration:    21.013680\n",
      "\n",
      "\u001b[1m\u001b[32m    Finished\u001b[0m `dev` profile [unoptimized + debuginfo] target(s) in 0.01s\n",
      "\u001b[1m\u001b[32m     Running\u001b[0m `target/debug/solver`\n",
      "Solver { time_end: 3.0, time_step: 0.01, f_0: 0.0, mass: 10.0, viscosity: 10.0, gravity: 9.8 }\n",
      "\n",
      "=== Final Values f(3) ===\n",
      "Analytical solution: 9.312087\n",
      "Euler method:        9.324203\n",
      "Trapezoidal method:  9.316922\n",
      "Runge-Kutta method:  9.316941\n",
      "\n",
      "=== Integrals ∫f(t)dt from 0 to 3 ===\n",
      "Analytical integral:           20.087891\n",
      "Euler ODE + Trap integration:  20.220411\n",
      "Trap ODE + Trap integration:   20.180851\n",
      "RK4 ODE + Trap integration:    20.180964\n",
      "\n",
      "\u001b[1m\u001b[32m    Finished\u001b[0m `dev` profile [unoptimized + debuginfo] target(s) in 0.01s\n",
      "\u001b[1m\u001b[32m     Running\u001b[0m `target/debug/solver`\n",
      "Solver { time_end: 3.0, time_step: 0.001, f_0: 0.0, mass: 10.0, viscosity: 10.0, gravity: 9.8 }\n",
      "\n",
      "=== Final Values f(3) ===\n",
      "Analytical solution: 9.312087\n",
      "Euler method:        9.313318\n",
      "Trapezoidal method:  9.312575\n",
      "Runge-Kutta method:  9.312576\n",
      "\n",
      "=== Integrals ∫f(t)dt from 0 to 3 ===\n",
      "Analytical integral:           20.087585\n",
      "Euler ODE + Trap integration:  20.101173\n",
      "Trap ODE + Trap integration:   20.097235\n",
      "RK4 ODE + Trap integration:    20.097237\n",
      "\n",
      "\u001b[1m\u001b[32m    Finished\u001b[0m `dev` profile [unoptimized + debuginfo] target(s) in 0.01s\n",
      "\u001b[1m\u001b[32m     Running\u001b[0m `target/debug/solver`\n",
      "Solver { time_end: 3.0, time_step: 0.0001, f_0: 0.0, mass: 10.0, viscosity: 10.0, gravity: 9.8 }\n",
      "\n",
      "=== Final Values f(3) ===\n",
      "Analytical solution: 9.312087\n",
      "Euler method:        9.312589\n",
      "Trapezoidal method:  9.312511\n",
      "Runge-Kutta method:  9.312511\n",
      "\n",
      "=== Integrals ∫f(t)dt from 0 to 3 ===\n",
      "Analytical integral:           20.087841\n",
      "Euler ODE + Trap integration:  20.096680\n",
      "Trap ODE + Trap integration:   20.096275\n",
      "RK4 ODE + Trap integration:    20.096275\n",
      "\n",
      "\u001b[1m\u001b[32m    Finished\u001b[0m `dev` profile [unoptimized + debuginfo] target(s) in 0.01s\n",
      "\u001b[1m\u001b[32m     Running\u001b[0m `target/debug/solver`\n",
      "Solver { time_end: 3.0, time_step: 1e-5, f_0: 0.0, mass: 10.0, viscosity: 10.0, gravity: 9.8 }\n",
      "\n",
      "=== Final Values f(3) ===\n",
      "Analytical solution: 9.312087\n",
      "Euler method:        9.308957\n",
      "Trapezoidal method:  9.308949\n",
      "Runge-Kutta method:  9.308949\n",
      "\n",
      "=== Integrals ∫f(t)dt from 0 to 3 ===\n",
      "Analytical integral:           20.087831\n",
      "Euler ODE + Trap integration:  20.056974\n",
      "Trap ODE + Trap integration:   20.056927\n",
      "RK4 ODE + Trap integration:    20.056927\n",
      "\n"
     ]
    }
   ],
   "source": [
    "acc_error = {\n",
    "    \"timestep\": [],\n",
    "    \"euler\": [],\n",
    "    \"rk4\": [],\n",
    "}\n",
    "vel_error = copy.deepcopy(acc_error)\n",
    "pos_error = copy.deepcopy(acc_error)\n",
    "\n",
    "for i in range(1, 6):\n",
    "    timestep = 0.1 ** i\n",
    "    new_config = {\n",
    "        'time_end'         : 5,\n",
    "        'time_step'        : timestep,\n",
    "        'init_acceleration': 0.0,\n",
    "        'init_velocity'    : 0.0,\n",
    "        'init_position'    : 0.0,\n",
    "        'acc_fname'        : 'acceleration.csv',\n",
    "        'vel_fname'        : 'velocity.csv',\n",
    "        'pos_fname'        : 'position.csv',\n",
    "        'model_params': {\n",
    "            \"mass\"     : 10,\n",
    "            \"spring\"   : 10,\n",
    "            \"amplitude\": 5,\n",
    "            \"frequency\": 3,\n",
    "        }\n",
    "    }\n",
    "    with open(HERE / 'config' / 'settings.yaml', 'w') as f:\n",
    "        yaml.dump(new_config, f)\n",
    "\n",
    "    !cargo run\n",
    "\n",
    "    acc_df = pd.read_csv(HERE / 'result' / 'acceleration.csv')\n",
    "    vel_df = pd.read_csv(HERE / \"result\" / \"velocity.csv\")\n",
    "    vel_rmse = rmse(vel_df)\n",
    "    pos_df = pd.read_csv(HERE / \"result\" / \"pos.csv\")\n",
    "\n",
    "    for method in acc_error:\n",
    "        if method == \"timestep\":\n",
    "            acc_error[\"timestep\"].append(timestep)\n",
    "            vel_error[\"timestep\"].append(timestep)\n",
    "            pos_error[\"timestep\"].append(timestep)\n",
    "            continue\n",
    "        vel_error[method].append(\n",
    "            vel_rmse[method]\n",
    "        )\n",
    "        pos_error[method].append(\n",
    "            pos_df.iloc[-1, -1]\n",
    "            - pos_df.iloc[-1, :][method]\n",
    "        )"
   ]
  },
  {
   "cell_type": "code",
   "execution_count": 16,
   "id": "40bbb2dc",
   "metadata": {},
   "outputs": [
    {
     "data": {
      "application/vnd.microsoft.datawrangler.viewer.v0+json": {
       "columns": [
        {
         "name": "index",
         "rawType": "int64",
         "type": "integer"
        },
        {
         "name": "timestep",
         "rawType": "float64",
         "type": "float"
        },
        {
         "name": "euler",
         "rawType": "float64",
         "type": "float"
        },
        {
         "name": "trapezoid",
         "rawType": "float64",
         "type": "float"
        },
        {
         "name": "rk4",
         "rawType": "float64",
         "type": "float"
        }
       ],
       "ref": "17e369d8-b822-4186-8372-d6095f0b539f",
       "rows": [
        [
         "0",
         "0.1",
         "0.019049727979120076",
         "2.3071181451137667e-05",
         "6.320262499353307e-12"
        ],
        [
         "1",
         "0.010000000000000002",
         "0.00018795967019225138",
         "1.9851900665570075e-09",
         "2.7356407286456013e-12"
        ],
        [
         "2",
         "0.0010000000000000002",
         "1.8746421981076467e-06",
         "6.889929222591452e-10",
         "6.900936828912179e-10"
        ],
        [
         "3",
         "0.00010000000000000002",
         "4.9788135539445104e-08",
         "5.1500013570118725e-08",
         "5.150002745515704e-08"
        ],
        [
         "4",
         "1.0000000000000003e-05",
         "8.386753015488604e-06",
         "8.468479269178144e-06",
         "8.467654663256453e-06"
        ]
       ],
       "shape": {
        "columns": 4,
        "rows": 5
       }
      },
      "text/html": [
       "<div>\n",
       "<style scoped>\n",
       "    .dataframe tbody tr th:only-of-type {\n",
       "        vertical-align: middle;\n",
       "    }\n",
       "\n",
       "    .dataframe tbody tr th {\n",
       "        vertical-align: top;\n",
       "    }\n",
       "\n",
       "    .dataframe thead th {\n",
       "        text-align: right;\n",
       "    }\n",
       "</style>\n",
       "<table border=\"1\" class=\"dataframe\">\n",
       "  <thead>\n",
       "    <tr style=\"text-align: right;\">\n",
       "      <th></th>\n",
       "      <th>timestep</th>\n",
       "      <th>euler</th>\n",
       "      <th>trapezoid</th>\n",
       "      <th>rk4</th>\n",
       "    </tr>\n",
       "  </thead>\n",
       "  <tbody>\n",
       "    <tr>\n",
       "      <th>0</th>\n",
       "      <td>0.10000</td>\n",
       "      <td>1.904973e-02</td>\n",
       "      <td>2.307118e-05</td>\n",
       "      <td>6.320262e-12</td>\n",
       "    </tr>\n",
       "    <tr>\n",
       "      <th>1</th>\n",
       "      <td>0.01000</td>\n",
       "      <td>1.879597e-04</td>\n",
       "      <td>1.985190e-09</td>\n",
       "      <td>2.735641e-12</td>\n",
       "    </tr>\n",
       "    <tr>\n",
       "      <th>2</th>\n",
       "      <td>0.00100</td>\n",
       "      <td>1.874642e-06</td>\n",
       "      <td>6.889929e-10</td>\n",
       "      <td>6.900937e-10</td>\n",
       "    </tr>\n",
       "    <tr>\n",
       "      <th>3</th>\n",
       "      <td>0.00010</td>\n",
       "      <td>4.978814e-08</td>\n",
       "      <td>5.150001e-08</td>\n",
       "      <td>5.150003e-08</td>\n",
       "    </tr>\n",
       "    <tr>\n",
       "      <th>4</th>\n",
       "      <td>0.00001</td>\n",
       "      <td>8.386753e-06</td>\n",
       "      <td>8.468479e-06</td>\n",
       "      <td>8.467655e-06</td>\n",
       "    </tr>\n",
       "  </tbody>\n",
       "</table>\n",
       "</div>"
      ],
      "text/plain": [
       "   timestep         euler     trapezoid           rk4\n",
       "0   0.10000  1.904973e-02  2.307118e-05  6.320262e-12\n",
       "1   0.01000  1.879597e-04  1.985190e-09  2.735641e-12\n",
       "2   0.00100  1.874642e-06  6.889929e-10  6.900937e-10\n",
       "3   0.00010  4.978814e-08  5.150001e-08  5.150003e-08\n",
       "4   0.00001  8.386753e-06  8.468479e-06  8.467655e-06"
      ]
     },
     "execution_count": 16,
     "metadata": {},
     "output_type": "execute_result"
    }
   ],
   "source": [
    "ft_err_df = pd.DataFrame(ft_error)\n",
    "ft_err_df"
   ]
  },
  {
   "cell_type": "code",
   "execution_count": 17,
   "id": "5e7e694b",
   "metadata": {},
   "outputs": [
    {
     "data": {
      "image/png": "[encoded data removed]",
      "text/plain": [
       "<Figure size 640x480 with 1 Axes>"
      ]
     },
     "metadata": {},
     "output_type": "display_data"
    }
   ],
   "source": [
    "plot_err(ft_err_df).show()"
   ]
  },
  {
   "cell_type": "code",
   "execution_count": 18,
   "id": "9996feb1",
   "metadata": {},
   "outputs": [
    {
     "data": {
      "application/vnd.microsoft.datawrangler.viewer.v0+json": {
       "columns": [
        {
         "name": "index",
         "rawType": "int64",
         "type": "integer"
        },
        {
         "name": "timestep",
         "rawType": "float64",
         "type": "float"
        },
        {
         "name": "euler",
         "rawType": "float64",
         "type": "float"
        },
        {
         "name": "trapezoid",
         "rawType": "float64",
         "type": "float"
        },
        {
         "name": "rk4",
         "rawType": "float64",
         "type": "float"
        }
       ],
       "ref": "41c4ecec-3c86-4357-9fdf-806b0fb61db4",
       "rows": [
        [
         "0",
         "0.1",
         "-1.3372920000000015",
         "-0.9114210000000007",
         "-0.925772000000002"
        ],
        [
         "1",
         "0.010000000000000002",
         "-0.132520999999997",
         "-0.09296099999999896",
         "-0.09307399999999788"
        ],
        [
         "2",
         "0.0010000000000000002",
         "-0.013587999999998601",
         "-0.009650000000000603",
         "-0.009651999999999106"
        ],
        [
         "3",
         "0.00010000000000000002",
         "-0.008838999999998265",
         "-0.00843399999999761",
         "-0.00843399999999761"
        ],
        [
         "4",
         "1.0000000000000003e-05",
         "0.030857000000001022",
         "0.0309039999999996",
         "0.0309039999999996"
        ]
       ],
       "shape": {
        "columns": 4,
        "rows": 5
       }
      },
      "text/html": [
       "<div>\n",
       "<style scoped>\n",
       "    .dataframe tbody tr th:only-of-type {\n",
       "        vertical-align: middle;\n",
       "    }\n",
       "\n",
       "    .dataframe tbody tr th {\n",
       "        vertical-align: top;\n",
       "    }\n",
       "\n",
       "    .dataframe thead th {\n",
       "        text-align: right;\n",
       "    }\n",
       "</style>\n",
       "<table border=\"1\" class=\"dataframe\">\n",
       "  <thead>\n",
       "    <tr style=\"text-align: right;\">\n",
       "      <th></th>\n",
       "      <th>timestep</th>\n",
       "      <th>euler</th>\n",
       "      <th>trapezoid</th>\n",
       "      <th>rk4</th>\n",
       "    </tr>\n",
       "  </thead>\n",
       "  <tbody>\n",
       "    <tr>\n",
       "      <th>0</th>\n",
       "      <td>0.10000</td>\n",
       "      <td>-1.337292</td>\n",
       "      <td>-0.911421</td>\n",
       "      <td>-0.925772</td>\n",
       "    </tr>\n",
       "    <tr>\n",
       "      <th>1</th>\n",
       "      <td>0.01000</td>\n",
       "      <td>-0.132521</td>\n",
       "      <td>-0.092961</td>\n",
       "      <td>-0.093074</td>\n",
       "    </tr>\n",
       "    <tr>\n",
       "      <th>2</th>\n",
       "      <td>0.00100</td>\n",
       "      <td>-0.013588</td>\n",
       "      <td>-0.009650</td>\n",
       "      <td>-0.009652</td>\n",
       "    </tr>\n",
       "    <tr>\n",
       "      <th>3</th>\n",
       "      <td>0.00010</td>\n",
       "      <td>-0.008839</td>\n",
       "      <td>-0.008434</td>\n",
       "      <td>-0.008434</td>\n",
       "    </tr>\n",
       "    <tr>\n",
       "      <th>4</th>\n",
       "      <td>0.00001</td>\n",
       "      <td>0.030857</td>\n",
       "      <td>0.030904</td>\n",
       "      <td>0.030904</td>\n",
       "    </tr>\n",
       "  </tbody>\n",
       "</table>\n",
       "</div>"
      ],
      "text/plain": [
       "   timestep     euler  trapezoid       rk4\n",
       "0   0.10000 -1.337292  -0.911421 -0.925772\n",
       "1   0.01000 -0.132521  -0.092961 -0.093074\n",
       "2   0.00100 -0.013588  -0.009650 -0.009652\n",
       "3   0.00010 -0.008839  -0.008434 -0.008434\n",
       "4   0.00001  0.030857   0.030904  0.030904"
      ]
     },
     "execution_count": 18,
     "metadata": {},
     "output_type": "execute_result"
    }
   ],
   "source": [
    "area_err_df = pd.DataFrame(area_error)\n",
    "area_err_df"
   ]
  },
  {
   "cell_type": "code",
   "execution_count": 19,
   "id": "27c1aa2f",
   "metadata": {},
   "outputs": [
    {
     "data": {
      "image/png": "[encoded data removed]",
      "text/plain": [
       "<Figure size 640x480 with 1 Axes>"
      ]
     },
     "metadata": {},
     "output_type": "display_data"
    }
   ],
   "source": [
    "plot_err(area_err_df).show()"
   ]
  },
  {
   "cell_type": "code",
   "execution_count": null,
   "id": "57e88c3c",
   "metadata": {},
   "outputs": [],
   "source": []
  }
 ],
 "metadata": {
  "kernelspec": {
   "display_name": ".venv",
   "language": "python",
   "name": "python3"
  },
  "language_info": {
   "codemirror_mode": {
    "name": "ipython",
    "version": 3
   },
   "file_extension": ".py",
   "mimetype": "text/x-python",
   "name": "python",
   "nbconvert_exporter": "python",
   "pygments_lexer": "ipython3",
   "version": "3.13.5"
  }
 },
 "nbformat": 4,
 "nbformat_minor": 5
}
